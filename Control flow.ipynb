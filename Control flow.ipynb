{
 "cells": [
  {
   "cell_type": "code",
   "execution_count": 12,
   "id": "d8f684d2-e303-4c7b-a126-dd3be2437c63",
   "metadata": {},
   "outputs": [
    {
     "name": "stdin",
     "output_type": "stream",
     "text": [
      "Enter a number:  8\n"
     ]
    },
    {
     "name": "stdout",
     "output_type": "stream",
     "text": [
      "Positive number\n"
     ]
    }
   ],
   "source": [
    "#Python problems Assignment problems...question no 1(basic level)\n",
    "#Python program to check if a given number is positive or negative.\n",
    "num = float(input(\"Enter a number: \"))\n",
    "if num > 0:\n",
    "    print(\"Positive number\")\n",
    "elif num < 0:\n",
    "    print(\"Negative number\")\n",
    "else:\n",
    "    print(\"Zero\")\n"
   ]
  },
  {
   "cell_type": "code",
   "execution_count": 13,
   "id": "7a468a34-897f-4035-97f1-d41f5dd4cb03",
   "metadata": {},
   "outputs": [
    {
     "name": "stdin",
     "output_type": "stream",
     "text": [
      "Enter your age:  23\n"
     ]
    },
    {
     "name": "stdout",
     "output_type": "stream",
     "text": [
      "You are eligible to vote!\n"
     ]
    }
   ],
   "source": [
    "#Python problems Assignment problems...question no 2(basic level)\n",
    "# a program that determines if a person is eligible to vote based on their age.\n",
    "age = int(input(\"Enter your age: \"))\n",
    "if age >= 18:\n",
    "    print(\"You are eligible to vote!\")\n",
    "else:\n",
    "    print(\"You are not eligible to vote yet.\")\n"
   ]
  },
  {
   "cell_type": "code",
   "execution_count": 14,
   "id": "c3e4f1ac-f493-4b8f-8b0d-5fee72409b45",
   "metadata": {},
   "outputs": [
    {
     "name": "stdin",
     "output_type": "stream",
     "text": [
      "Enter first number:  3\n",
      "Enter second number:  5\n"
     ]
    },
    {
     "name": "stdout",
     "output_type": "stream",
     "text": [
      "Maximum is: 5.0\n"
     ]
    }
   ],
   "source": [
    "#Python problems Assignment problems...question no 3(basic level)\n",
    "# a program to find the maximum of two numbers using if-else statements.\n",
    "num1 = float(input(\"Enter first number: \"))\n",
    "num2 = float(input(\"Enter second number: \"))\n",
    "if num1 > num2:\n",
    "    print(\"Maximum is:\", num1)\n",
    "else:\n",
    "    print(\"Maximum is:\", num2)\n"
   ]
  },
  {
   "cell_type": "code",
   "execution_count": 15,
   "id": "c359d2a9-b3ae-4485-a728-b5f862bf3c77",
   "metadata": {},
   "outputs": [
    {
     "name": "stdin",
     "output_type": "stream",
     "text": [
      "Enter a year:  2005\n"
     ]
    },
    {
     "name": "stdout",
     "output_type": "stream",
     "text": [
      "Not a leap year\n"
     ]
    }
   ],
   "source": [
    "#Python problems Assignment problems...question no 4(basic level)\n",
    "#a Python script to classify a given year as a leap year or not.\n",
    "year = int(input(\"Enter a year: \"))\n",
    "if (year % 4 == 0 and year % 100 != 0) or (year % 400 == 0):\n",
    "    print(\"Leap year\")\n",
    "else:\n",
    "    print(\"Not a leap year\")\n"
   ]
  },
  {
   "cell_type": "code",
   "execution_count": 16,
   "id": "0459794f-73e0-4f16-929c-5de489dab2e9",
   "metadata": {},
   "outputs": [
    {
     "name": "stdin",
     "output_type": "stream",
     "text": [
      "Enter a character:  8\n"
     ]
    },
    {
     "name": "stdout",
     "output_type": "stream",
     "text": [
      "Consonant\n"
     ]
    }
   ],
   "source": [
    "#Python problems Assignment problems...question no 5(basic level)\n",
    "# a program that checks whether a character is a vowel or a consonant.\n",
    "char = input(\"Enter a character: \")\n",
    "if char.lower() in 'aeiou':\n",
    "    print(\"Vowel\")\n",
    "else:\n",
    "    print(\"Consonant\")\n"
   ]
  },
  {
   "cell_type": "code",
   "execution_count": 17,
   "id": "d2401787-3082-40f6-bcb9-d1912bc07151",
   "metadata": {},
   "outputs": [
    {
     "name": "stdin",
     "output_type": "stream",
     "text": [
      "Enter a number:  8\n"
     ]
    },
    {
     "name": "stdout",
     "output_type": "stream",
     "text": [
      "Even number\n"
     ]
    }
   ],
   "source": [
    "#Python problems Assignment problems...question no 6(basic level)\n",
    "#a program to determine whether a given number is even or odd.\n",
    "num = int(input(\"Enter a number: \"))\n",
    "if num % 2 == 0:\n",
    "    print(\"Even number\")\n",
    "else:\n",
    "    print(\"Odd number\")\n",
    "\n",
    "    "
   ]
  },
  {
   "cell_type": "code",
   "execution_count": 18,
   "id": "3323257e-455f-4aa7-a6e5-612d7428cd88",
   "metadata": {},
   "outputs": [
    {
     "name": "stdin",
     "output_type": "stream",
     "text": [
      "Enter a number:  -7\n"
     ]
    },
    {
     "name": "stdout",
     "output_type": "stream",
     "text": [
      "Absolute value: 7.0\n"
     ]
    }
   ],
   "source": [
    "#Python problems Assignment problems...question no 7(basic level)\n",
    "#a Python function to calculate the absolute value of a number without using the `abs()` function.\n",
    "num = float(input(\"Enter a number: \"))\n",
    "if num >= 0:\n",
    "    print(\"Absolute value:\", num)\n",
    "else:\n",
    "    print(\"Absolute value:\", -num)\n"
   ]
  },
  {
   "cell_type": "code",
   "execution_count": 19,
   "id": "7fe0b6af-aae7-4d62-9860-bd261cb03d49",
   "metadata": {},
   "outputs": [
    {
     "name": "stdin",
     "output_type": "stream",
     "text": [
      "Enter first number:  8\n",
      "Enter second number:  5\n",
      "Enter third number:  9\n"
     ]
    },
    {
     "name": "stdout",
     "output_type": "stream",
     "text": [
      "Largest number is: 9.0\n"
     ]
    }
   ],
   "source": [
    "#Python problems Assignment problems...question no 8(basic level)\n",
    "#a program that determines the largest of three given numbers using if-else statements.\n",
    "num1 = float(input(\"Enter first number: \"))\n",
    "num2 = float(input(\"Enter second number: \"))\n",
    "num3 = float(input(\"Enter third number: \"))\n",
    "max_num = num1\n",
    "if num2 > max_num:\n",
    "    max_num = num2\n",
    "if num3 > max_num:\n",
    "    max_num = num3\n",
    "print(\"Largest number is:\", max_num)\n"
   ]
  },
  {
   "cell_type": "code",
   "execution_count": 20,
   "id": "7d938ac6-4fc6-4ac1-8025-5c736352dec7",
   "metadata": {},
   "outputs": [
    {
     "name": "stdin",
     "output_type": "stream",
     "text": [
      "Enter a string:  mom\n"
     ]
    },
    {
     "name": "stdout",
     "output_type": "stream",
     "text": [
      "Palindrome\n"
     ]
    }
   ],
   "source": [
    "#Python problems Assignment problems...question no 9(basic level)\n",
    "#a program that checks if a given string is a palindrome.\n",
    "string = input(\"Enter a string: \")\n",
    "if string == string[::-1]:\n",
    "    print(\"Palindrome\")\n",
    "else:\n",
    "    print(\"Not a palindrome\")\n"
   ]
  },
  {
   "cell_type": "code",
   "execution_count": 21,
   "id": "5b1fba69-b467-42ad-bdea-515d7b611540",
   "metadata": {},
   "outputs": [
    {
     "name": "stdin",
     "output_type": "stream",
     "text": [
      "Enter student's score:  57\n"
     ]
    },
    {
     "name": "stdout",
     "output_type": "stream",
     "text": [
      "Grade: F\n"
     ]
    }
   ],
   "source": [
    "#Python problems Assignment problems...question no 10(basic level)\n",
    "#a Python program to calculate the grade based on a student's score.\n",
    "score = float(input(\"Enter student's score: \"))\n",
    "if score >= 90:\n",
    "    print(\"Grade: A\")\n",
    "elif score >= 80:\n",
    "    print(\"Grade: B\")\n",
    "elif score >= 70:\n",
    "    print(\"Grade: C\")\n",
    "elif score >= 60:\n",
    "    print(\"Grade: D\")\n",
    "else:\n",
    "    print(\"Grade: F\")\n"
   ]
  },
  {
   "cell_type": "code",
   "execution_count": 15,
   "id": "83dd4694-94e9-4559-b26d-15c8994623b0",
   "metadata": {},
   "outputs": [
    {
     "name": "stdin",
     "output_type": "stream",
     "text": [
      "Enter first number:  3\n",
      "Enter second number:  33\n",
      "Enter third number:  44\n"
     ]
    },
    {
     "name": "stdout",
     "output_type": "stream",
     "text": [
      "Largest number: 44.0\n"
     ]
    }
   ],
   "source": [
    "#Python problems Assignment problems...question no 11(nested if else level)\n",
    "#a program to find the largest among three numbers using nested if-else statements.\n",
    "num1 = float(input(\"Enter first number: \"))\n",
    "num2 = float(input(\"Enter second number: \"))\n",
    "num3 = float(input(\"Enter third number: \"))\n",
    "\n",
    "if num1 >= num2:\n",
    "    if num1 >= num3:\n",
    "        print(\"Largest number:\", num1)\n",
    "    else:\n",
    "        print(\"Largest number:\", num3)\n",
    "else:\n",
    "    if num2 >= num3:\n",
    "        print(\"Largest number:\", num2)\n",
    "    else:\n",
    "        print(\"Largest number:\", num3)\n"
   ]
  },
  {
   "cell_type": "code",
   "execution_count": 16,
   "id": "8b210ddf-3bd0-43c4-a8d1-e13d03dfe3b1",
   "metadata": {},
   "outputs": [
    {
     "name": "stdin",
     "output_type": "stream",
     "text": [
      "Enter length of side 1:  23\n",
      "Enter length of side 2:  23\n",
      "Enter length of side 3:  23\n"
     ]
    },
    {
     "name": "stdout",
     "output_type": "stream",
     "text": [
      "Equilateral triangle\n"
     ]
    }
   ],
   "source": [
    "#Python problems Assignment problems...question no 12(nested if else level)\n",
    "#a program to find the largest among three numbers using nested if-else statements.\n",
    "side1 = float(input(\"Enter length of side 1: \"))\n",
    "side2 = float(input(\"Enter length of side 2: \"))\n",
    "side3 = float(input(\"Enter length of side 3: \"))\n",
    "\n",
    "if side1 == side2 == side3:\n",
    "    print(\"Equilateral triangle\")\n",
    "elif side1 == side2 or side2 == side3 or side1 == side3:\n",
    "    print(\"Isosceles triangle\")\n",
    "else:\n",
    "    print(\"Scalene triangle\")\n"
   ]
  },
  {
   "cell_type": "code",
   "execution_count": 17,
   "id": "eb1a8644-73aa-4181-8268-a6dc4e0e246a",
   "metadata": {},
   "outputs": [
    {
     "name": "stdin",
     "output_type": "stream",
     "text": [
      "Enter a year:  2008\n"
     ]
    },
    {
     "name": "stdout",
     "output_type": "stream",
     "text": [
      "Leap year\n"
     ]
    }
   ],
   "source": [
    "#Python problems Assignment problems...question no 13(nested if else level)\n",
    "# a program that checks if a year is a leap year and also if it is a century year.\n",
    "year = int(input(\"Enter a year: \"))\n",
    "if (year % 4 == 0 and year % 100 != 0) or (year % 400 == 0):\n",
    "    print(\"Leap year\")\n",
    "    if year % 100 == 0:\n",
    "        print(\"Century year\")\n",
    "else:\n",
    "    print(\"Not a leap year\")\n"
   ]
  },
  {
   "cell_type": "code",
   "execution_count": 18,
   "id": "0abd00d1-9d2e-453e-b185-220d2020ca59",
   "metadata": {},
   "outputs": [
    {
     "name": "stdin",
     "output_type": "stream",
     "text": [
      "Enter a number:  78\n"
     ]
    },
    {
     "name": "stdout",
     "output_type": "stream",
     "text": [
      "Positive number\n"
     ]
    }
   ],
   "source": [
    "#Python problems Assignment problems...question no 14(nested if else level)\n",
    "# a Python script to determine if a number is positive, negative, or zero.\n",
    "num = float(input(\"Enter a number: \"))\n",
    "if num > 0:\n",
    "    print(\"Positive number\")\n",
    "elif num < 0:\n",
    "    print(\"Negative number\")\n",
    "else:\n",
    "    print(\"Zero\")\n"
   ]
  },
  {
   "cell_type": "code",
   "execution_count": 19,
   "id": "795c0b3b-9a68-4203-8360-84a6b8748ff1",
   "metadata": {},
   "outputs": [
    {
     "name": "stdin",
     "output_type": "stream",
     "text": [
      "Enter age:  32\n"
     ]
    },
    {
     "name": "stdout",
     "output_type": "stream",
     "text": [
      "Not a teenager\n"
     ]
    }
   ],
   "source": [
    "#Python problems Assignment problems...question no 15(nested if else level)\n",
    "# a program to check if a person is a teenager (between 13 and 19 years old).\n",
    "age = int(input(\"Enter age: \"))\n",
    "if 13 <= age <= 19:\n",
    "    print(\"Teenager\")\n",
    "else:\n",
    "    print(\"Not a teenager\")\n"
   ]
  },
  {
   "cell_type": "code",
   "execution_count": 11,
   "id": "b543aaa0-a1b9-44a9-b353-a071ba1f168b",
   "metadata": {},
   "outputs": [
    {
     "name": "stdin",
     "output_type": "stream",
     "text": [
      "Enter the angle measure:  65\n"
     ]
    },
    {
     "name": "stdout",
     "output_type": "stream",
     "text": [
      "Acute angle\n"
     ]
    }
   ],
   "source": [
    "#Python problems Assignment problems...question no 16(nested if else level)\n",
    "# a program that determines the type of angle based on its measure (acute, obtuse, or right).\n",
    "angle = float(input(\"Enter the angle measure: \"))\n",
    "if angle < 90:\n",
    "    print(\"Acute angle\")\n",
    "elif angle == 90:\n",
    "    print(\"Right angle\")\n",
    "else:\n",
    "    print(\"Obtuse angle\")\n"
   ]
  },
  {
   "cell_type": "code",
   "execution_count": 20,
   "id": "6a907aea-12ef-4683-8c96-83cc40e613a7",
   "metadata": {},
   "outputs": [
    {
     "name": "stdin",
     "output_type": "stream",
     "text": [
      "Enter coefficient a:  34\n",
      "Enter coefficient b:  87\n",
      "Enter coefficient c:  22\n"
     ]
    },
    {
     "name": "stdout",
     "output_type": "stream",
     "text": [
      "Roots are: -0.28450692496571484 and -2.27431660444605\n"
     ]
    }
   ],
   "source": [
    "#Python problems Assignment problems...question no 17(nested if else level)\n",
    "#a Python program to calculate the roots of a quadratic equation.\n",
    "import math\n",
    "\n",
    "a = float(input(\"Enter coefficient a: \"))\n",
    "b = float(input(\"Enter coefficient b: \"))\n",
    "c = float(input(\"Enter coefficient c: \"))\n",
    "\n",
    "d = b**2 - 4*a*c\n",
    "if d > 0:\n",
    "    root1 = (-b + math.sqrt(d)) / (2*a)\n",
    "    root2 = (-b - math.sqrt(d)) / (2*a)\n",
    "    print(\"Roots are:\", root1, \"and\", root2)\n",
    "elif d == 0:\n",
    "    root = -b / (2*a)\n",
    "    print(\"Root is:\", root)\n",
    "else:\n",
    "    print(\"No real roots\")\n"
   ]
  },
  {
   "cell_type": "code",
   "execution_count": 21,
   "id": "4d695cb0-a03a-4729-a9c7-8af0187c1de3",
   "metadata": {},
   "outputs": [
    {
     "name": "stdin",
     "output_type": "stream",
     "text": [
      "Enter day number (1 for Monday, 2 for Tuesday, etc.):  5\n"
     ]
    },
    {
     "name": "stdout",
     "output_type": "stream",
     "text": [
      "Day is: Friday\n"
     ]
    }
   ],
   "source": [
    "#Python problems Assignment problems...question no 18(nested if else level)\n",
    "#a program to determine the day of the week based on a user-provided number (1 for Monday, 2for Tuesday, etc.).\n",
    "day_num = int(input(\"Enter day number (1 for Monday, 2 for Tuesday, etc.): \"))\n",
    "if 1 <= day_num <= 7:\n",
    "    days = [\"Monday\", \"Tuesday\", \"Wednesday\", \"Thursday\", \"Friday\", \"Saturday\", \"Sunday\"]\n",
    "    print(\"Day is:\", days[day_num - 1])\n",
    "else:\n",
    "    print(\"Invalid input\")\n"
   ]
  },
  {
   "cell_type": "code",
   "execution_count": 14,
   "id": "51a6ed5a-796a-4dd3-bf9f-f587a4a8cddd",
   "metadata": {},
   "outputs": [
    {
     "name": "stdin",
     "output_type": "stream",
     "text": [
      "Enter a year:  2007\n"
     ]
    },
    {
     "name": "stdout",
     "output_type": "stream",
     "text": [
      "Not a leap year\n"
     ]
    }
   ],
   "source": [
    "#Python problems Assignment problems...question no 19(nested if else level)\n",
    "# a program that determines if a year is a leap year and also if it is evenly divisible by 400.\n",
    "year = int(input(\"Enter a year: \"))\n",
    "if year % 4 == 0 and (year % 100 != 0 or year % 400 == 0):\n",
    "    print(\"Leap year\")\n",
    "    if year % 400 == 0:\n",
    "        print(\"Divisible by 400\")\n",
    "else:\n",
    "    print(\"Not a leap year\")\n"
   ]
  },
  {
   "cell_type": "code",
   "execution_count": 12,
   "id": "005ccce4-e77e-4d06-b230-dd1a9f5f5129",
   "metadata": {},
   "outputs": [
    {
     "name": "stdin",
     "output_type": "stream",
     "text": [
      "Enter a number:  67\n"
     ]
    },
    {
     "name": "stdout",
     "output_type": "stream",
     "text": [
      "Prime number\n"
     ]
    }
   ],
   "source": [
    "#Python problems Assignment problems...question no 20(nested if else level)\n",
    "#a program that checks if a given number is prime or not using nested if-else statements.\n",
    "num = int(input(\"Enter a number: \"))\n",
    "if num > 1:\n",
    "    for i in range(2, int(num**0.5) + 1):\n",
    "        if num % i == 0:\n",
    "            print(\"Not a prime number\")\n",
    "            break\n",
    "    else:\n",
    "        print(\"Prime number\")\n",
    "else:\n",
    "    print(\"Not a prime number\")\n"
   ]
  },
  {
   "cell_type": "code",
   "execution_count": 41,
   "id": "78b3cc27-063d-484b-80fb-c6f645fc0bfa",
   "metadata": {},
   "outputs": [
    {
     "name": "stdin",
     "output_type": "stream",
     "text": [
      "Enter the score:  65\n"
     ]
    },
    {
     "name": "stdout",
     "output_type": "stream",
     "text": [
      "Grade: D\n"
     ]
    }
   ],
   "source": [
    "#Python problems Assignment problems...question no 21(elif level)\n",
    "#Assign grades based on different score ranges:\n",
    "score = float(input(\"Enter the score: \"))\n",
    "if 90 <= score <= 100:\n",
    "    print(\"Grade: A\")\n",
    "elif 80 <= score < 90:\n",
    "    print(\"Grade: B\")\n",
    "elif 70 <= score < 80:\n",
    "    print(\"Grade: C\")\n",
    "elif 60 <= score < 70:\n",
    "    print(\"Grade: D\")\n",
    "else:\n",
    "    print(\"Grade: F\")\n"
   ]
  },
  {
   "cell_type": "code",
   "execution_count": 40,
   "id": "1b22abcd-26db-4e37-9973-696ddd8057f0",
   "metadata": {},
   "outputs": [
    {
     "name": "stdin",
     "output_type": "stream",
     "text": [
      "Enter angle 1:  7\n",
      "Enter angle 2:  45\n",
      "Enter angle 3:  8\n"
     ]
    },
    {
     "name": "stdout",
     "output_type": "stream",
     "text": [
      "Not a valid triangle\n"
     ]
    }
   ],
   "source": [
    "#Python problems Assignment problems...question no 22(elif level)\n",
    "#Determine the type of triangle based on its angles:\n",
    "\n",
    "angle1 = float(input(\"Enter angle 1: \"))\n",
    "angle2 = float(input(\"Enter angle 2: \"))\n",
    "angle3 = float(input(\"Enter angle 3: \"))\n",
    "\n",
    "if angle1 + angle2 + angle3 == 180:\n",
    "    if angle1 == angle2 == angle3 == 60:\n",
    "        print(\"Equilateral triangle\")\n",
    "    elif angle1 == angle2 or angle2 == angle3 or angle1 == angle3:\n",
    "        print(\"Isosceles triangle\")\n",
    "    else:\n",
    "        print(\"Scalene triangle\")\n",
    "else:\n",
    "    print(\"Not a valid triangle\")\n"
   ]
  },
  {
   "cell_type": "code",
   "execution_count": 38,
   "id": "a1f6fb4b-9808-4c1b-bf89-71a9dcd2d4c4",
   "metadata": {},
   "outputs": [
    {
     "name": "stdin",
     "output_type": "stream",
     "text": [
      "Enter weight in kg:  65\n",
      "Enter height in meters:  4\n"
     ]
    },
    {
     "name": "stdout",
     "output_type": "stream",
     "text": [
      "Underweight\n"
     ]
    }
   ],
   "source": [
    "#Python problems Assignment problems...question no 23(elif level)\n",
    "#Categorize a person's BMI:\n",
    "weight = float(input(\"Enter weight in kg: \"))\n",
    "height = float(input(\"Enter height in meters: \"))\n",
    "\n",
    "bmi = weight / (height**2)\n",
    "\n",
    "if bmi < 18.5:\n",
    "    print(\"Underweight\")\n",
    "elif 18.5 <= bmi < 24.9:\n",
    "    print(\"Normal weight\")\n",
    "elif 25 <= bmi < 29.9:\n",
    "    print(\"Overweight\")\n",
    "else:\n",
    "    print(\"Obese\")\n"
   ]
  },
  {
   "cell_type": "code",
   "execution_count": 39,
   "id": "8c0d398c-edfa-4a62-8076-3e3c76eb2a4c",
   "metadata": {},
   "outputs": [
    {
     "name": "stdin",
     "output_type": "stream",
     "text": [
      "Enter a number:  7\n"
     ]
    },
    {
     "name": "stdout",
     "output_type": "stream",
     "text": [
      "Positive number\n"
     ]
    }
   ],
   "source": [
    "#Python problems Assignment problems...question no 24(elif level)\n",
    "#Determine whether a number is positive, negative, or zero:\n",
    "num = float(input(\"Enter a number: \"))\n",
    "\n",
    "if num > 0:\n",
    "    print(\"Positive number\")\n",
    "elif num < 0:\n",
    "    print(\"Negative number\")\n",
    "else:\n",
    "    print(\"Zero\")\n"
   ]
  },
  {
   "cell_type": "code",
   "execution_count": 37,
   "id": "52d2caf4-025e-468e-acbb-fec08fa7a04c",
   "metadata": {},
   "outputs": [
    {
     "name": "stdin",
     "output_type": "stream",
     "text": [
      "Enter a character:  3\n"
     ]
    },
    {
     "name": "stdout",
     "output_type": "stream",
     "text": [
      "Special character\n"
     ]
    }
   ],
   "source": [
    "#Python problems Assignment problems...question no 25(elif level)\n",
    "#Determine the type of character (uppercase, lowercase, or special):\n",
    "char = input(\"Enter a character: \")\n",
    "\n",
    "if char.isalpha():\n",
    "    if char.isupper():\n",
    "        print(\"Uppercase letter\")\n",
    "    else:\n",
    "        print(\"Lowercase letter\")\n",
    "else:\n",
    "    print(\"Special character\")\n"
   ]
  },
  {
   "cell_type": "code",
   "execution_count": 36,
   "id": "103d7832-1c68-41ad-b8cf-9f79eb7926f8",
   "metadata": {},
   "outputs": [
    {
     "name": "stdin",
     "output_type": "stream",
     "text": [
      "Enter purchase amount:  6767\n"
     ]
    },
    {
     "name": "stdout",
     "output_type": "stream",
     "text": [
      "Discounted price: 6090.30\n"
     ]
    }
   ],
   "source": [
    "#Python problems Assignment problems...question no 26(elif level)\n",
    "#Calculate discounted price based on different purchase amounts\n",
    "amount = float(input(\"Enter purchase amount: \"))\n",
    "\n",
    "if amount >= 5000:\n",
    "    discount = amount * 0.1\n",
    "    discounted_price = amount - discount\n",
    "    print(f\"Discounted price: {discounted_price:.2f}\")\n",
    "else:\n",
    "    print(\"No discount applicable\")\n"
   ]
  },
  {
   "cell_type": "code",
   "execution_count": 35,
   "id": "971b01c2-de30-4a0a-8a40-5c29f01a6afc",
   "metadata": {},
   "outputs": [
    {
     "name": "stdin",
     "output_type": "stream",
     "text": [
      "Enter units consumed:  45\n"
     ]
    },
    {
     "name": "stdout",
     "output_type": "stream",
     "text": [
      "Electricity bill: 135.00\n"
     ]
    }
   ],
   "source": [
    "#Python problems Assignment problems...question no 27(elif level)\n",
    "#Calculate electricity bill based on consumption slabs:\n",
    "units = float(input(\"Enter units consumed: \"))\n",
    "\n",
    "if units <= 50:\n",
    "    bill = units * 3\n",
    "elif 50 < units <= 100:\n",
    "    bill = 50 * 3 + (units - 50) * 4\n",
    "elif 100 < units <= 200:\n",
    "    bill = 50 * 3 + 50 * 4 + (units - 100) * 6\n",
    "else:\n",
    "    bill = 50 * 3 + 50 * 4 + 100 * 6 + (units - 200) * 8\n",
    "\n",
    "print(f\"Electricity bill: {bill:.2f}\")\n"
   ]
  },
  {
   "cell_type": "code",
   "execution_count": 34,
   "id": "9f7aa26f-c672-4acf-888d-a74d948068fc",
   "metadata": {},
   "outputs": [
    {
     "name": "stdin",
     "output_type": "stream",
     "text": [
      "Enter number of sides:  3\n",
      "Enter number of angles:  7\n"
     ]
    },
    {
     "name": "stdout",
     "output_type": "stream",
     "text": [
      "Not a quadrilateral\n"
     ]
    }
   ],
   "source": [
    "#Python problems Assignment problems...question no 28(elif level)\n",
    "#Determine the type of quadrilateral based on its angles and sides:\n",
    "sides = int(input(\"Enter number of sides: \"))\n",
    "angles = int(input(\"Enter number of angles: \"))\n",
    "\n",
    "if sides == 4 and angles == 4:\n",
    "    print(\"Quadrilateral\")\n",
    "    if angles == 4 and sides == 4:\n",
    "        print(\"Regular quadrilateral\")\n",
    "    else:\n",
    "        print(\"Irregular quadrilateral\")\n",
    "else:\n",
    "    print(\"Not a quadrilateral\")\n"
   ]
  },
  {
   "cell_type": "code",
   "execution_count": 33,
   "id": "15dc22fd-0f62-473c-8589-8e8d5a643eb8",
   "metadata": {},
   "outputs": [
    {
     "name": "stdin",
     "output_type": "stream",
     "text": [
      "Enter month number:  7\n"
     ]
    },
    {
     "name": "stdout",
     "output_type": "stream",
     "text": [
      "Summer\n"
     ]
    }
   ],
   "source": [
    "#Python problems Assignment problems...question no 29(elif level)\n",
    "#Determine the season based on a user-provided month:\n",
    "month = int(input(\"Enter month number: \"))\n",
    "\n",
    "if 3 <= month <= 5:\n",
    "    print(\"Spring\")\n",
    "elif 6 <= month <= 8:\n",
    "    print(\"Summer\")\n",
    "elif 9 <= month <= 11:\n",
    "    print(\"Autumn\")\n",
    "elif month == 12 or 1 <= month <= 2:\n",
    "    print(\"Winter\")\n",
    "else:\n",
    "    print(\"Invalid month\")\n"
   ]
  },
  {
   "cell_type": "code",
   "execution_count": 32,
   "id": "ddb64ec3-5485-4b8e-affc-4e7fbf89b7d8",
   "metadata": {},
   "outputs": [
    {
     "name": "stdin",
     "output_type": "stream",
     "text": [
      "Enter year:  2008\n",
      "Enter month number:  6\n"
     ]
    },
    {
     "name": "stdout",
     "output_type": "stream",
     "text": [
      "Leap year\n",
      "30 days\n"
     ]
    }
   ],
   "source": [
    "#Python problems Assignment problems...question no 30(elif level)\n",
    "#Determine the type of year (leap or common) and month (30 or 31 days):\n",
    "\n",
    "year = int(input(\"Enter year: \"))\n",
    "month = int(input(\"Enter month number: \"))\n",
    "\n",
    "if (year % 4 == 0 and year % 100 != 0) or (year % 400 == 0):\n",
    "    print(\"Leap year\")\n",
    "else:\n",
    "    print(\"Common year\")\n",
    "\n",
    "if month in [1, 3, 5, 7, 8, 10, 12]:\n",
    "    print(\"31 days\")\n",
    "elif month in [4, 6, 9, 11]:\n",
    "    print(\"30 days\")\n",
    "elif month == 2:\n",
    "    if (year % 4 == 0 and year % 100 != 0) or (year % 400 == 0):\n",
    "        print(\"29 days\")\n",
    "    else:\n",
    "        print(\"28 days\")\n",
    "else:\n",
    "    print(\"Invalid month\")\n"
   ]
  },
  {
   "cell_type": "code",
   "execution_count": 1,
   "id": "2b34bef8-37a4-4172-b637-9acb6d4082f9",
   "metadata": {},
   "outputs": [
    {
     "name": "stdin",
     "output_type": "stream",
     "text": [
      "Enter a number:  6\n"
     ]
    },
    {
     "name": "stdout",
     "output_type": "stream",
     "text": [
      "Positive number\n"
     ]
    }
   ],
   "source": [
    "#Python problems Assignment problems...question no 1(basic level)\n",
    "#a Python program that checks if a given number is positive, negative, or zero.\n",
    "num = float(input(\"Enter a number: \"))\n",
    "\n",
    "if num > 0:\n",
    "    print(\"Positive number\")\n",
    "elif num < 0:\n",
    "    print(\"Negative number\")\n",
    "else:\n",
    "    print(\"Zero\")\n"
   ]
  },
  {
   "cell_type": "code",
   "execution_count": 2,
   "id": "d145c855-536a-4b7b-8e54-0836347da029",
   "metadata": {},
   "outputs": [
    {
     "name": "stdin",
     "output_type": "stream",
     "text": [
      "Enter your age:  23\n"
     ]
    },
    {
     "name": "stdout",
     "output_type": "stream",
     "text": [
      "You are eligible to vote.\n"
     ]
    }
   ],
   "source": [
    "#Python problems Assignment problems...question no 2(basic level)\n",
    "#a program to determine if a person is eligible to vote based on their age.\n",
    "age = int(input(\"Enter your age: \"))\n",
    "\n",
    "if age >= 18:\n",
    "    print(\"You are eligible to vote.\")\n",
    "else:\n",
    "    print(\"You are not eligible to vote yet.\")\n"
   ]
  },
  {
   "cell_type": "code",
   "execution_count": 3,
   "id": "6524cf3b-d5b3-416b-b268-b8eaa61acd22",
   "metadata": {},
   "outputs": [
    {
     "name": "stdin",
     "output_type": "stream",
     "text": [
      "Enter first number:  35\n",
      "Enter second number:  78\n"
     ]
    },
    {
     "name": "stdout",
     "output_type": "stream",
     "text": [
      "78.0 is the maximum.\n"
     ]
    }
   ],
   "source": [
    "#Python problems Assignment problems...question no 3(basic level)\n",
    "# a program to find the maximum of two given numbers using conditional statements.\n",
    "num1 = float(input(\"Enter first number: \"))\n",
    "num2 = float(input(\"Enter second number: \"))\n",
    "\n",
    "if num1 > num2:\n",
    "    print(f\"{num1} is the maximum.\")\n",
    "elif num2 > num1:\n",
    "    print(f\"{num2} is the maximum.\")\n",
    "else:\n",
    "    print(\"Both numbers are equal.\")\n"
   ]
  },
  {
   "cell_type": "code",
   "execution_count": 4,
   "id": "f091a730-996e-4491-831c-3529c6529e8a",
   "metadata": {},
   "outputs": [
    {
     "name": "stdin",
     "output_type": "stream",
     "text": [
      "Enter the exam score:  78\n"
     ]
    },
    {
     "name": "stdout",
     "output_type": "stream",
     "text": [
      "Grade: C\n"
     ]
    }
   ],
   "source": [
    "#Python problems Assignment problems...question no 4(basic level)\n",
    "# program that calculates the grade of a student based on their exam score.\n",
    "score = float(input(\"Enter the exam score: \"))\n",
    "\n",
    "if score >= 90:\n",
    "    print(\"Grade: A\")\n",
    "elif 80 <= score < 90:\n",
    "    print(\"Grade: B\")\n",
    "elif 70 <= score < 80:\n",
    "    print(\"Grade: C\")\n",
    "elif 60 <= score < 70:\n",
    "    print(\"Grade: D\")\n",
    "else:\n",
    "    print(\"Grade: F\")\n"
   ]
  },
  {
   "cell_type": "code",
   "execution_count": 5,
   "id": "933c57a5-634b-488e-833b-5496acabaff3",
   "metadata": {},
   "outputs": [
    {
     "name": "stdin",
     "output_type": "stream",
     "text": [
      "Enter a year:  2009\n"
     ]
    },
    {
     "name": "stdout",
     "output_type": "stream",
     "text": [
      "2009 is not a leap year.\n"
     ]
    }
   ],
   "source": [
    "#Python problems Assignment problems...question no 5(basic level)\n",
    "#program that checks if a year is a leap year or not.\n",
    "year = int(input(\"Enter a year: \"))\n",
    "\n",
    "if (year % 4 == 0 and year % 100 != 0) or (year % 400 == 0):\n",
    "    print(f\"{year} is a leap year.\")\n",
    "else:\n",
    "    print(f\"{year} is not a leap year.\")\n"
   ]
  },
  {
   "cell_type": "code",
   "execution_count": 6,
   "id": "26c55704-ea8a-460a-a9ef-227cba0201c5",
   "metadata": {},
   "outputs": [
    {
     "name": "stdin",
     "output_type": "stream",
     "text": [
      "Enter side 1 length:  3\n",
      "Enter side 2 length:  7\n",
      "Enter side 3 length:  6\n"
     ]
    },
    {
     "name": "stdout",
     "output_type": "stream",
     "text": [
      "Scalene triangle\n"
     ]
    }
   ],
   "source": [
    "#Python problems Assignment problems...question no 6(basic level)\n",
    "#program to classify a triangle based on its sides' lengths.\n",
    "side1 = float(input(\"Enter side 1 length: \"))\n",
    "side2 = float(input(\"Enter side 2 length: \"))\n",
    "side3 = float(input(\"Enter side 3 length: \"))\n",
    "\n",
    "if side1 == side2 == side3:\n",
    "    print(\"Equilateral triangle\")\n",
    "elif side1 == side2 or side2 == side3 or side1 == side3:\n",
    "    print(\"Isosceles triangle\")\n",
    "else:\n",
    "    print(\"Scalene triangle\")\n"
   ]
  },
  {
   "cell_type": "code",
   "execution_count": 7,
   "id": "cdde82cc-d5d9-473c-87c7-365078862113",
   "metadata": {},
   "outputs": [
    {
     "name": "stdin",
     "output_type": "stream",
     "text": [
      "Enter first number:  45\n",
      "Enter second number:  89\n",
      "Enter third number:  45\n"
     ]
    },
    {
     "name": "stdout",
     "output_type": "stream",
     "text": [
      "The largest number is: 89.0\n"
     ]
    }
   ],
   "source": [
    "#Python problems Assignment problems...question no 7(basic level)\n",
    "#program that determines the largest of three given numbers.\n",
    "num1 = float(input(\"Enter first number: \"))\n",
    "num2 = float(input(\"Enter second number: \"))\n",
    "num3 = float(input(\"Enter third number: \"))\n",
    "\n",
    "max_num = max(num1, num2, num3)\n",
    "print(f\"The largest number is: {max_num}\")\n"
   ]
  },
  {
   "cell_type": "code",
   "execution_count": 8,
   "id": "4b7b58ce-4104-4b70-aedc-680214d28c94",
   "metadata": {},
   "outputs": [
    {
     "name": "stdin",
     "output_type": "stream",
     "text": [
      "Enter a character:  rt\n"
     ]
    },
    {
     "name": "stdout",
     "output_type": "stream",
     "text": [
      "Consonant\n"
     ]
    }
   ],
   "source": [
    "#Python problems Assignment problems...question no 8(basic level)\n",
    "#program that checks whether a character is a vowel or a consonant.\n",
    "char = input(\"Enter a character: \").lower()\n",
    "\n",
    "if char.isalpha():\n",
    "    if char in 'aeiou':\n",
    "        print(\"Vowel\")\n",
    "    else:\n",
    "        print(\"Consonant\")\n",
    "else:\n",
    "    print(\"Not a valid character.\")\n"
   ]
  },
  {
   "cell_type": "code",
   "execution_count": 9,
   "id": "48c1df6d-0196-4155-950d-f5c127da48b7",
   "metadata": {},
   "outputs": [
    {
     "name": "stdin",
     "output_type": "stream",
     "text": [
      "Enter total cost of items in the cart:  76\n"
     ]
    },
    {
     "name": "stdout",
     "output_type": "stream",
     "text": [
      "Total cost after discount: $76.00\n"
     ]
    }
   ],
   "source": [
    "#Python problems Assignment problems...question no 9(basic level)\n",
    "#program to calculate the total cost of a shopping cart based on discounts.\n",
    "total_cost = float(input(\"Enter total cost of items in the cart: \"))\n",
    "\n",
    "if total_cost >= 100:\n",
    "    discount = 0.1 * total_cost\n",
    "    total_cost -= discount\n",
    "\n",
    "print(f\"Total cost after discount: ${total_cost:.2f}\")\n"
   ]
  },
  {
   "cell_type": "code",
   "execution_count": 10,
   "id": "c4e23bcd-1f04-4aaa-a29f-d064a2ff0016",
   "metadata": {},
   "outputs": [
    {
     "name": "stdin",
     "output_type": "stream",
     "text": [
      "Enter a number:  876\n"
     ]
    },
    {
     "name": "stdout",
     "output_type": "stream",
     "text": [
      "Even number\n"
     ]
    }
   ],
   "source": [
    "#Python problems Assignment problems...question no 10(basic level)\n",
    "# program that checks if a given number is even or odd.\n",
    "num = int(input(\"Enter a number: \"))\n",
    "\n",
    "if num % 2 == 0:\n",
    "    print(\"Even number\")\n",
    "else:\n",
    "    print(\"Odd number\")\n"
   ]
  },
  {
   "cell_type": "code",
   "execution_count": 22,
   "id": "a93b0b2a-ed9d-4ff1-a1bd-9bd3f362a74c",
   "metadata": {},
   "outputs": [
    {
     "name": "stdin",
     "output_type": "stream",
     "text": [
      "Enter coefficient a:  5\n",
      "Enter coefficient b:  4\n",
      "Enter coefficient c:  7\n"
     ]
    },
    {
     "name": "stdout",
     "output_type": "stream",
     "text": [
      "The roots of the equation are: (-0.4-1.1135528725660042j) and (-0.4+1.1135528725660042j)\n"
     ]
    }
   ],
   "source": [
    "#Python problems Assignment problems...question no 11(intermediate level)\n",
    "#program that calculates the roots of a quadratic equation .\n",
    "import cmath\n",
    "\n",
    "a = float(input(\"Enter coefficient a: \"))\n",
    "b = float(input(\"Enter coefficient b: \"))\n",
    "c = float(input(\"Enter coefficient c: \"))\n",
    "\n",
    "d = (b**2) - (4*a*c)\n",
    "\n",
    "root1 = (-b - cmath.sqrt(d)) / (2 * a)\n",
    "root2 = (-b + cmath.sqrt(d)) / (2 * a)\n",
    "\n",
    "print(f\"The roots of the equation are: {root1} and {root2}\")\n"
   ]
  },
  {
   "cell_type": "code",
   "execution_count": 23,
   "id": "99e308ef-f57a-4e9b-925f-04cdcc5881ec",
   "metadata": {},
   "outputs": [
    {
     "name": "stdin",
     "output_type": "stream",
     "text": [
      "Enter the day number (1-7):  5\n"
     ]
    },
    {
     "name": "stdout",
     "output_type": "stream",
     "text": [
      "Day: Friday\n"
     ]
    }
   ],
   "source": [
    "#Python problems Assignment problems...question no 12(intermediate level)\n",
    "#program that determines the day of the week based on the day number (1-7).\n",
    "day_number = int(input(\"Enter the day number (1-7): \"))\n",
    "\n",
    "days = {\n",
    "    1: \"Monday\",\n",
    "    2: \"Tuesday\",\n",
    "    3: \"Wednesday\",\n",
    "    4: \"Thursday\",\n",
    "    5: \"Friday\",\n",
    "    6: \"Saturday\",\n",
    "    7: \"Sunday\"\n",
    "}\n",
    "\n",
    "if day_number in days:\n",
    "    print(f\"Day: {days[day_number]}\")\n",
    "else:\n",
    "    print(\"Invalid day number.\")\n"
   ]
  },
  {
   "cell_type": "code",
   "execution_count": 24,
   "id": "8e1e4788-1b19-4c54-acd6-d29bbf650dc6",
   "metadata": {},
   "outputs": [
    {
     "name": "stdin",
     "output_type": "stream",
     "text": [
      "Enter a number to calculate factorial:  54\n"
     ]
    },
    {
     "name": "stdout",
     "output_type": "stream",
     "text": [
      "The factorial of 54 is: 230843697339241380472092742683027581083278564571807941132288000000000000\n"
     ]
    }
   ],
   "source": [
    "#Python problems Assignment problems...question no 13(intermediate level)\n",
    "#a program that calculates the factorial of a given number using recursion.\n",
    "def factorial(n):\n",
    "    if n == 0 or n == 1:\n",
    "        return 1\n",
    "    else:\n",
    "        return n * factorial(n - 1)\n",
    "\n",
    "num = int(input(\"Enter a number to calculate factorial: \"))\n",
    "print(f\"The factorial of {num} is: {factorial(num)}\")\n"
   ]
  },
  {
   "cell_type": "code",
   "execution_count": 25,
   "id": "43603950-4186-4919-86a2-14d8b8404eaf",
   "metadata": {},
   "outputs": [
    {
     "name": "stdin",
     "output_type": "stream",
     "text": [
      "Enter first number:  34\n",
      "Enter second number:  7\n",
      "Enter third number:  67\n"
     ]
    },
    {
     "name": "stdout",
     "output_type": "stream",
     "text": [
      "The largest number is: 67.0\n"
     ]
    }
   ],
   "source": [
    "#Python problems Assignment problems...question no 14(intermediate level)\n",
    "#program to find the largest among three numbers without using the `max()` function.\n",
    "num1 = float(input(\"Enter first number: \"))\n",
    "num2 = float(input(\"Enter second number: \"))\n",
    "num3 = float(input(\"Enter third number: \"))\n",
    "\n",
    "largest = num1 if (num1 > num2 and num1 > num3) else (num2 if (num2 > num3) else num3)\n",
    "print(f\"The largest number is: {largest}\")\n"
   ]
  },
  {
   "cell_type": "code",
   "execution_count": 26,
   "id": "615b5309-7cb8-476d-b1c1-9873636cb727",
   "metadata": {},
   "outputs": [
    {
     "name": "stdout",
     "output_type": "stream",
     "text": [
      "Welcome to the ATM!\n",
      "1. Check Balance\n",
      "2. Withdraw\n",
      "3. Deposit\n",
      "4. Quit\n"
     ]
    },
    {
     "name": "stdin",
     "output_type": "stream",
     "text": [
      "Enter your choice:  2\n",
      "Enter amount to withdraw:  600\n"
     ]
    },
    {
     "name": "stdout",
     "output_type": "stream",
     "text": [
      "Withdrawn: 600.0. Remaining balance: 400.0\n"
     ]
    }
   ],
   "source": [
    "#Python problems Assignment problems...question no 15(intermediate level)\n",
    "# program that simulates a basic ATM transaction menu.\n",
    "balance = 1000\n",
    "\n",
    "print(\"Welcome to the ATM!\")\n",
    "print(\"1. Check Balance\")\n",
    "print(\"2. Withdraw\")\n",
    "print(\"3. Deposit\")\n",
    "print(\"4. Quit\")\n",
    "\n",
    "option = int(input(\"Enter your choice: \"))\n",
    "\n",
    "if option == 1:\n",
    "    print(f\"Your balance is: {balance}\")\n",
    "elif option == 2:\n",
    "    amount = float(input(\"Enter amount to withdraw: \"))\n",
    "    if amount > balance:\n",
    "        print(\"Insufficient balance\")\n",
    "    else:\n",
    "        balance -= amount\n",
    "        print(f\"Withdrawn: {amount}. Remaining balance: {balance}\")\n",
    "elif option == 3:\n",
    "    amount = float(input(\"Enter amount to deposit: \"))\n",
    "    balance += amount\n",
    "    print(f\"Deposited: {amount}. New balance: {balance}\")\n",
    "elif option == 4:\n",
    "    print(\"Thank you for using the ATM!\")\n",
    "else:\n",
    "    print(\"Invalid option\")\n"
   ]
  },
  {
   "cell_type": "code",
   "execution_count": 27,
   "id": "c0148096-f99d-4f16-9731-66ac54c78248",
   "metadata": {},
   "outputs": [
    {
     "name": "stdin",
     "output_type": "stream",
     "text": [
      "Enter a string:  mom\n"
     ]
    },
    {
     "name": "stdout",
     "output_type": "stream",
     "text": [
      "Palindrome\n"
     ]
    }
   ],
   "source": [
    "#Python problems Assignment problems...question no 16(intermediate level)\n",
    "# program that checks if a given string is a palindrome or not.\n",
    "string = input(\"Enter a string: \")\n",
    "\n",
    "if string == string[::-1]:\n",
    "    print(\"Palindrome\")\n",
    "else:\n",
    "    print(\"Not a palindrome\")\n"
   ]
  },
  {
   "cell_type": "code",
   "execution_count": 33,
   "id": "8af7f99b-f2c5-4127-b81e-34d4eef1633b",
   "metadata": {},
   "outputs": [
    {
     "name": "stdin",
     "output_type": "stream",
     "text": [
      "Enter a list of numbers separated by space:  5 7 6\n"
     ]
    },
    {
     "name": "stdout",
     "output_type": "stream",
     "text": [
      "The average excluding smallest and largest values is: 6.0\n"
     ]
    }
   ],
   "source": [
    "#Python problems Assignment problems...question no 17(intermediate level)\n",
    "#Calculate the average of a list of numbers, excluding smallest and largest values:\n",
    "\n",
    "num_list = [float(x) for x in input(\"Enter a list of numbers separated by space: \").split()]\n",
    "if len(num_list) > 2:\n",
    "    num_list.sort()\n",
    "    trimmed_list = num_list[1:-1]\n",
    "    average = sum(trimmed_list) / len(trimmed_list)\n",
    "    print(f\"The average excluding smallest and largest values is: {average}\")\n",
    "else:\n",
    "    print(\"Please enter at least three numbers.\")\n"
   ]
  },
  {
   "cell_type": "code",
   "execution_count": 34,
   "id": "50f910a4-deb1-470b-afce-06ed500a13dc",
   "metadata": {},
   "outputs": [
    {
     "name": "stdin",
     "output_type": "stream",
     "text": [
      "Enter temperature in Celsius:  23\n"
     ]
    },
    {
     "name": "stdout",
     "output_type": "stream",
     "text": [
      "23.0 Celsius is equal to 73.4 Fahrenheit\n"
     ]
    }
   ],
   "source": [
    "#Python problems Assignment problems...question no 18(intermediate level)\n",
    "#Convert a given temperature from Celsius to Fahrenheit:\n",
    "celsius = float(input(\"Enter temperature in Celsius: \"))\n",
    "fahrenheit = (celsius * 9/5) + 32\n",
    "print(f\"{celsius} Celsius is equal to {fahrenheit} Fahrenheit\")\n"
   ]
  },
  {
   "cell_type": "code",
   "execution_count": 32,
   "id": "7c00d09e-9262-4c22-b5c5-55832f64106c",
   "metadata": {},
   "outputs": [
    {
     "name": "stdin",
     "output_type": "stream",
     "text": [
      "Enter first number:  6\n",
      "Enter second number:  5\n"
     ]
    },
    {
     "name": "stdout",
     "output_type": "stream",
     "text": [
      "Operations:\n",
      "1. Addition\n",
      "2. Subtraction\n",
      "3. Multiplication\n",
      "4. Division\n"
     ]
    },
    {
     "name": "stdin",
     "output_type": "stream",
     "text": [
      "Enter operation number:  2\n"
     ]
    },
    {
     "name": "stdout",
     "output_type": "stream",
     "text": [
      "Result: 1.0\n"
     ]
    }
   ],
   "source": [
    "#Python problems Assignment problems...question no 19(intermediate level)\n",
    "#program that simulates a basic calculator for addition, subtraction, multiplication, and division.\n",
    "\n",
    "num1 = float(input(\"Enter first number: \"))\n",
    "num2 = float(input(\"Enter second number: \"))\n",
    "\n",
    "print(\"Operations:\")\n",
    "print(\"1. Addition\")\n",
    "print(\"2. Subtraction\")\n",
    "print(\"3. Multiplication\")\n",
    "print(\"4. Division\")\n",
    "\n",
    "choice = int(input(\"Enter operation number: \"))\n",
    "\n",
    "if choice == 1:\n",
    "    result = num1 + num2\n",
    "elif choice == 2:\n",
    "    result = num1 - num2\n",
    "elif choice == 3:\n",
    "    result = num1 * num2\n",
    "elif choice == 4:\n",
    "    if num2 != 0:\n",
    "        result = num1 / num2\n",
    "    else:\n",
    "        result = \"Division by zero is undefined\"\n",
    "else:\n",
    "    result = \"Invalid operation\"\n",
    "\n",
    "print(f\"Result: {result}\")\n",
    "\n"
   ]
  },
  {
   "cell_type": "code",
   "execution_count": 29,
   "id": "df08e46a-9bf9-41c6-bf71-b87fec0a80ac",
   "metadata": {},
   "outputs": [
    {
     "name": "stdout",
     "output_type": "stream",
     "text": [
      "Roots of the cubic equation: [3.0, 1.0, 1.9999999999999998]\n"
     ]
    }
   ],
   "source": [
    "#Python problems Assignment problems...question no 20(intermediate level)\n",
    "#program that determines the roots of a cubic equation using the Cardano formula.\n",
    "import math\n",
    "\n",
    "def cubic_roots(a, b, c, d):\n",
    "    p = c / a - (b**2) / (3 * a**2)\n",
    "    q = (2 * (b**3)) / (27 * (a**3)) - (b * c) / (3 * (a**2)) + d / a\n",
    "    delta = (q**2) / 4 + (p**3) / 27\n",
    "    \n",
    "    if delta > 0:\n",
    "        A = (-q/2 + math.sqrt(delta))**(1/3)\n",
    "        B = (-q/2 - math.sqrt(delta))**(1/3)\n",
    "        real_root = -b / (3 * a) - (A + B)\n",
    "        return [real_root]\n",
    "    elif delta == 0:\n",
    "        A = (-q/2)**(1/3)\n",
    "        real_root = -b / (3 * a) - 2 * A\n",
    "        complex_root = -b / (3 * a) + A\n",
    "        return [real_root, complex_root]\n",
    "    else:\n",
    "        r = math.sqrt(-(p**3) / 27)\n",
    "        theta = math.acos(-q / (2 * r))\n",
    "        real_root1 = 2 * math.sqrt(-p / 3) * math.cos(theta / 3) - b / (3 * a)\n",
    "        real_root2 = 2 * math.sqrt(-p / 3) * math.cos((theta + 2 * math.pi) / 3) - b / (3 * a)\n",
    "        real_root3 = 2 * math.sqrt(-p / 3) * math.cos((theta + 4 * math.pi) / 3) - b / (3 * a)\n",
    "        return [real_root1, real_root2, real_root3]\n",
    "\n",
    "# Example usage:\n",
    "coefficients = [1, -6, 11, -6]  # coefficients of the cubic equation: x^3 - 6x^2 + 11x - 6 = 0\n",
    "roots = cubic_roots(*coefficients)\n",
    "print(\"Roots of the cubic equation:\", roots)\n"
   ]
  },
  {
   "cell_type": "code",
   "execution_count": 52,
   "id": "cc48d576-dcff-4e30-92e4-7c103e141832",
   "metadata": {},
   "outputs": [
    {
     "name": "stdin",
     "output_type": "stream",
     "text": [
      "Enter your income:  4000\n"
     ]
    },
    {
     "name": "stdout",
     "output_type": "stream",
     "text": [
      "Tax due on income 4000.0: 400.0\n"
     ]
    }
   ],
   "source": [
    "#Python problems Assignment problems...question no 21(advance level)\n",
    "#Create a program that calculates the income tax based on the user's income and tax brackets.\n",
    "\n",
    "\n",
    "def calculate_tax(income):\n",
    "    # Define tax brackets and rates\n",
    "    brackets = [10000, 40000, 80000]  # Example income brackets\n",
    "    rates = [0.1, 0.2, 0.3, 0.4]      # Example tax rates\n",
    "    tax_due = 0\n",
    "\n",
    "    for i, bracket in enumerate(brackets):\n",
    "        if income <= bracket:\n",
    "            tax_due += income * rates[i]\n",
    "            return tax_due\n",
    "        else:\n",
    "            tax_due += bracket * rates[i]\n",
    "            income -= bracket\n",
    "\n",
    "    # Calculate tax for income exceeding the highest bracket\n",
    "    tax_due += income * rates[-1]\n",
    "    return tax_due\n",
    "\n",
    "# Get user input for income\n",
    "income = float(input(\"Enter your income: \"))\n",
    "\n",
    "# Calculate tax and display the result\n",
    "tax = calculate_tax(income)\n",
    "print(f\"Tax due on income {income}: {tax}\")\n"
   ]
  },
  {
   "cell_type": "code",
   "execution_count": 53,
   "id": "3449db7d-c2b2-4202-9e5c-e67d1fe3d2b6",
   "metadata": {},
   "outputs": [
    {
     "name": "stdin",
     "output_type": "stream",
     "text": [
      "Enter rock, paper, or scissors:  scissors\n"
     ]
    },
    {
     "name": "stdout",
     "output_type": "stream",
     "text": [
      "You chose: scissors\n",
      "Computer chose: rock\n",
      "Computer wins!\n"
     ]
    }
   ],
   "source": [
    "#Python problems Assignment problems...question no 22(advance level)\n",
    "#Write a program that simulates a rock-paper-scissors game against the computer.\n",
    "import random\n",
    "\n",
    "def get_user_choice():\n",
    "    while True:\n",
    "        user_choice = input(\"Enter rock, paper, or scissors: \").lower()\n",
    "        if user_choice in ['rock', 'paper', 'scissors']:\n",
    "            return user_choice\n",
    "        else:\n",
    "            print(\"Invalid choice. Please enter rock, paper, or scissors.\")\n",
    "\n",
    "def get_computer_choice():\n",
    "    return random.choice(['rock', 'paper', 'scissors'])\n",
    "\n",
    "def determine_winner(user, computer):\n",
    "    if user == computer:\n",
    "        return \"It's a tie!\"\n",
    "    elif (user == 'rock' and computer == 'scissors') or \\\n",
    "         (user == 'paper' and computer == 'rock') or \\\n",
    "         (user == 'scissors' and computer == 'paper'):\n",
    "        return \"You win!\"\n",
    "    else:\n",
    "        return \"Computer wins!\"\n",
    "\n",
    "def play_game():\n",
    "    user_choice = get_user_choice()\n",
    "    computer_choice = get_computer_choice()\n",
    "\n",
    "    print(f\"You chose: {user_choice}\")\n",
    "    print(f\"Computer chose: {computer_choice}\")\n",
    "\n",
    "    result = determine_winner(user_choice, computer_choice)\n",
    "    print(result)\n",
    "\n",
    "# Play the game\n",
    "play_game()\n"
   ]
  },
  {
   "cell_type": "code",
   "execution_count": 54,
   "id": "b43bde2e-4658-4043-8f63-6f07d6dfe4f1",
   "metadata": {},
   "outputs": [
    {
     "name": "stdin",
     "output_type": "stream",
     "text": [
      "Enter the length of the password:  5\n",
      "Enter complexity level (low, medium, high):  medium\n"
     ]
    },
    {
     "name": "stdout",
     "output_type": "stream",
     "text": [
      "Generated Password: pQ1fJ\n"
     ]
    }
   ],
   "source": [
    "#Python problems Assignment problems...question no 23(advance level)\n",
    "#Develop a program that generates a random password based on user preferences (length, complexity).\n",
    "import random\n",
    "import string\n",
    "\n",
    "def generate_password(length, complexity):\n",
    "    password = ''\n",
    "    if complexity == 'low':\n",
    "        characters = string.ascii_letters + string.digits\n",
    "    elif complexity == 'medium':\n",
    "        characters = string.ascii_letters + string.digits + string.punctuation\n",
    "    else:\n",
    "        characters = string.printable\n",
    "\n",
    "    for _ in range(length):\n",
    "        password += random.choice(characters)\n",
    "\n",
    "    return password\n",
    "\n",
    "def main():\n",
    "    length = int(input(\"Enter the length of the password: \"))\n",
    "    complexity = input(\"Enter complexity level (low, medium, high): \").lower()\n",
    "\n",
    "    password = generate_password(length, complexity)\n",
    "    print(f\"Generated Password: {password}\")\n",
    "\n",
    "if __name__ == \"__main__\":\n",
    "    main()\n"
   ]
  },
  {
   "cell_type": "code",
   "execution_count": 55,
   "id": "1612890c-b44c-4a32-b12a-ed823e94c0c3",
   "metadata": {},
   "outputs": [
    {
     "name": "stdout",
     "output_type": "stream",
     "text": [
      "Welcome to the Adventure Game!\n",
      "You find yourself in a dark forest.\n",
      "There are three paths in front of you. Which path will you choose?\n",
      "1. Path of the River\n",
      "2. Path of the Mountains\n",
      "3. Path of the Cave\n"
     ]
    },
    {
     "name": "stdin",
     "output_type": "stream",
     "text": [
      "Enter your choice (1, 2, or 3):  1\n"
     ]
    },
    {
     "name": "stdout",
     "output_type": "stream",
     "text": [
      "You chose the Path of the River.\n",
      "You encounter a boat. Do you want to take the boat across the river?\n"
     ]
    },
    {
     "name": "stdin",
     "output_type": "stream",
     "text": [
      "Enter 'yes' or 'no':  no\n"
     ]
    },
    {
     "name": "stdout",
     "output_type": "stream",
     "text": [
      "You decide not to take the boat and continue exploring.\n",
      "You find hidden treasure!\n",
      "Congratulations, you win!\n"
     ]
    }
   ],
   "source": [
    "#Python problems Assignment problems...question no 24(advance level)\n",
    "#Create a program that implements a simple text-based adventure game with branching scenarios.\n",
    "def intro():\n",
    "    print(\"Welcome to the Adventure Game!\")\n",
    "    print(\"You find yourself in a dark forest.\")\n",
    "    print(\"There are three paths in front of you. Which path will you choose?\")\n",
    "    print(\"1. Path of the River\")\n",
    "    print(\"2. Path of the Mountains\")\n",
    "    print(\"3. Path of the Cave\")\n",
    "\n",
    "def path_of_river():\n",
    "    print(\"You chose the Path of the River.\")\n",
    "    print(\"You encounter a boat. Do you want to take the boat across the river?\")\n",
    "    choice = input(\"Enter 'yes' or 'no': \").lower()\n",
    "    if choice == \"yes\":\n",
    "        print(\"You safely cross the river.\")\n",
    "        print(\"You win!\")\n",
    "    else:\n",
    "        print(\"You decide not to take the boat and continue exploring.\")\n",
    "        print(\"You find hidden treasure!\")\n",
    "        print(\"Congratulations, you win!\")\n",
    "\n",
    "def path_of_mountains():\n",
    "    print(\"You chose the Path of the Mountains.\")\n",
    "    print(\"You encounter a steep climb. Do you want to climb up the mountain?\")\n",
    "    choice = input(\"Enter 'yes' or 'no': \").lower()\n",
    "    if choice == \"yes\":\n",
    "        print(\"You successfully climb the mountain and enjoy the view.\")\n",
    "        print(\"Congratulations, you win!\")\n",
    "    else:\n",
    "        print(\"You decide not to climb the mountain and continue exploring.\")\n",
    "        print(\"You discover a hidden cave!\")\n",
    "        print(\"Congratulations, you win!\")\n",
    "\n",
    "def path_of_cave():\n",
    "    print(\"You chose the Path of the Cave.\")\n",
    "    print(\"You enter a dark cave. Do you want to explore deeper into the cave?\")\n",
    "    choice = input(\"Enter 'yes' or 'no': \").lower()\n",
    "    if choice == \"yes\":\n",
    "        print(\"You venture deeper into the cave and find a treasure chest!\")\n",
    "        print(\"Congratulations, you win!\")\n",
    "    else:\n",
    "        print(\"You decide not to explore the cave and continue your journey.\")\n",
    "        print(\"You encounter a magical creature.\")\n",
    "        print(\"Game over!\")\n",
    "\n",
    "def main():\n",
    "    intro()\n",
    "    choice = input(\"Enter your choice (1, 2, or 3): \")\n",
    "\n",
    "    if choice == \"1\":\n",
    "        path_of_river()\n",
    "    elif choice == \"2\":\n",
    "        path_of_mountains()\n",
    "    elif choice == \"3\":\n",
    "        path_of_cave()\n",
    "    else:\n",
    "        print(\"Invalid choice. Game over.\")\n",
    "\n",
    "if __name__ == \"__main__\":\n",
    "    main()\n"
   ]
  },
  {
   "cell_type": "code",
   "execution_count": 56,
   "id": "082c02d9-1411-4d6d-8243-96ff355892e9",
   "metadata": {},
   "outputs": [
    {
     "name": "stdout",
     "output_type": "stream",
     "text": [
      "Welcome to the Linear Equation Solver!\n",
      "Enter the coefficients for the linear equation 'ax + b = 0'\n"
     ]
    },
    {
     "name": "stdin",
     "output_type": "stream",
     "text": [
      "Enter the value of 'a':  3\n",
      "Enter the value of 'b':  7\n"
     ]
    },
    {
     "name": "stdout",
     "output_type": "stream",
     "text": [
      "The solution to the equation 3.0x + 7.0 = 0 is x = -2.3333333333333335\n"
     ]
    }
   ],
   "source": [
    "#Python problems Assignment problems...question no 25(advance level)\n",
    "#Build a program that solves a linear equation for x, considering different cases.\n",
    "\n",
    "\n",
    "def solve_linear_equation():\n",
    "    print(\"Welcome to the Linear Equation Solver!\")\n",
    "    print(\"Enter the coefficients for the linear equation 'ax + b = 0'\")\n",
    "    \n",
    "    a = float(input(\"Enter the value of 'a': \"))\n",
    "    b = float(input(\"Enter the value of 'b': \"))\n",
    "\n",
    "    if a == 0 and b != 0:\n",
    "        print(\"This is not a valid linear equation.\")\n",
    "    elif a == 0 and b == 0:\n",
    "        print(\"The equation is satisfied for all values of x.\")\n",
    "    else:\n",
    "        x = -b / a\n",
    "        print(f\"The solution to the equation {a}x + {b} = 0 is x = {x}\")\n",
    "\n",
    "def main():\n",
    "    solve_linear_equation()\n",
    "\n",
    "if __name__ == \"__main__\":\n",
    "    main()\n"
   ]
  },
  {
   "cell_type": "code",
   "execution_count": 80,
   "id": "501ce44a-9828-4def-b4c5-6cfae606a49f",
   "metadata": {},
   "outputs": [
    {
     "name": "stdout",
     "output_type": "stream",
     "text": [
      "What is the capital of France?\n",
      "1. Paris\n",
      "2. London\n",
      "3. Berlin\n",
      "4. Rome\n"
     ]
    },
    {
     "name": "stdin",
     "output_type": "stream",
     "text": [
      "Your answer:  paris\n"
     ]
    },
    {
     "name": "stdout",
     "output_type": "stream",
     "text": [
      "Correct!\n",
      "What character have both Robert Downey Jr. and Benedict Cumberbatch played?\n",
      "1. Gideon Fell\n",
      "2. Richard Castle\n",
      "3. Sherlock Holmes\n",
      "4. Harry Bosch\n"
     ]
    },
    {
     "name": "stdin",
     "output_type": "stream",
     "text": [
      "Your answer:  harry\n"
     ]
    },
    {
     "name": "stdout",
     "output_type": "stream",
     "text": [
      "Wrong! The correct answer is Sherlock Holmes\n",
      "What is the name of the largest moon of Jupiter?\n",
      "1. Paaliaq\n",
      "2. Ganymede\n",
      "3. Phobos\n",
      "4. Himalia\n"
     ]
    },
    {
     "name": "stdin",
     "output_type": "stream",
     "text": [
      "Your answer:  himailia\n"
     ]
    },
    {
     "name": "stdout",
     "output_type": "stream",
     "text": [
      "Wrong! The correct answer is Ganymede\n",
      "In the early 20th century, a soft drink named “Bib-Label Lithiated Lemon-Lime Soda” was known for containing lithium. Which company later acquired this beverage and transformed it into a popular lemon-lime soft drink we know today?\n",
      "1. Sprite\n",
      "2. Dr Pepper\n",
      "3. Jolt Cola\n",
      "4. Coca-Cola\n"
     ]
    },
    {
     "name": "stdin",
     "output_type": "stream",
     "text": [
      "Your answer:  coca-cola\n"
     ]
    },
    {
     "name": "stdout",
     "output_type": "stream",
     "text": [
      "Correct!\n",
      "Quiz completed! Your score is 2/4\n"
     ]
    }
   ],
   "source": [
    "#Python problems Assignment problems...question no 26(advance level)\n",
    "#Simulating a Basic Quiz Game with Multiple-Choice Questions and Scoring:\n",
    "def run_quiz():\n",
    "    questions = [\n",
    "        {\"question\": \"What is the capital of France?\",\n",
    "         \"options\": [\"Paris\", \"London\", \"Berlin\", \"Rome\"],\n",
    "         \"answer\": \"Paris\"},\n",
    "\n",
    "           \n",
    "     {\"question\": \"What character have both Robert Downey Jr. and Benedict Cumberbatch played?\",\n",
    "     \"options\": [\"Gideon Fell\", \"Richard Castle\", \"Sherlock Holmes\", \"Harry Bosch\"],\n",
    "     \"answer\": \"Sherlock Holmes\"},\n",
    "        \n",
    "    {\"question\": \"What is the name of the largest moon of Jupiter?\",\n",
    "     \"options\": [\"Paaliaq\", \"Ganymede\", \"Phobos\", \"Himalia\"],\n",
    "        \"answer\": \"Ganymede\"},\n",
    "\n",
    "        \n",
    "     {\"question\": \"In the early 20th century, a soft drink named “Bib-Label Lithiated Lemon-Lime Soda” was known for containing lithium. Which company later acquired this beverage and transformed it into a popular lemon-lime soft drink we know today?\",\n",
    "     \"options\": [\"Sprite\", \"Dr Pepper\", \"Jolt Cola\", \"Coca-Cola\"],\n",
    "       \"answer\": \"Coca-Cola\"},\n",
    "\n",
    "    ]\n",
    "\n",
    "    score = 0\n",
    "    for question in questions:\n",
    "        print(question[\"question\"])\n",
    "        for index, option in enumerate(question[\"options\"], start=1):\n",
    "            print(f\"{index}. {option}\")\n",
    "\n",
    "        user_answer = input(\"Your answer: \")\n",
    "        if user_answer.lower() == question[\"answer\"].lower():\n",
    "            print(\"Correct!\")\n",
    "            score += 1\n",
    "        else:\n",
    "            print(f\"Wrong! The correct answer is {question['answer']}\")\n",
    "\n",
    "    print(f\"Quiz completed! Your score is {score}/{len(questions)}\")\n",
    "\n",
    "# Run the quiz\n",
    "run_quiz()\n"
   ]
  },
  {
   "cell_type": "code",
   "execution_count": 92,
   "id": "050fd8e4-8dc9-4ac9-bb12-15e1002fe121",
   "metadata": {
    "tags": []
   },
   "outputs": [
    {
     "name": "stdin",
     "output_type": "stream",
     "text": [
      "Enter a year:  3738\n"
     ]
    },
    {
     "name": "stdout",
     "output_type": "stream",
     "text": [
      "3738 is not a prime year.\n"
     ]
    }
   ],
   "source": [
    "#Python problems Assignment problems...question no 27(advance level)\n",
    "#Determining if a Given Year is a Prime Number or Not\n",
    "\n",
    "def is_prime(year):\n",
    "    if year <= 1:\n",
    "        return False\n",
    "    for i in range(2, int(year ** 0.5) + 1):\n",
    "        if year % i == 0:\n",
    "            return False\n",
    "    return True\n",
    "\n",
    "# Check if a given year is prime or not\n",
    "year_to_check = int(input(\"Enter a year: \"))\n",
    "if is_prime(year_to_check):\n",
    "    print(f\"{year_to_check} is a prime year.\")\n",
    "else:\n",
    "    print(f\"{year_to_check} is not a prime year.\")\n",
    "\n"
   ]
  },
  {
   "cell_type": "code",
   "execution_count": 96,
   "id": "b89986da-8d1c-4582-911c-d454d30796f8",
   "metadata": {},
   "outputs": [
    {
     "name": "stdin",
     "output_type": "stream",
     "text": [
      "Enter number 1:  4\n",
      "Enter number 2:  2\n",
      "Enter number 3:  4\n"
     ]
    },
    {
     "name": "stdout",
     "output_type": "stream",
     "text": [
      "Sorted numbers in ascending order: [2.0, 4.0, 4.0]\n"
     ]
    }
   ],
   "source": [
    "#Python problems Assignment problems...question no 28(advance level)\n",
    "#Sorting Three Numbers in Ascending Order:\n",
    "\n",
    "\n",
    "def sort_numbers():\n",
    "    numbers = [float(input(f\"Enter number {i + 1}: \")) for i in range(3)]\n",
    "    sorted_numbers = sorted(numbers)\n",
    "    print(\"Sorted numbers in ascending order:\", sorted_numbers)\n",
    "\n",
    "# Sort three numbers in ascending order\n",
    "sort_numbers()\n"
   ]
  },
  {
   "cell_type": "code",
   "execution_count": 87,
   "id": "104ce1c6-0db0-4b4f-be96-fb732ff80297",
   "metadata": {},
   "outputs": [
    {
     "name": "stdout",
     "output_type": "stream",
     "text": [
      "Roots of the quartic equation: [-1, 2]\n"
     ]
    }
   ],
   "source": [
    "#Python problems Assignment problems...question no 29(advance level)\n",
    "#Build a program that determines the roots of a quartic equation using numerical methods\n",
    "\n",
    "import sympy as sp\n",
    "\n",
    "# Define the symbols\n",
    "x = sp.symbols('x')\n",
    "\n",
    "# Define the quartic equation (ax^4 + bx^3 + cx^2 + dx + e = 0)\n",
    "quartic_equation = x**4 - 5*x**3 + 6*x**2 + 4*x - 8\n",
    "\n",
    "# Solve the quartic equation\n",
    "roots = sp.solve(quartic_equation, x)\n",
    "print(\"Roots of the quartic equation:\", roots)\n",
    "\n"
   ]
  },
  {
   "cell_type": "code",
   "execution_count": 88,
   "id": "1dd9dd0a-4004-4390-a8d3-3465a32c0377",
   "metadata": {},
   "outputs": [
    {
     "name": "stdin",
     "output_type": "stream",
     "text": [
      "Enter your weight in kilograms:  67\n",
      "Enter your height in meters:  6\n"
     ]
    },
    {
     "name": "stdout",
     "output_type": "stream",
     "text": [
      "Your BMI is 1.86\n",
      "You are underweight. Consider gaining some weight.\n"
     ]
    },
    {
     "name": "stdin",
     "output_type": "stream",
     "text": [
      "Enter your weight in kilograms:  7\n",
      "Enter your height in meters:  99\n"
     ]
    },
    {
     "name": "stdout",
     "output_type": "stream",
     "text": [
      "Your BMI is 0.00\n",
      "You are underweight. Consider gaining some weight.\n"
     ]
    }
   ],
   "source": [
    "#Python problems Assignment problems...question no 30(advance level)\n",
    "#Calculating BMI and Providing Health Recommendations:\n",
    "\n",
    "weight = float(input(\"Enter your weight in kilograms: \"))\n",
    "height = float(input(\"Enter your height in meters: \"))\n",
    "bmi = weight / (height ** 2)\n",
    "print(f\"Your BMI is {bmi:.2f}\")\n",
    "\n",
    "if bmi < 18.5:\n",
    "    print(\"You are underweight. Consider gaining some weight.\")\n",
    "elif 18.5 <= bmi < 24.9:\n",
    "    print(\"You have a healthy weight. Keep it up!\")\n",
    "elif 24.9 <= bmi < 29.9:\n",
    "    print(\"You are overweight. Consider losing some weight.\")\n",
    "else:\n",
    "     print(\"You are obese. Please consult a healthcare professional.\")\n",
    "\n",
    "# Calculate BMI and provide health recommendations\n",
    "calculate_bmi()\n"
   ]
  },
  {
   "cell_type": "code",
   "execution_count": 14,
   "id": "05ac3bbf-5e76-4f9b-8759-5e219894c2e1",
   "metadata": {},
   "outputs": [
    {
     "name": "stdout",
     "output_type": "stream",
     "text": [
      "Password is valid!\n"
     ]
    }
   ],
   "source": [
    "#Python problems Assignment problems...question no 31(challenge level)\n",
    "#Create a program that validates a password based on complexity rules (length, characters, etc.).\n",
    "def validate_password(password):\n",
    "    # Rules: at least 8 characters, containing uppercase, lowercase, digit, and special character\n",
    "    if len(password) < 8:\n",
    "        return False\n",
    "    \n",
    "    has_upper = any(char.isupper() for char in password)\n",
    "    has_lower = any(char.islower() for char in password)\n",
    "    has_digit = any(char.isdigit() for char in password)\n",
    "    has_special = any(not char.isalnum() for char in password)\n",
    "\n",
    "    return has_upper and has_lower and has_digit and has_special\n",
    "\n",
    "# Test the password validation\n",
    "test_password = \"MyP@ssw0rd\"\n",
    "if validate_password(test_password):\n",
    "    print(\"Password is valid!\")\n",
    "else:\n",
    "    print(\"Password does not meet complexity requirements.\")\n"
   ]
  },
  {
   "cell_type": "code",
   "execution_count": 10,
   "id": "82252d20-5957-4d8f-bac1-11186dd94f5d",
   "metadata": {},
   "outputs": [
    {
     "name": "stdout",
     "output_type": "stream",
     "text": [
      "Matrix 1: [[1, 2], [3, 4]]\n",
      "Matrix 2: [[5, 6], [7, 8]]\n",
      "Matrix Addition: [[6, 8], [10, 12]]\n",
      "Matrix Subtraction: [[-4, -4], [-4, -4]]\n"
     ]
    }
   ],
   "source": [
    "#Python problems Assignment problems...question no 32(challenge level)\n",
    "#Develop a program that performs matrix addition and subtraction based on user input.\n",
    "def matrix_addition(matrix1, matrix2):\n",
    "    result = [[matrix1[i][j] + matrix2[i][j] for j in range(len(matrix1[0]))] for i in range(len(matrix1))]\n",
    "    return result\n",
    "\n",
    "def matrix_subtraction(matrix1, matrix2):\n",
    "    result = [[matrix1[i][j] - matrix2[i][j] for j in range(len(matrix1[0]))] for i in range(len(matrix1))]\n",
    "    return result\n",
    "\n",
    "# Example matrices\n",
    "mat1 = [[1, 2], [3, 4]]\n",
    "mat2 = [[5, 6], [7, 8]]\n",
    "\n",
    "print(\"Matrix 1:\", mat1)\n",
    "print(\"Matrix 2:\", mat2)\n",
    "print(\"Matrix Addition:\", matrix_addition(mat1, mat2))\n",
    "print(\"Matrix Subtraction:\", matrix_subtraction(mat1, mat2))\n"
   ]
  },
  {
   "cell_type": "code",
   "execution_count": 12,
   "id": "bfd5f082-220f-41f5-9db8-3a96a5ddbae4",
   "metadata": {},
   "outputs": [
    {
     "name": "stdout",
     "output_type": "stream",
     "text": [
      "GCD of 24 and 36 is: 12\n"
     ]
    }
   ],
   "source": [
    "#Python problems Assignment problems...question no 33(challenge level)\n",
    "#Write a program that calculates the greatest common divisor (GCD) of two numbers using the Euclidean algorithm.\n",
    "def gcd(a, b):\n",
    "    while b:\n",
    "        a, b = b, a % b\n",
    "    return a\n",
    "\n",
    "num1 = 24\n",
    "num2 = 36\n",
    "print(f\"GCD of {num1} and {num2} is:\", gcd(num1, num2))\n"
   ]
  },
  {
   "cell_type": "code",
   "execution_count": 13,
   "id": "f5494565-67db-463a-98cb-908744a94dff",
   "metadata": {},
   "outputs": [
    {
     "name": "stdout",
     "output_type": "stream",
     "text": [
      "Matrix 1: [[1, 2], [3, 4]]\n",
      "Matrix 2: [[5, 6], [7, 8]]\n",
      "Matrix Multiplication: [[19, 22], [43, 50]]\n"
     ]
    }
   ],
   "source": [
    "#Python problems Assignment problems...question no 34(challenge level)\n",
    "#Build a program that performs matrix multiplication using nested loops and conditional statements.\n",
    "def matrix_multiplication(matrix1, matrix2):\n",
    "    result = [[sum(matrix1[i][k] * matrix2[k][j] for k in range(len(matrix2))) for j in range(len(matrix2[0]))] for i in range(len(matrix1))]\n",
    "    return result\n",
    "\n",
    "# Example matrices\n",
    "mat1 = [[1, 2], [3, 4]]\n",
    "mat2 = [[5, 6], [7, 8]]\n",
    "\n",
    "print(\"Matrix 1:\", mat1)\n",
    "print(\"Matrix 2:\", mat2)\n",
    "print(\"Matrix Multiplication:\", matrix_multiplication(mat1, mat2))\n"
   ]
  },
  {
   "cell_type": "code",
   "execution_count": 24,
   "id": "23bda62c-3845-4f63-b8a9-29ef6c2e3da6",
   "metadata": {},
   "outputs": [
    {
     "name": "stdout",
     "output_type": "stream",
     "text": [
      "     \n",
      "     \n",
      "     \n"
     ]
    },
    {
     "name": "stdin",
     "output_type": "stream",
     "text": [
      "Enter row and column (0-2):  2 2\n"
     ]
    },
    {
     "name": "stdout",
     "output_type": "stream",
     "text": [
      "     \n",
      "     \n",
      "    X\n",
      "     \n",
      "     \n",
      "O   X\n"
     ]
    },
    {
     "name": "stdin",
     "output_type": "stream",
     "text": [
      "Enter row and column (0-2):  1 1\n"
     ]
    },
    {
     "name": "stdout",
     "output_type": "stream",
     "text": [
      "     \n",
      "  X  \n",
      "O   X\n",
      "O    \n",
      "  X  \n",
      "O   X\n"
     ]
    },
    {
     "name": "stdin",
     "output_type": "stream",
     "text": [
      "Enter row and column (0-2):  2 2\n"
     ]
    },
    {
     "name": "stdout",
     "output_type": "stream",
     "text": [
      "O    \n",
      "  X  \n",
      "O   X\n"
     ]
    },
    {
     "name": "stdin",
     "output_type": "stream",
     "text": [
      "Enter row and column (0-2):  2 0\n"
     ]
    },
    {
     "name": "stdout",
     "output_type": "stream",
     "text": [
      "O    \n",
      "  X  \n",
      "O   X\n"
     ]
    },
    {
     "name": "stdin",
     "output_type": "stream",
     "text": [
      "Enter row and column (0-2):  2 2\n"
     ]
    },
    {
     "name": "stdout",
     "output_type": "stream",
     "text": [
      "O    \n",
      "  X  \n",
      "O   X\n"
     ]
    },
    {
     "name": "stdin",
     "output_type": "stream",
     "text": [
      "Enter row and column (0-2):  1 1\n"
     ]
    },
    {
     "name": "stdout",
     "output_type": "stream",
     "text": [
      "O    \n",
      "  X  \n",
      "O   X\n"
     ]
    },
    {
     "name": "stdin",
     "output_type": "stream",
     "text": [
      "Enter row and column (0-2):  1 2\n"
     ]
    },
    {
     "name": "stdout",
     "output_type": "stream",
     "text": [
      "O    \n",
      "  X X\n",
      "O   X\n",
      "O O  \n",
      "  X X\n",
      "O   X\n"
     ]
    },
    {
     "name": "stdin",
     "output_type": "stream",
     "text": [
      "Enter row and column (0-2):  2 1\n"
     ]
    },
    {
     "name": "stdout",
     "output_type": "stream",
     "text": [
      "O O  \n",
      "  X X\n",
      "O X X\n",
      "O O O\n",
      "  X X\n",
      "O X X\n",
      "Computer wins! Better luck next time.\n"
     ]
    }
   ],
   "source": [
    "#Python problems Assignment problems...question no 35(challenge level)\n",
    "#Create a program that simulates a basic text-based tic-tac-toe game against the computer.\n",
    "import random\n",
    "\n",
    "def print_board(board):\n",
    "    for row in board:\n",
    "        print(\" \".join(row))\n",
    "\n",
    "def check_winner(board, player):\n",
    "    # Check rows, columns, and diagonals for a win\n",
    "    for row in board:\n",
    "        if all(cell == player for cell in row):\n",
    "            return True\n",
    "    for col in range(3):\n",
    "        if all(board[row][col] == player for row in range(3)):\n",
    "            return True\n",
    "    if all(board[i][i] == player for i in range(3)) or all(board[i][2 - i] == player for i in range(3)):\n",
    "        return True\n",
    "    return False\n",
    "\n",
    "def computer_move(board):\n",
    "    empty_cells = [(i, j) for i in range(3) for j in range(3) if board[i][j] == \" \"]\n",
    "    return random.choice(empty_cells)\n",
    "\n",
    "def play_game():\n",
    "    board = [[\" \" for _ in range(3)] for _ in range(3)]\n",
    "    player, computer = \"X\", \"O\"\n",
    "    current_player = player\n",
    "\n",
    "    while True:\n",
    "        print_board(board)\n",
    "        if current_player == player:\n",
    "            row, col = map(int, input(\"Enter row and column (0-2): \").split())\n",
    "            if board[row][col] == \" \":\n",
    "                board[row][col] = player\n",
    "                if check_winner(board, player):\n",
    "                    print_board(board)\n",
    "                    print(\"Congratulations! You win!\")\n",
    "                    break\n",
    "                current_player = computer\n",
    "        else:\n",
    "            row, col = computer_move(board)\n",
    "            board[row][col] = computer\n",
    "            if check_winner(board, computer):\n",
    "                print_board(board)\n",
    "                print(\"Computer wins! Better luck next time.\")\n",
    "                break\n",
    "            current_player = player\n",
    "\n",
    "play_game()\n"
   ]
  },
  {
   "cell_type": "code",
   "execution_count": 2,
   "id": "ae396c1f-7898-4820-9ac1-856ec0290a65",
   "metadata": {},
   "outputs": [
    {
     "name": "stdin",
     "output_type": "stream",
     "text": [
      "Enter the number of Fibonacci terms:  8\n"
     ]
    },
    {
     "name": "stdout",
     "output_type": "stream",
     "text": [
      "Fibonacci sequence up to 8 terms:\n",
      "[0, 1, 1, 2, 3, 5, 8, 13]\n"
     ]
    }
   ],
   "source": [
    "#Python problems Assignment problems...question no 36(challenge level)\n",
    "#Write a program that generates Fibonacci numbers up to a specified term using iterative methods.\n",
    "def generate_fibonacci(n):\n",
    "    fibonacci_sequence = [0, 1]\n",
    "    \n",
    "    for i in range(2, n):\n",
    "        next_number = fibonacci_sequence[i - 1] + fibonacci_sequence[i - 2]\n",
    "        fibonacci_sequence.append(next_number)\n",
    "    \n",
    "    return fibonacci_sequence\n",
    "\n",
    "# Get user input for the number of terms\n",
    "terms = int(input(\"Enter the number of Fibonacci terms: \"))\n",
    "\n",
    "if terms <= 0:\n",
    "    print(\"Please enter a positive number.\")\n",
    "else:\n",
    "    fibonacci_numbers = generate_fibonacci(terms)\n",
    "    print(f\"Fibonacci sequence up to {terms} terms:\")\n",
    "    print(fibonacci_numbers)\n"
   ]
  },
  {
   "cell_type": "code",
   "execution_count": 3,
   "id": "96d50048-817d-4825-8823-dc28a2338b6b",
   "metadata": {},
   "outputs": [
    {
     "name": "stdout",
     "output_type": "stream",
     "text": [
      "1\n",
      "1\n",
      "2\n",
      "3\n",
      "5\n",
      "8\n",
      "13\n",
      "21\n",
      "34\n",
      "55\n"
     ]
    }
   ],
   "source": [
    "#Python problems Assignment problems...question no 37(challenge level)\n",
    "#Develop a program that calculates the nth term of the Fibonacci sequence using memoization.\n",
    "def fib(n, memo={}):\n",
    "    if n in memo:\n",
    "        return memo[n]\n",
    "    if n <= 2:\n",
    "        return 1\n",
    "    memo[n] = fib(n - 1, memo) + fib(n - 2, memo)\n",
    "    return memo[n]\n",
    "\n",
    "term = 10\n",
    "for i in range(1, term + 1):\n",
    "    print(fib(i))\n"
   ]
  },
  {
   "cell_type": "code",
   "execution_count": 4,
   "id": "164f5b11-8e26-4762-a604-d67ea87584ee",
   "metadata": {},
   "outputs": [
    {
     "name": "stdin",
     "output_type": "stream",
     "text": [
      "Enter the year:  2008\n",
      "Enter the month (1-12):  5\n"
     ]
    },
    {
     "name": "stdout",
     "output_type": "stream",
     "text": [
      "      May 2008\n",
      "Su Mo Tu We Th Fr Sa\n",
      "             1  2  3\n",
      " 4  5  6  7  8  9 10\n",
      "11 12 13 14 15 16 17\n",
      "18 19 20 21 22 23 24\n",
      "25 26 27 28 29 30 31\n",
      "\n"
     ]
    }
   ],
   "source": [
    "#Python problems Assignment problems...question no 38(challenge level)\n",
    "#Create a program that generates a calendar for a given month and year using conditional statements.\n",
    "import calendar\n",
    "\n",
    "def generate_calendar(year, month):\n",
    "    cal = calendar.TextCalendar(calendar.SUNDAY)  # Create a TextCalendar object\n",
    "    month_calendar = cal.formatmonth(year, month)  # Get the month's calendar\n",
    "    return month_calendar\n",
    "\n",
    "# Input the year and month for which you want to generate the calendar\n",
    "year_input = int(input(\"Enter the year: \"))\n",
    "month_input = int(input(\"Enter the month (1-12): \"))\n",
    "\n",
    "# Check if the entered month is within the range (1-12)\n",
    "if 1 <= month_input <= 12:\n",
    "    calendar_output = generate_calendar(year_input, month_input)\n",
    "    print(calendar_output)\n",
    "else:\n",
    "    print(\"Invalid month! Please enter a month between 1 and 12.\")\n"
   ]
  },
  {
   "cell_type": "code",
   "execution_count": 28,
   "id": "14d20911-bb9f-488e-8e9c-18c1c4b17bde",
   "metadata": {},
   "outputs": [],
   "source": [
    "#Python problems Assignment problems...question no 39(challenge level)\n",
    "#Build a program that simulates a basic text-based blackjack game against the computer..\n",
    "import random\n",
    "\n",
    "def create_deck():\n",
    "    suits = ['Hearts', 'Diamonds', 'Clubs', 'Spades']\n",
    "    ranks = ['Two', 'Three', 'Four', 'Five', 'Six', 'Seven', 'Eight', 'Nine', 'Ten', 'Jack', 'Queen', 'King', 'Ace']\n",
    "    deck = [{'suit': suit, 'rank': rank} for suit in suits for rank in ranks]\n",
    "    random.shuffle(deck)\n",
    "    return deck\n",
    "\n",
    "def calculate_hand_value(hand):\n",
    "    value = 0\n",
    "    has_ace = False\n",
    "    for card in hand:\n",
    "        if card['rank'] in ['Jack', 'Queen', 'King']:\n",
    "            value += 10\n",
    "        elif card['rank'] == 'Ace':\n",
    "            has_ace = True\n",
    "            value += 11\n",
    "        else:\n",
    "            value += int(card['rank'])\n",
    "    if has_ace and value > 21:\n",
    "        value -= 10\n",
    "    return value\n",
    "\n",
    "def display_hand(hand):\n",
    "    for card in hand:\n",
    "        print(f\"{card['rank']} of {card['suit']}\")\n",
    "\n",
    "def player_turn(deck, player_hand):\n",
    "    while True:\n",
    "        display_hand(player_hand)\n",
    "        player_value = calculate_hand_value(player_hand)\n",
    "        if player_value == 21:\n",
    "            print(\"Blackjack! You win!\")\n",
    "            break\n",
    "        elif player_value > 21:\n",
    "            print(\"Bust! You lose.\")\n",
    "            break\n",
    "        else:\n",
    "            choice = input(\"Do you want to hit or stand? (h/s): \").lower()\n",
    "            if choice == 'h':\n",
    "                player_hand.append(deck.pop())\n",
    "            elif choice == 's':\n",
    "                break\n",
    "\n",
    "def dealer_turn(deck, dealer_hand):\n",
    "    while True:\n",
    "        dealer_value = calculate_hand_value(dealer_hand)\n",
    "        if dealer_value >= 17:\n",
    "            break\n",
    "        else:\n",
    "            dealer_hand.append(deck.pop())\n",
    "\n",
    "def blackjack_game():\n",
    "    deck = create_deck()\n",
    "    player_hand = [deck.pop(), deck.pop()]\n",
    "    dealer_hand = [deck.pop(), deck.pop()]\n",
    "\n",
    "    print(\"Player's hand:\")\n",
    "    player_turn(deck, player_hand)\n",
    "    \n",
    "    print(\"\\nDealer's hand:\")\n",
    "    dealer_turn(deck, dealer_hand)\n",
    "    \n",
    "    player_value = calculate_hand_value(player_hand)\n",
    "    dealer_value = calculate_hand_value(dealer_hand)\n",
    "    \n",
    "    print(\"\\nPlayer's hand:\")\n",
    "    display_hand(player_hand)\n",
    "    print(f\"Total value: {player_value}\")\n",
    "    \n",
    "    print(\"\\nDealer's hand:\")\n",
    "    display_hand(dealer_hand)\n",
    "    print(f\"Total value: {dealer_value}\")\n",
    "    \n",
    "    if player_value > 21:\n",
    "        print(\"Player busted. Dealer wins.\")\n",
    "    elif dealer_value > 21:\n",
    "        print(\"Dealer busted. Player wins.\")\n",
    "    elif player_value == dealer_value:\n",
    "        print(\"It's a tie!\")\n",
    "    elif player_value > dealer_value:\n",
    "        print(\"Player wins!\")\n",
    "    else:\n",
    "        print(\"Dealer wins.\")\n",
    "\n",
    "blackjack_game()\n"
   ]
  },
  {
   "cell_type": "code",
   "execution_count": 6,
   "id": "5da9be38-487f-44c8-aa55-5a4dd1639ee4",
   "metadata": {},
   "outputs": [
    {
     "name": "stdout",
     "output_type": "stream",
     "text": [
      "Prime factors of 56 are: [2, 2, 2, 7]\n"
     ]
    }
   ],
   "source": [
    "#Python problems Assignment problems...question no 40(challenge level)\n",
    "#Write a program that generates the prime factors of a given number using trial division.\n",
    "def prime_factors(n):\n",
    "    factors = []\n",
    "    div = 2\n",
    "    while n > 1:\n",
    "        while n % div == 0:\n",
    "            factors.append(div)\n",
    "            n //= div\n",
    "        div += 1\n",
    "    return factors\n",
    "\n",
    "number = 56\n",
    "print(\"Prime factors of\", number, \"are:\", prime_factors(number))\n"
   ]
  },
  {
   "cell_type": "code",
   "execution_count": null,
   "id": "0f80356b-54e2-4598-9995-b77b47b0e12f",
   "metadata": {},
   "outputs": [],
   "source": []
  }
 ],
 "metadata": {
  "kernelspec": {
   "display_name": "Python 3 (ipykernel)",
   "language": "python",
   "name": "python3"
  },
  "language_info": {
   "codemirror_mode": {
    "name": "ipython",
    "version": 3
   },
   "file_extension": ".py",
   "mimetype": "text/x-python",
   "name": "python",
   "nbconvert_exporter": "python",
   "pygments_lexer": "ipython3",
   "version": "3.10.8"
  }
 },
 "nbformat": 4,
 "nbformat_minor": 5
}
