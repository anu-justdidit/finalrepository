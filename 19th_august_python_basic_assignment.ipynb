{
 "cells": [
  {
   "cell_type": "code",
   "execution_count": 4,
   "id": "587a44d7-8bd6-437b-8933-bed4d1f92357",
   "metadata": {},
   "outputs": [
    {
     "name": "stdout",
     "output_type": "stream",
     "text": [
      "After swapping:\n",
      "x= 10\n",
      "y= 5\n"
     ]
    }
   ],
   "source": [
    "#Topic 1: Python Basic Variable\n",
    "# Declare and assign variable\n",
    "x = 5\n",
    "y = 10\n",
    "        \n",
    "#Swap values without changing variable\n",
    "x,y = y,x\n",
    "        \n",
    "#Print the swapped values\n",
    "print(\"After swapping:\")\n",
    "print(\"x=\", x)\n",
    "print(\"y=\", y)"
   ]
  },
  {
   "cell_type": "code",
   "execution_count": 7,
   "id": "96b9a9b1-dacd-4033-9b45-3589059a9b0c",
   "metadata": {},
   "outputs": [
    {
     "name": "stdin",
     "output_type": "stream",
     "text": [
      "Enter the length of the rectangle:  7.5\n",
      "Enter the width of the rectangle:  6.5\n"
     ]
    },
    {
     "name": "stdout",
     "output_type": "stream",
     "text": [
      "The area of the rectangle is: 48.75\n"
     ]
    }
   ],
   "source": [
    "#Topic 1: Python Basic Variable\n",
    "#Take input for length and width for the user\n",
    "\n",
    "\n",
    "length = float(input(\"Enter the length of the rectangle: \"))\n",
    "width = float(input(\"Enter the width of the rectangle: \"))\n",
    "\n",
    "# Calculate the area of the rectangle\n",
    "area = length * width\n",
    "\n",
    "# Display the calculated area\n",
    "print(\"The area of the rectangle is:\", area)\n",
    "\n"
   ]
  },
  {
   "cell_type": "code",
   "execution_count": 10,
   "id": "5e8720c6-69b6-42d5-be4a-898d6e1dfafb",
   "metadata": {},
   "outputs": [
    {
     "name": "stdin",
     "output_type": "stream",
     "text": [
      "Enter the temperature in Celsius:  34\n"
     ]
    },
    {
     "name": "stdout",
     "output_type": "stream",
     "text": [
      "Temperature in Fahrenheit: 93.2\n"
     ]
    }
   ],
   "source": [
    "#Topic 1: Python Basic Variable\n",
    "# Take input for temperature in Celsius from the user\n",
    "celsius = float(input(\"Enter the temperature in Celsius: \"))\n",
    "\n",
    "# Convert Celsius to Fahrenheit\n",
    "fahrenheit = (celsius * 9/5) + 32\n",
    "\n",
    "# Display the converted temperature in Fahrenheit\n",
    "print(\"Temperature in Fahrenheit:\", fahrenheit)\n"
   ]
  },
  {
   "cell_type": "code",
   "execution_count": 12,
   "id": "3b8314f8-6135-46de-bbd7-159825fc9ab7",
   "metadata": {},
   "outputs": [
    {
     "name": "stdin",
     "output_type": "stream",
     "text": [
      "Enter a sentence:  The only way to do great work is to love what you do.\n"
     ]
    },
    {
     "name": "stdout",
     "output_type": "stream",
     "text": [
      "Number of vowels in the sentence: 16\n"
     ]
    }
   ],
   "source": [
    "#Topic 2: String based questions\n",
    "# Take input for a sentence from the user\n",
    "sentence = input(\"Enter a sentence: \")\n",
    "\n",
    "# Convert the sentence to lowercase to make the counting case-insensitive\n",
    "sentence = sentence.lower()\n",
    "\n",
    "# Initialize a variable to count the vowels\n",
    "vowel_count = 0\n",
    "\n",
    "# Iterate through each character in the sentence\n",
    "for char in sentence:\n",
    "    # Check if the character is a vowel\n",
    "    if char in \"aeiou\":\n",
    "        # Increment the vowel count\n",
    "        vowel_count += 1\n",
    "\n",
    "# Display the count of vowels\n",
    "print(\"Number of vowels in the sentence:\", vowel_count)\n"
   ]
  },
  {
   "cell_type": "code",
   "execution_count": null,
   "id": "5adac19e-3f9f-48ee-a7d1-e5da1e3afc86",
   "metadata": {},
   "outputs": [],
   "source": [
    "#Topic 2: String based questions\n",
    "# Take input for a sentence from the user\n",
    "\n",
    "sentence = input(\"Enter a sentence: \").lower()\n",
    "vowel_count = sum(1 for char in sentence if char in \"aeiou\")  # It uses a generator expression to iterate through each character in the sentence and counts only those that are vowels.\n",
    "print(\"Number of vowels in the sentence:\", vowel_count)\n"
   ]
  },
  {
   "cell_type": "code",
   "execution_count": null,
   "id": "17abfa5b-5095-4dd9-8d06-ae7a7f357772",
   "metadata": {},
   "outputs": [],
   "source": [
    "#Topic 2: String based questions\n",
    "# Take input for a string from the user\n",
    "input_string = input(\"Enter a string: \")\n",
    "\n",
    "# Use string slicing to reverse the order of characters\n",
    "reversed_string = input_string[::-1]\n",
    "\n",
    "# Print the reversed string\n",
    "print(\"Reversed string:\", reversed_string)\n"
   ]
  },
  {
   "cell_type": "code",
   "execution_count": 1,
   "id": "47d4cf0b-8d2c-477e-a2c1-ed6342196e9a",
   "metadata": {},
   "outputs": [
    {
     "name": "stdin",
     "output_type": "stream",
     "text": [
      "Enter a string:  mom\n"
     ]
    },
    {
     "name": "stdout",
     "output_type": "stream",
     "text": [
      "The entered string is a palindrome.\n"
     ]
    }
   ],
   "source": [
    "#Topic 2: String based questions\n",
    "# Take input for a string from the user\n",
    "input_string = input(\"Enter a string: \")\n",
    "\n",
    "# Remove spaces and convert to lowercase for case-insensitive comparison\n",
    "cleaned_string = ''.join(input_string.split()).lower()\n",
    "\n",
    "# Check if the cleaned string is equal to its reverse\n",
    "is_palindrome = cleaned_string == cleaned_string[::-1]\n",
    "\n",
    "# Print the result\n",
    "if is_palindrome:\n",
    "    print(\"The entered string is a palindrome.\")\n",
    "else:\n",
    "    print(\"The entered string is not a palindrome.\")\n"
   ]
  },
  {
   "cell_type": "code",
   "execution_count": 2,
   "id": "fde8a7c4-b472-4924-871d-3eb31847903f",
   "metadata": {},
   "outputs": [
    {
     "name": "stdin",
     "output_type": "stream",
     "text": [
      "Enter a string:  life is beautiful only we make it complicated\n"
     ]
    },
    {
     "name": "stdout",
     "output_type": "stream",
     "text": [
      "Modified string without spaces: lifeisbeautifulonlywemakeitcomplicated\n"
     ]
    }
   ],
   "source": [
    "#Topic 2: String based questions\n",
    "# Take input for a string from the user\n",
    "input_string = input(\"Enter a string: \")\n",
    "\n",
    "# Remove spaces from the string and print the modified string\n",
    "print(\"Modified string without spaces:\", ''.join(input_string.split()))\n"
   ]
  },
  {
   "cell_type": "code",
   "execution_count": null,
   "id": "d028e4f0-46cf-4d39-9852-4af650f18b4a",
   "metadata": {},
   "outputs": [],
   "source": []
  }
 ],
 "metadata": {
  "kernelspec": {
   "display_name": "Python 3 (ipykernel)",
   "language": "python",
   "name": "python3"
  },
  "language_info": {
   "codemirror_mode": {
    "name": "ipython",
    "version": 3
   },
   "file_extension": ".py",
   "mimetype": "text/x-python",
   "name": "python",
   "nbconvert_exporter": "python",
   "pygments_lexer": "ipython3",
   "version": "3.10.8"
  }
 },
 "nbformat": 4,
 "nbformat_minor": 5
}
