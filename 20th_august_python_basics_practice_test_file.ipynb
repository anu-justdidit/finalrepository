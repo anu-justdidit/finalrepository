{
 "cells": [
  {
   "cell_type": "code",
   "execution_count": 1,
   "id": "ad154621-744a-415b-aa37-6f92a681d1a7",
   "metadata": {},
   "outputs": [
    {
     "name": "stdin",
     "output_type": "stream",
     "text": [
      "Enter a string:  string\n"
     ]
    },
    {
     "name": "stdout",
     "output_type": "stream",
     "text": [
      "Reversed string: gnirts\n"
     ]
    }
   ],
   "source": [
    "#Topic 1: String Based Assignment problems...question no 1\n",
    "# Take input for a string from the user\n",
    "input_string = input(\"Enter a string: \")\n",
    "\n",
    "# Reverse the string using string slicing\n",
    "reversed_string = input_string[::-1]\n",
    "\n",
    "# Print the reversed string\n",
    "print(\"Reversed string:\", reversed_string)\n",
    "\n"
   ]
  },
  {
   "cell_type": "code",
   "execution_count": 2,
   "id": "0e9c4400-14a7-49e3-b176-3181d60ec96b",
   "metadata": {},
   "outputs": [
    {
     "name": "stdin",
     "output_type": "stream",
     "text": [
      "Enter a string:  mom\n"
     ]
    },
    {
     "name": "stdout",
     "output_type": "stream",
     "text": [
      "The entered string is a palindrome.\n"
     ]
    }
   ],
   "source": [
    "#Topic 1: String Based Assignment problems...question no 2\n",
    "# Take input for a string from the user\n",
    "input_string = input(\"Enter a string: \")\n",
    "\n",
    "# Remove spaces and convert to lowercase for case-insensitive comparison\n",
    "cleaned_string = ''.join(input_string.split()).lower()\n",
    "\n",
    "# Check if the cleaned string is equal to its reverse\n",
    "is_palindrome = cleaned_string == cleaned_string[::-1]\n",
    "\n",
    "# Print the result\n",
    "if is_palindrome:\n",
    "    print(\"The entered string is a palindrome.\")\n",
    "else:\n",
    "    print(\"The entered string is not a palindrome.\")\n",
    "    \n"
   ]
  },
  {
   "cell_type": "code",
   "execution_count": 3,
   "id": "2346ab3e-591a-4bac-819c-d2eba1c8179b",
   "metadata": {},
   "outputs": [
    {
     "name": "stdin",
     "output_type": "stream",
     "text": [
      "Enter a string:  mom\n"
     ]
    },
    {
     "name": "stdout",
     "output_type": "stream",
     "text": [
      "Uppercase string: MOM\n"
     ]
    }
   ],
   "source": [
    "#Topic 1: String Based Assignment problems...question no 3\n",
    "# Take input for a string from the user\n",
    "input_string = input(\"Enter a string: \")\n",
    "\n",
    "# Convert the string to uppercase\n",
    "uppercase_string = input_string.upper()\n",
    "\n",
    "# Print the string in uppercase\n",
    "print(\"Uppercase string:\", uppercase_string)\n"
   ]
  },
  {
   "cell_type": "code",
   "execution_count": 4,
   "id": "75d14c26-85c0-4dd4-bfc6-01c60568bfe1",
   "metadata": {},
   "outputs": [
    {
     "name": "stdin",
     "output_type": "stream",
     "text": [
      "Enter a string:  CHANNEL\n"
     ]
    },
    {
     "name": "stdout",
     "output_type": "stream",
     "text": [
      "Lowercase string: channel\n"
     ]
    }
   ],
   "source": [
    "#Topic 1: String Based Assignment problems...question no 4\n",
    "# Take input for a string from the user\n",
    "input_string = input(\"Enter a string: \")\n",
    "\n",
    "# Convert the string to lowercase\n",
    "lowercase_string = input_string.lower()\n",
    "\n",
    "# Print the string in lowercase\n",
    "print(\"Lowercase string:\", lowercase_string)\n"
   ]
  },
  {
   "cell_type": "code",
   "execution_count": 5,
   "id": "e390df60-6074-4d5f-a471-b3fd3eb1cef3",
   "metadata": {},
   "outputs": [
    {
     "name": "stdin",
     "output_type": "stream",
     "text": [
      "Enter a string:  hello all\n"
     ]
    },
    {
     "name": "stdout",
     "output_type": "stream",
     "text": [
      "Number of vowels in the string: 3\n"
     ]
    }
   ],
   "source": [
    "#Topic 1: String Based Assignment problems...question no 5\n",
    "# Take input for a string from the user\n",
    "input_string = input(\"Enter a string: \")\n",
    "\n",
    "# Convert the string to lowercase for case-insensitive counting\n",
    "input_string_lower = input_string.lower()\n",
    "\n",
    "# Count the number of vowels in the string\n",
    "vowel_count = sum(1 for char in input_string_lower if char in \"aeiou\")\n",
    "\n",
    "# Print the result\n",
    "print(\"Number of vowels in the string:\", vowel_count)\n"
   ]
  },
  {
   "cell_type": "code",
   "execution_count": 6,
   "id": "fd2b3be1-d2eb-46d9-a5e7-b7fb4d92898c",
   "metadata": {},
   "outputs": [
    {
     "name": "stdin",
     "output_type": "stream",
     "text": [
      "Enter a string:  hindusthan\n"
     ]
    },
    {
     "name": "stdout",
     "output_type": "stream",
     "text": [
      "Number of consonants in the string: 7\n"
     ]
    }
   ],
   "source": [
    "#Topic 1: String Based Assignment problems...question no 6\n",
    "# Take input for a string from the user\n",
    "input_string = input(\"Enter a string: \")\n",
    "\n",
    "# Convert the string to lowercase for case-insensitive counting\n",
    "input_string_lower = input_string.lower()\n",
    "\n",
    "# Count the number of consonants in the string\n",
    "consonant_count = sum(1 for char in input_string_lower if char.isalpha() and char not in \"aeiou\")\n",
    "\n",
    "# Print the result\n",
    "print(\"Number of consonants in the string:\", consonant_count)\n"
   ]
  },
  {
   "cell_type": "code",
   "execution_count": 7,
   "id": "d844a4af-226b-4abd-b816-1e7024e7dc65",
   "metadata": {},
   "outputs": [
    {
     "name": "stdin",
     "output_type": "stream",
     "text": [
      "Enter a string:  hello everyone\n"
     ]
    },
    {
     "name": "stdout",
     "output_type": "stream",
     "text": [
      "String without spaces: helloeveryone\n"
     ]
    }
   ],
   "source": [
    "#Topic 1: String Based Assignment problems...question no 7\n",
    "# Take input for a string from the user\n",
    "input_string = input(\"Enter a string: \")\n",
    "\n",
    "# Remove whitespaces from the string\n",
    "string_without_spaces = ''.join(input_string.split())\n",
    "\n",
    "# Print the modified string without spaces\n",
    "print(\"String without spaces:\", string_without_spaces)\n"
   ]
  },
  {
   "cell_type": "code",
   "execution_count": 11,
   "id": "cd84331c-2062-4e86-829e-9dd804b28cfe",
   "metadata": {},
   "outputs": [
    {
     "name": "stdin",
     "output_type": "stream",
     "text": [
      "Enter a string:  hello\n"
     ]
    },
    {
     "name": "stdout",
     "output_type": "stream",
     "text": [
      "Length of the string: 5\n"
     ]
    }
   ],
   "source": [
    "#Topic 1: String Based Assignment problems...question no 8\n",
    "# Take input for a string from the user\n",
    "input_string = input(\"Enter a string: \")\n",
    "\n",
    "# Initialize a variable to count the characters\n",
    "character_count = 0\n",
    "\n",
    "# Iterate through each character in the string\n",
    "for char in input_string:\n",
    "    character_count += 1\n",
    "\n",
    "# Print the length of the string\n",
    "print(\"Length of the string:\", character_count)\n",
    "\n"
   ]
  },
  {
   "cell_type": "code",
   "execution_count": 10,
   "id": "f44a4ac5-8a81-4649-a12d-e1a37a97f334",
   "metadata": {},
   "outputs": [
    {
     "name": "stdin",
     "output_type": "stream",
     "text": [
      "Enter a string:  time is right\n",
      "Enter the specific word to check for:  right\n"
     ]
    },
    {
     "name": "stdout",
     "output_type": "stream",
     "text": [
      "The string contains the word 'right'.\n"
     ]
    }
   ],
   "source": [
    "##Topic 1: String Based Assignment problems...question no 9\n",
    "# Take input for a string from the user\n",
    "input_string = input(\"Enter a string: \")\n",
    "\n",
    "# Specify the word to check\n",
    "specific_word = input(\"Enter the specific word to check for: \")\n",
    "\n",
    "# Check if the string contains the specific word\n",
    "contains_word = specific_word in input_string\n",
    "\n",
    "# Print the result\n",
    "if contains_word:\n",
    "    print(f\"The string contains the word '{specific_word}'.\")\n",
    "else:\n",
    "    print(f\"The string does not contain the word '{specific_word}'.\")\n"
   ]
  },
  {
   "cell_type": "code",
   "execution_count": 12,
   "id": "6ae0c684-952d-4ad0-abef-eae893f381bc",
   "metadata": {},
   "outputs": [
    {
     "name": "stdin",
     "output_type": "stream",
     "text": [
      "Enter a string:  time is valuable\n",
      "Enter the word to replace:  time\n",
      "Enter the new word:  mone\n"
     ]
    },
    {
     "name": "stdout",
     "output_type": "stream",
     "text": [
      "Modified string: mone is valuable\n"
     ]
    }
   ],
   "source": [
    "##Topic 1: String Based Assignment problems...question no 10\n",
    "# Take input for a string from the user\n",
    "input_string = input(\"Enter a string: \")\n",
    "\n",
    "# Specify the word to replace and the new word\n",
    "word_to_replace = input(\"Enter the word to replace: \")\n",
    "new_word = input(\"Enter the new word: \")\n",
    "\n",
    "# Replace the specified word with the new word\n",
    "modified_string = input_string.replace(word_to_replace, new_word)\n",
    "\n",
    "# Print the modified string\n",
    "print(\"Modified string:\", modified_string)\n"
   ]
  },
  {
   "cell_type": "code",
   "execution_count": 14,
   "id": "8ddac9eb-4ce8-4051-9e02-51aa75e17a8c",
   "metadata": {},
   "outputs": [
    {
     "name": "stdin",
     "output_type": "stream",
     "text": [
      "Enter a string:  hey hey this is me\n",
      "Enter the word to count:  hey\n"
     ]
    },
    {
     "name": "stdout",
     "output_type": "stream",
     "text": [
      "The word 'hey' occurs 2 times in the string.\n"
     ]
    }
   ],
   "source": [
    "#Topic 1: String Based Assignment problems...question no 11\n",
    "# Take input for a string from the user\n",
    "input_string = input(\"Enter a string: \")\n",
    "\n",
    "# Specify the word to count\n",
    "word_to_count = input(\"Enter the word to count: \")\n",
    "\n",
    "# Count the occurrences of the specified word in the string\n",
    "word_count = input_string.lower().count(word_to_count.lower())\n",
    "\n",
    "# Print the result\n",
    "print(f\"The word '{word_to_count}' occurs {word_count} times in the string.\")\n"
   ]
  },
  {
   "cell_type": "code",
   "execution_count": 15,
   "id": "fac8c925-e527-4b0d-b36f-3562a1ff17a0",
   "metadata": {},
   "outputs": [
    {
     "name": "stdin",
     "output_type": "stream",
     "text": [
      "Enter a string:  time is money\n",
      "Enter the word to find:  time\n"
     ]
    },
    {
     "name": "stdout",
     "output_type": "stream",
     "text": [
      "The first occurrence of the word 'time' is at index 0.\n"
     ]
    }
   ],
   "source": [
    "#Topic 1: String Based Assignment problems...question no 12\n",
    "# Take input for a string from the user\n",
    "input_string = input(\"Enter a string: \")\n",
    "\n",
    "# Specify the word to find\n",
    "word_to_find = input(\"Enter the word to find: \")\n",
    "\n",
    "# Find the first occurrence of the specified word in the string\n",
    "first_occurrence = input_string.lower().find(word_to_find.lower())\n",
    "\n",
    "# Print the result\n",
    "if first_occurrence != -1:\n",
    "    print(f\"The first occurrence of the word '{word_to_find}' is at index {first_occurrence}.\")\n",
    "else:\n",
    "    print(f\"The word '{word_to_find}' is not found in the string.\")\n"
   ]
  },
  {
   "cell_type": "code",
   "execution_count": 16,
   "id": "660d6ae5-2636-4475-bbbe-5bfd7e2d3256",
   "metadata": {},
   "outputs": [
    {
     "name": "stdin",
     "output_type": "stream",
     "text": [
      "Enter a string:  time is money\n",
      "Enter the word to find:  is\n"
     ]
    },
    {
     "name": "stdout",
     "output_type": "stream",
     "text": [
      "The last occurrence of the word 'is' is at index 5.\n"
     ]
    }
   ],
   "source": [
    "#Topic 1: String Based Assignment problems...question no 13\n",
    "# Take input for a string from the user\n",
    "input_string = input(\"Enter a string: \")\n",
    "\n",
    "# Specify the word to find\n",
    "word_to_find = input(\"Enter the word to find: \")\n",
    "\n",
    "# Find the last occurrence of the specified word in the string\n",
    "last_occurrence = input_string.lower().rfind(word_to_find.lower())\n",
    "\n",
    "# Print the result\n",
    "if last_occurrence != -1:\n",
    "    print(f\"The last occurrence of the word '{word_to_find}' is at index {last_occurrence}.\")\n",
    "else:\n",
    "    print(f\"The word '{word_to_find}' is not found in the string.\")\n",
    "\n"
   ]
  },
  {
   "cell_type": "code",
   "execution_count": 18,
   "id": "4c38e7dc-d440-4c1d-a449-abf11dda9f0e",
   "metadata": {},
   "outputs": [
    {
     "name": "stdin",
     "output_type": "stream",
     "text": [
      "Enter a string:  time is money\n"
     ]
    },
    {
     "name": "stdout",
     "output_type": "stream",
     "text": [
      "List of words: ['time', 'is', 'money']\n"
     ]
    }
   ],
   "source": [
    "#Topic 1: String Based Assignment problems...question no 14\n",
    "# Take input for a string from the user\n",
    "input_string = input(\"Enter a string: \")\n",
    "\n",
    "# Split the string into a list of words\n",
    "word_list = input_string.split()\n",
    "\n",
    "# Print the list of words\n",
    "print(\"List of words:\", word_list)\n"
   ]
  },
  {
   "cell_type": "code",
   "execution_count": 20,
   "id": "5c64eab0-6760-4817-ad14-6013267e6098",
   "metadata": {},
   "outputs": [
    {
     "name": "stdin",
     "output_type": "stream",
     "text": [
      "Enter a list of words separated by spaces:  mynameisanusha\n"
     ]
    },
    {
     "name": "stdout",
     "output_type": "stream",
     "text": [
      "Joined string: mynameisanusha\n"
     ]
    }
   ],
   "source": [
    "#Topic 1: String Based Assignment problems...question no 15\n",
    "# Take input for a list of words from the user\n",
    "word_list = input(\"Enter a list of words separated by spaces: \").split()\n",
    "\n",
    "# Join the list of words into a string\n",
    "joined_string = ' '.join(word_list)\n",
    "\n",
    "# Print the joined string\n",
    "print(\"Joined string:\", joined_string)\n"
   ]
  },
  {
   "cell_type": "code",
   "execution_count": 21,
   "id": "00e7e587-42bf-4f51-9bf0-b99f186405e9",
   "metadata": {},
   "outputs": [
    {
     "name": "stdin",
     "output_type": "stream",
     "text": [
      "Enter a string with words separated by spaces:  my name is anusha\n"
     ]
    },
    {
     "name": "stdout",
     "output_type": "stream",
     "text": [
      "Modified string with underscores: my_name_is_anusha\n"
     ]
    }
   ],
   "source": [
    "#Topic 1: String Based Assignment problems...question no 16\n",
    "# Take input for a string with words separated by spaces from the user\n",
    "input_string = input(\"Enter a string with words separated by spaces: \")\n",
    "\n",
    "# Replace spaces with underscores\n",
    "modified_string = input_string.replace(' ', '_')\n",
    "\n",
    "# Print the modified string\n",
    "print(\"Modified string with underscores:\", modified_string)\n"
   ]
  },
  {
   "cell_type": "code",
   "execution_count": 26,
   "id": "f5aae5d0-f7d0-4296-b409-63638b9a6671",
   "metadata": {},
   "outputs": [
    {
     "name": "stdin",
     "output_type": "stream",
     "text": [
      "Enter a string:  time is money\n",
      "Enter the specific word or phrase to check for at the beginning:  time\n"
     ]
    },
    {
     "name": "stdout",
     "output_type": "stream",
     "text": [
      "The string starts with 'time'.\n"
     ]
    }
   ],
   "source": [
    "#Topic 1: String Based Assignment problems...question no 17\n",
    "# Take input for a string from the user\n",
    "input_string = input(\"Enter a string: \")\n",
    "\n",
    "# Specify the word or phrase to check\n",
    "specific_word_or_phrase = input(\"Enter the specific word or phrase to check for at the beginning: \")\n",
    "\n",
    "# Check if the string starts with the specified word or phrase\n",
    "starts_with_word = input_string.lower().startswith(specific_word_or_phrase.lower())\n",
    "\n",
    "# Print the result\n",
    "if starts_with_word:\n",
    "    print(f\"The string starts with '{specific_word_or_phrase}'.\")\n",
    "else:\n",
    "    print(f\"The string does not start with '{specific_word_or_phrase}'.\")\n"
   ]
  },
  {
   "cell_type": "code",
   "execution_count": 27,
   "id": "86778bcb-7a25-4a67-819a-13454211faaf",
   "metadata": {},
   "outputs": [
    {
     "name": "stdin",
     "output_type": "stream",
     "text": [
      "Enter a string:  time is money\n",
      "Enter the specific word or phrase to check for at the end:  money\n"
     ]
    },
    {
     "name": "stdout",
     "output_type": "stream",
     "text": [
      "The string ends with 'money'.\n"
     ]
    }
   ],
   "source": [
    "#Topic 1: String Based Assignment problems...question no 18\n",
    "# Take input for a string from the user\n",
    "input_string = input(\"Enter a string: \")\n",
    "\n",
    "# Specify the word or phrase to check\n",
    "specific_word_or_phrase = input(\"Enter the specific word or phrase to check for at the end: \")\n",
    "\n",
    "# Check if the string ends with the specified word or phrase\n",
    "ends_with_word = input_string.lower().endswith(specific_word_or_phrase.lower())\n",
    "\n",
    "# Print the result\n",
    "if ends_with_word:\n",
    "    print(f\"The string ends with '{specific_word_or_phrase}'.\")\n",
    "else:\n",
    "    print(f\"The string does not end with '{specific_word_or_phrase}'.\")\n"
   ]
  },
  {
   "cell_type": "code",
   "execution_count": 28,
   "id": "3524207c-11ca-4483-84ce-a7654bd0d49f",
   "metadata": {},
   "outputs": [
    {
     "name": "stdin",
     "output_type": "stream",
     "text": [
      "Enter a string:  hello world\n"
     ]
    },
    {
     "name": "stdout",
     "output_type": "stream",
     "text": [
      "Title case string: Hello World\n"
     ]
    }
   ],
   "source": [
    "#Topic 1: String Based Assignment problems...question no 19\n",
    "# Take input for a string from the user\n",
    "input_string = input(\"Enter a string: \")\n",
    "\n",
    "# Convert the string to title case\n",
    "title_case_string = input_string.title()\n",
    "\n",
    "# Print the string in title case\n",
    "print(\"Title case string:\", title_case_string)\n"
   ]
  },
  {
   "cell_type": "code",
   "execution_count": 29,
   "id": "4f6e6885-0844-41d2-8e5e-681c57ab92fc",
   "metadata": {},
   "outputs": [
    {
     "name": "stdin",
     "output_type": "stream",
     "text": [
      "Enter a string:  money is everything\n"
     ]
    },
    {
     "name": "stdout",
     "output_type": "stream",
     "text": [
      "Longest word in the string: everything\n"
     ]
    }
   ],
   "source": [
    "#Topic 1: String Based Assignment problems...question no 20\n",
    "# Take input for a string from the user\n",
    "input_string = input(\"Enter a string: \")\n",
    "\n",
    "# Split the string into a list of words\n",
    "word_list = input_string.split()\n",
    "\n",
    "# Find the longest word in the list\n",
    "longest_word = max(word_list, key=len)\n",
    "\n",
    "# Print the result\n",
    "print(\"Longest word in the string:\", longest_word)\n"
   ]
  },
  {
   "cell_type": "code",
   "execution_count": 30,
   "id": "1e85f8b1-c6eb-4cba-bd03-dd8c4b94d715",
   "metadata": {},
   "outputs": [
    {
     "name": "stdin",
     "output_type": "stream",
     "text": [
      "Enter a string:  money is honey\n"
     ]
    },
    {
     "name": "stdout",
     "output_type": "stream",
     "text": [
      "Shortest word in the string: is\n"
     ]
    }
   ],
   "source": [
    "#Topic 1: String Based Assignment problems...question no 21\n",
    "# Take input for a string from the user\n",
    "input_string = input(\"Enter a string: \")\n",
    "\n",
    "# Split the string into a list of words\n",
    "word_list = input_string.split()\n",
    "\n",
    "# Find the shortest word in the list\n",
    "shortest_word = min(word_list, key=len)\n",
    "\n",
    "# Print the result\n",
    "print(\"Shortest word in the string:\", shortest_word)\n"
   ]
  },
  {
   "cell_type": "code",
   "execution_count": 31,
   "id": "4750d08a-68b4-481a-92f0-722360ed29f9",
   "metadata": {},
   "outputs": [
    {
     "name": "stdin",
     "output_type": "stream",
     "text": [
      "Enter a string:  time is honey\n"
     ]
    },
    {
     "name": "stdout",
     "output_type": "stream",
     "text": [
      "String with reversed order of words: honey is time\n"
     ]
    }
   ],
   "source": [
    "#Topic 1: String Based Assignment problems...question no 22\n",
    "# Take input for a string from the user\n",
    "input_string = input(\"Enter a string: \")\n",
    "\n",
    "# Split the string into a list of words\n",
    "word_list = input_string.split()\n",
    "\n",
    "# Reverse the order of words\n",
    "reversed_words = ' '.join(reversed(word_list))\n",
    "\n",
    "# Print the result\n",
    "print(\"String with reversed order of words:\", reversed_words)\n"
   ]
  },
  {
   "cell_type": "code",
   "execution_count": 33,
   "id": "bb507b16-0c3d-48a2-9565-95d96787bcb3",
   "metadata": {},
   "outputs": [
    {
     "name": "stdin",
     "output_type": "stream",
     "text": [
      "Enter a string:  8\n"
     ]
    },
    {
     "name": "stdout",
     "output_type": "stream",
     "text": [
      "The string is alphanumeric.\n"
     ]
    }
   ],
   "source": [
    "#Topic 1: String Based Assignment problems...question no 23\n",
    "# Take input for a string from the user\n",
    "input_string = input(\"Enter a string: \")\n",
    "\n",
    "# Check if the string is alphanumeric\n",
    "is_alphanumeric = input_string.isalnum()\n",
    "\n",
    "# Print the result\n",
    "if is_alphanumeric:\n",
    "    print(\"The string is alphanumeric.\")\n",
    "else:\n",
    "    print(\"The string is not alphanumeric.\")\n"
   ]
  },
  {
   "cell_type": "code",
   "execution_count": 35,
   "id": "6ae677ff-d08d-475a-ae25-f0a80ccb7003",
   "metadata": {},
   "outputs": [
    {
     "name": "stdin",
     "output_type": "stream",
     "text": [
      "Enter a string:  anu67 is a 677\n"
     ]
    },
    {
     "name": "stdout",
     "output_type": "stream",
     "text": [
      "Digits extracted from the string: 67677\n"
     ]
    }
   ],
   "source": [
    "#Topic 1: String Based Assignment problems...question no 24\n",
    "# Take input for a string from the user\n",
    "input_string = input(\"Enter a string: \")\n",
    "\n",
    "# Extract all digits from the string\n",
    "digits = [char for char in input_string if char.isdigit()]\n",
    "\n",
    "# Print the result\n",
    "if digits:\n",
    "    print(\"Digits extracted from the string:\", ''.join(digits))\n",
    "else:\n",
    "    print(\"No digits found in the string.\")\n"
   ]
  },
  {
   "cell_type": "code",
   "execution_count": 37,
   "id": "c483fbfd-8101-4712-b380-667b6573a1c6",
   "metadata": {},
   "outputs": [
    {
     "name": "stdin",
     "output_type": "stream",
     "text": [
      "Enter a string:  anu675\n"
     ]
    },
    {
     "name": "stdout",
     "output_type": "stream",
     "text": [
      "Alphabets extracted from the string: anu\n"
     ]
    }
   ],
   "source": [
    "#Topic 1: String Based Assignment problems...question no 25\n",
    "# Take input for a string from the user\n",
    "input_string = input(\"Enter a string: \")\n",
    "\n",
    "# Extract all alphabets from the string\n",
    "alphabets = [char for char in input_string if char.isalpha()]\n",
    "\n",
    "# Print the result\n",
    "if alphabets:\n",
    "    print(\"Alphabets extracted from the string:\", ''.join(alphabets))\n",
    "else:\n",
    "    print(\"No alphabets found in the string.\")\n"
   ]
  },
  {
   "cell_type": "code",
   "execution_count": 38,
   "id": "dc7a35e9-91b6-471f-9d40-720a6f061265",
   "metadata": {},
   "outputs": [
    {
     "name": "stdin",
     "output_type": "stream",
     "text": [
      "Enter a string:  aSHA is a good Girl\n"
     ]
    },
    {
     "name": "stdout",
     "output_type": "stream",
     "text": [
      "Number of uppercase letters in the string: 4\n"
     ]
    }
   ],
   "source": [
    "#Topic 1: String Based Assignment problems...question no 26\n",
    "# Take input for a string from the user\n",
    "input_string = input(\"Enter a string: \")\n",
    "\n",
    "# Count the number of uppercase letters in the string\n",
    "uppercase_count = sum(1 for char in input_string if char.isupper())\n",
    "\n",
    "# Print the result\n",
    "print(\"Number of uppercase letters in the string:\", uppercase_count)\n"
   ]
  },
  {
   "cell_type": "code",
   "execution_count": 39,
   "id": "17c0e5a0-2cad-42a6-a01f-1fc47e4a88e9",
   "metadata": {},
   "outputs": [
    {
     "name": "stdin",
     "output_type": "stream",
     "text": [
      "Enter a string:  anu is a good girl\n"
     ]
    },
    {
     "name": "stdout",
     "output_type": "stream",
     "text": [
      "Number of lowercase letters in the string: 14\n"
     ]
    }
   ],
   "source": [
    "#Topic 1: String Based Assignment problems...question no 27\n",
    "# Take input for a string from the user\n",
    "input_string = input(\"Enter a string: \")\n",
    "\n",
    "# Count the number of lowercase letters in the string\n",
    "lowercase_count = sum(1 for char in input_string if char.islower())\n",
    "\n",
    "# Print the result\n",
    "print(\"Number of lowercase letters in the string:\", lowercase_count)\n"
   ]
  },
  {
   "cell_type": "code",
   "execution_count": 40,
   "id": "ea451956-7983-4e9d-ab13-cee2200dae7a",
   "metadata": {},
   "outputs": [
    {
     "name": "stdin",
     "output_type": "stream",
     "text": [
      "Enter a string:  hello World\n"
     ]
    },
    {
     "name": "stdout",
     "output_type": "stream",
     "text": [
      "String with swapped case: HELLO wORLD\n"
     ]
    }
   ],
   "source": [
    "#Topic 1: String Based Assignment problems...question no 28\n",
    "# Take input for a string from the user\n",
    "input_string = input(\"Enter a string: \")\n",
    "\n",
    "# Swap the case of each character in the string\n",
    "swapped_string = input_string.swapcase()\n",
    "\n",
    "# Print the result\n",
    "print(\"String with swapped case:\", swapped_string)\n"
   ]
  },
  {
   "cell_type": "code",
   "execution_count": 41,
   "id": "d1a0a0e4-a375-4e85-a4df-2250fe98cde1",
   "metadata": {},
   "outputs": [
    {
     "name": "stdin",
     "output_type": "stream",
     "text": [
      "Enter a string:  it is a final countdown\n",
      "Enter the word to remove:  final\n"
     ]
    },
    {
     "name": "stdout",
     "output_type": "stream",
     "text": [
      "String after removing the word: it is a  countdown\n"
     ]
    }
   ],
   "source": [
    "#Topic 1: String Based Assignment problems...question no 29\n",
    "# Take input for a string from the user\n",
    "input_string = input(\"Enter a string: \")\n",
    "\n",
    "# Specify the word to remove\n",
    "word_to_remove = input(\"Enter the word to remove: \")\n",
    "\n",
    "# Remove the specified word from the string\n",
    "modified_string = input_string.replace(word_to_remove, '')\n",
    "\n",
    "# Print the result\n",
    "print(\"String after removing the word:\", modified_string)\n"
   ]
  },
  {
   "cell_type": "code",
   "execution_count": 1,
   "id": "d56368cd-d53b-4b64-8bce-deecfe9b7a4e",
   "metadata": {},
   "outputs": [
    {
     "name": "stdin",
     "output_type": "stream",
     "text": [
      "Enter an email address:  cynthia89104@gmail.com\n"
     ]
    },
    {
     "name": "stdout",
     "output_type": "stream",
     "text": [
      "The entered string is a valid email address.\n"
     ]
    }
   ],
   "source": [
    "#Topic 1: String Based Assignment problems...question no 30\n",
    "import re\n",
    "\n",
    "# Function to check if a string is a valid email address\n",
    "def is_valid_email(email):\n",
    "    # Define the regular expression pattern for a simple email validation\n",
    "    pattern = r'^[a-zA-Z0-9._%+-]+@[a-zA-Z0-9.-]+\\.[a-zA-Z]{2,}$'\n",
    "\n",
    "    # Use re.match to check if the string matches the pattern\n",
    "    match = re.match(pattern, email)\n",
    "\n",
    "    # Return True if it's a valid email, otherwise False\n",
    "    return bool(match)\n",
    "\n",
    "# Take input for an email address from the user\n",
    "email_address = input(\"Enter an email address: \")\n",
    "\n",
    "# Check if the input is a valid email address\n",
    "if is_valid_email(email_address):\n",
    "    print(\"The entered string is a valid email address.\")\n",
    "else:\n",
    "    print(\"The entered string is not a valid email address.\")\n"
   ]
  },
  {
   "cell_type": "code",
   "execution_count": 2,
   "id": "b1481a25-d29b-4195-a694-317f9cafa6c9",
   "metadata": {},
   "outputs": [
    {
     "name": "stdin",
     "output_type": "stream",
     "text": [
      "Enter an email address:  cynthia89104@gmail.com\n"
     ]
    },
    {
     "name": "stdout",
     "output_type": "stream",
     "text": [
      "Extracted username: cynthia89104\n"
     ]
    }
   ],
   "source": [
    "#Topic 1: String Based Assignment problems...question no 31\n",
    "# Take input for an email address from the user\n",
    "email_address = input(\"Enter an email address: \")\n",
    "\n",
    "# Extract the username using split('@')\n",
    "username = email_address.split('@')[0]\n",
    "\n",
    "# Print the result\n",
    "print(\"Extracted username:\", username)\n"
   ]
  },
  {
   "cell_type": "code",
   "execution_count": 3,
   "id": "c550248d-2de2-4ef9-8ad6-f0bb58e6fdc0",
   "metadata": {},
   "outputs": [
    {
     "name": "stdin",
     "output_type": "stream",
     "text": [
      "Enter an email address:  cynthia89104@gmail.com\n"
     ]
    },
    {
     "name": "stdout",
     "output_type": "stream",
     "text": [
      "Extracted domain name: gmail.com\n"
     ]
    }
   ],
   "source": [
    "#Topic 1: String Based Assignment problems...question no 32\n",
    "# Take input for an email address from the user\n",
    "email_address = input(\"Enter an email address: \")\n",
    "\n",
    "# Extract the domain name using split('@')\n",
    "domain_name = email_address.split('@')[1]\n",
    "\n",
    "# Print the result\n",
    "print(\"Extracted domain name:\", domain_name)\n"
   ]
  },
  {
   "cell_type": "code",
   "execution_count": 4,
   "id": "faba562c-ed1e-4f74-b45d-059789dd1c97",
   "metadata": {},
   "outputs": [
    {
     "name": "stdin",
     "output_type": "stream",
     "text": [
      "Enter a string with multiple spaces:  this  is   my   life\n"
     ]
    },
    {
     "name": "stdout",
     "output_type": "stream",
     "text": [
      "Modified string with single spaces: this is my life\n"
     ]
    }
   ],
   "source": [
    "#Topic 1: String Based Assignment problems...question no 33\n",
    "import re\n",
    "\n",
    "# Take input for a string with multiple spaces from the user\n",
    "input_string = input(\"Enter a string with multiple spaces: \")\n",
    "\n",
    "# Replace multiple spaces with a single space using re.sub\n",
    "modified_string = re.sub(r'\\s+', ' ', input_string)\n",
    "\n",
    "# Print the result\n",
    "print(\"Modified string with single spaces:\", modified_string)\n"
   ]
  },
  {
   "cell_type": "code",
   "execution_count": 2,
   "id": "ca384cc3-31fd-4f17-9933-1b9edb056ce2",
   "metadata": {},
   "outputs": [
    {
     "name": "stdin",
     "output_type": "stream",
     "text": [
      "Enter a URL:  https://www.google.com\n"
     ]
    },
    {
     "name": "stdout",
     "output_type": "stream",
     "text": [
      "The entered string is a valid URL.\n"
     ]
    }
   ],
   "source": [
    "#Topic 1: String Based Assignment problems...question no 34\n",
    "from urllib.parse import urlparse\n",
    "\n",
    "# Function to check if a string is a valid URL\n",
    "def is_valid_url(url):\n",
    "    try:\n",
    "        result = urlparse(url)\n",
    "        return all([result.scheme, result.netloc])\n",
    "    except ValueError:\n",
    "        return False\n",
    "\n",
    "# Take input for a URL from the user\n",
    "url = input(\"Enter a URL: \")\n",
    "\n",
    "# Check if the input is a valid URL\n",
    "if is_valid_url(url):\n",
    "    print(\"The entered string is a valid URL.\")\n",
    "else:\n",
    "    print(\"The entered string is not a valid URL.\")\n"
   ]
  },
  {
   "cell_type": "code",
   "execution_count": 3,
   "id": "44a6eb98-d5f8-404f-be1a-4e24bde8427c",
   "metadata": {},
   "outputs": [
    {
     "name": "stdin",
     "output_type": "stream",
     "text": [
      "Enter a URL:  https://www.google.com\n"
     ]
    },
    {
     "name": "stdout",
     "output_type": "stream",
     "text": [
      "Extracted protocol: https\n"
     ]
    }
   ],
   "source": [
    "#Topic 1: String Based Assignment problems...question no 35\n",
    "from urllib.parse import urlparse\n",
    "\n",
    "# Function to extract the protocol from a URL\n",
    "def extract_protocol(url):\n",
    "    try:\n",
    "        result = urlparse(url)\n",
    "        return result.scheme\n",
    "    except ValueError:\n",
    "        return None\n",
    "\n",
    "# Take input for a URL from the user\n",
    "url = input(\"Enter a URL: \")\n",
    "\n",
    "# Extract the protocol from the URL\n",
    "protocol = extract_protocol(url)\n",
    "\n",
    "# Print the result\n",
    "if protocol:\n",
    "    print(\"Extracted protocol:\", protocol)\n",
    "else:\n",
    "    print(\"Invalid URL format.\")\n"
   ]
  },
  {
   "cell_type": "code",
   "execution_count": 1,
   "id": "3aa00577-07a5-4dd8-85da-9b2602d749f8",
   "metadata": {},
   "outputs": [
    {
     "name": "stdin",
     "output_type": "stream",
     "text": [
      "Enter a string:  hello world\n"
     ]
    },
    {
     "name": "stdout",
     "output_type": "stream",
     "text": [
      "Character frequencies:\n",
      "h: 1\n",
      "e: 1\n",
      "l: 3\n",
      "o: 2\n",
      " : 1\n",
      "w: 1\n",
      "r: 1\n",
      "d: 1\n"
     ]
    }
   ],
   "source": [
    "#Topic 1: String Based Assignment problems...question no 36\n",
    "# Take input for a string from the user\n",
    "input_string = input(\"Enter a string: \")\n",
    "\n",
    "# Create an empty dictionary to store character frequencies\n",
    "char_frequency = {}\n",
    "\n",
    "# Count the frequency of each character in the string\n",
    "for char in input_string:\n",
    "    char_frequency[char] = char_frequency.get(char, 0) + 1\n",
    "\n",
    "# Print the result\n",
    "print(\"Character frequencies:\")\n",
    "for char, frequency in char_frequency.items():\n",
    "    print(f\"{char}: {frequency}\")\n"
   ]
  },
  {
   "cell_type": "code",
   "execution_count": 2,
   "id": "666c2b04-0e6c-4599-8384-e8c4af2b405c",
   "metadata": {},
   "outputs": [
    {
     "name": "stdin",
     "output_type": "stream",
     "text": [
      "Enter a string with punctuation:  \"Hello!!, World\"\n"
     ]
    },
    {
     "name": "stdout",
     "output_type": "stream",
     "text": [
      "String without punctuation: Hello World\n"
     ]
    }
   ],
   "source": [
    "#Topic 1: String Based Assignment problems...question no 37\n",
    "import string\n",
    "\n",
    "# Take input for a string from the user\n",
    "input_string = input(\"Enter a string with punctuation: \")\n",
    "\n",
    "# Remove all punctuation from the string\n",
    "no_punctuation_string = ''.join(char for char in input_string if char not in string.punctuation)\n",
    "\n",
    "# Print the result\n",
    "print(\"String without punctuation:\", no_punctuation_string)\n"
   ]
  },
  {
   "cell_type": "code",
   "execution_count": 3,
   "id": "7023191c-657a-45c3-9e9f-aa62c54e87ff",
   "metadata": {},
   "outputs": [
    {
     "name": "stdin",
     "output_type": "stream",
     "text": [
      "Enter a string:  67646\n"
     ]
    },
    {
     "name": "stdout",
     "output_type": "stream",
     "text": [
      "The entered string contains only digits.\n"
     ]
    }
   ],
   "source": [
    "#Topic 1: String Based Assignment problems...question no 38\n",
    "# Take input for a string from the user\n",
    "input_string = input(\"Enter a string: \")\n",
    "\n",
    "# Check if the string contains only digits\n",
    "if input_string.isdigit():\n",
    "    print(\"The entered string contains only digits.\")\n",
    "else:\n",
    "    print(\"The entered string does not contain only digits.\")\n",
    "\n"
   ]
  },
  {
   "cell_type": "code",
   "execution_count": 4,
   "id": "d2231c0a-4334-4479-9dff-48a9aa2ca2a5",
   "metadata": {},
   "outputs": [
    {
     "name": "stdin",
     "output_type": "stream",
     "text": [
      "Enter a string:  abcd\n"
     ]
    },
    {
     "name": "stdout",
     "output_type": "stream",
     "text": [
      "The entered string contains only alphabets.\n"
     ]
    }
   ],
   "source": [
    "#Topic 1: String Based Assignment problems...question no 39\n",
    "# Take input for a string from the user\n",
    "input_string = input(\"Enter a string: \")\n",
    "\n",
    "# Check if the string contains only alphabets\n",
    "if input_string.isalpha():\n",
    "    print(\"The entered string contains only alphabets.\")\n",
    "else:\n",
    "    print(\"The entered string does not contain only alphabets.\")\n"
   ]
  },
  {
   "cell_type": "code",
   "execution_count": 6,
   "id": "03a2a2d1-fbbd-443c-af61-218fdf8956df",
   "metadata": {},
   "outputs": [
    {
     "name": "stdin",
     "output_type": "stream",
     "text": [
      "Enter a string:  my name is anusha\n"
     ]
    },
    {
     "name": "stdout",
     "output_type": "stream",
     "text": [
      "List of characters: ['m', 'y', ' ', 'n', 'a', 'm', 'e', ' ', 'i', 's', ' ', 'a', 'n', 'u', 's', 'h', 'a']\n"
     ]
    }
   ],
   "source": [
    "#Topic 1: String Based Assignment problems...question no 40\n",
    "# Take input for a string from the user\n",
    "input_string = input(\"Enter a string: \")\n",
    "\n",
    "# Convert the string to a list of characters using list()\n",
    "char_list = list(input_string)\n",
    "\n",
    "# Print the result\n",
    "print(\"List of characters:\", char_list)\n"
   ]
  },
  {
   "cell_type": "code",
   "execution_count": 7,
   "id": "5089d777-ff16-4be5-b552-63383e2649ed",
   "metadata": {},
   "outputs": [
    {
     "name": "stdin",
     "output_type": "stream",
     "text": [
      "Enter the first string:  listen\n",
      "Enter the second string:  silent\n"
     ]
    },
    {
     "name": "stdout",
     "output_type": "stream",
     "text": [
      "The entered strings are anagrams.\n"
     ]
    }
   ],
   "source": [
    "#Topic 1: String Based Assignment problems...question no 41\n",
    "# Function to check if two strings are anagrams\n",
    "def are_anagrams(str1, str2):\n",
    "    # Remove spaces and convert to lowercase for case-insensitive comparison\n",
    "    str1 = str1.replace(\" \", \"\").lower()\n",
    "    str2 = str2.replace(\" \", \"\").lower()\n",
    "\n",
    "    # Check if the sorted versions of the strings are the same\n",
    "    return sorted(str1) == sorted(str2)\n",
    "\n",
    "# Take input for two strings from the user\n",
    "string1 = input(\"Enter the first string: \")\n",
    "string2 = input(\"Enter the second string: \")\n",
    "\n",
    "# Check if the strings are anagrams\n",
    "if are_anagrams(string1, string2):\n",
    "    print(\"The entered strings are anagrams.\")\n",
    "else:\n",
    "    print(\"The entered strings are not anagrams.\")\n"
   ]
  },
  {
   "cell_type": "code",
   "execution_count": 8,
   "id": "2ec811b5-8c9f-4b0f-9f75-de72f1127264",
   "metadata": {},
   "outputs": [
    {
     "name": "stdin",
     "output_type": "stream",
     "text": [
      "Enter a string to encode:  i am anusha\n",
      "Enter the shift value:  3\n"
     ]
    },
    {
     "name": "stdout",
     "output_type": "stream",
     "text": [
      "Encoded string: l dp dqxvkd\n"
     ]
    }
   ],
   "source": [
    "#Topic 1: String Based Assignment problems...question no 42\n",
    "# Function to encode a string using a Caesar cipher\n",
    "def caesar_cipher_encode(text, shift):\n",
    "    encoded_text = \"\"\n",
    "    for char in text:\n",
    "        if char.isalpha():  # Check if the character is a letter\n",
    "            start = ord('a') if char.islower() else ord('A')  # Set the starting point based on case\n",
    "            encoded_char = chr((ord(char) - start + shift) % 26 + start)  # Perform the Caesar cipher shift\n",
    "            encoded_text += encoded_char\n",
    "        else:\n",
    "            encoded_text += char  # Keep non-alphabetic characters unchanged\n",
    "    return encoded_text\n",
    "\n",
    "# Take input for a string and the shift value from the user\n",
    "input_string = input(\"Enter a string to encode: \")\n",
    "shift_value = int(input(\"Enter the shift value: \"))\n",
    "\n",
    "# Encode the string using the Caesar cipher\n",
    "encoded_string = caesar_cipher_encode(input_string, shift_value)\n",
    "\n",
    "# Print the result\n",
    "print(\"Encoded string:\", encoded_string)\n"
   ]
  },
  {
   "cell_type": "code",
   "execution_count": 9,
   "id": "86606e35-5b13-4825-aeb9-05578021d684",
   "metadata": {},
   "outputs": [
    {
     "name": "stdin",
     "output_type": "stream",
     "text": [
      "Enter an encoded string:  l dp dqxvkd\n",
      "Enter the original shift value:  3\n"
     ]
    },
    {
     "name": "stdout",
     "output_type": "stream",
     "text": [
      "Decoded string: i am anusha\n"
     ]
    }
   ],
   "source": [
    "#Topic 1: String Based Assignment problems...question no 43\n",
    "# Function to decode a string encoded with a Caesar cipher\n",
    "def caesar_cipher_decode(encoded_text, shift):\n",
    "    return caesar_cipher_encode(encoded_text, -shift)\n",
    "\n",
    "# Take input for an encoded string and the original shift value from the user\n",
    "encoded_string = input(\"Enter an encoded string: \")\n",
    "shift_value = int(input(\"Enter the original shift value: \"))\n",
    "\n",
    "# Decode the string using the Caesar cipher\n",
    "decoded_string = caesar_cipher_decode(encoded_string, shift_value)\n",
    "\n",
    "# Print the result\n",
    "print(\"Decoded string:\", decoded_string)\n"
   ]
  },
  {
   "cell_type": "code",
   "execution_count": 10,
   "id": "af07d9a4-a288-4704-a98a-78ce2aa9cd2b",
   "metadata": {},
   "outputs": [
    {
     "name": "stdin",
     "output_type": "stream",
     "text": [
      "Enter a string:  i am a a  a good girl\n"
     ]
    },
    {
     "name": "stdout",
     "output_type": "stream",
     "text": [
      "The most frequent word is: a\n"
     ]
    }
   ],
   "source": [
    "#Topic 1: String Based Assignment problems...question no 44\n",
    "\n",
    "from collections import Counter\n",
    "\n",
    "# Function to find the most frequent word in a string\n",
    "def most_frequent_word(input_string):\n",
    "    # Split the string into words\n",
    "    words = input_string.split()\n",
    "\n",
    "    # Count the frequency of each word using Counter\n",
    "    word_frequency = Counter(words)\n",
    "\n",
    "    # Find the most common word\n",
    "    most_common_word = word_frequency.most_common(1)[0][0]\n",
    "\n",
    "    return most_common_word\n",
    "\n",
    "# Take input for a string from the user\n",
    "input_string = input(\"Enter a string: \")\n",
    "\n",
    "# Find the most frequent word\n",
    "result = most_frequent_word(input_string)\n",
    "\n",
    "# Print the result\n",
    "print(\"The most frequent word is:\", result)\n"
   ]
  },
  {
   "cell_type": "code",
   "execution_count": 2,
   "id": "6949aaf8-0f69-43b5-9d2c-5d533d6558ae",
   "metadata": {},
   "outputs": [
    {
     "name": "stdin",
     "output_type": "stream",
     "text": [
      "Enter a string:  anusha is is \n"
     ]
    },
    {
     "name": "stdout",
     "output_type": "stream",
     "text": [
      "Unique words in the string: {'anusha', 'is'}\n"
     ]
    }
   ],
   "source": [
    "#Topic 1: String Based Assignment problems...question no 45\n",
    "# Function to find all unique words in a string\n",
    "def unique_words(input_string):\n",
    "    # Split the string into words\n",
    "    words = input_string.split()\n",
    "\n",
    "    # Use a set to store unique words\n",
    "    unique_word_set = set(words)\n",
    "\n",
    "    return unique_word_set\n",
    "\n",
    "# Take input for a string from the user\n",
    "input_string = input(\"Enter a string: \")\n",
    "\n",
    "# Find all unique words\n",
    "result = unique_words(input_string)\n",
    "\n",
    "# Print the result\n",
    "print(\"Unique words in the string:\", result)\n"
   ]
  },
  {
   "cell_type": "code",
   "execution_count": 2,
   "id": "c6c5e4f9-9b91-47e0-89a3-2eb3058e6641",
   "metadata": {},
   "outputs": [
    {
     "name": "stdin",
     "output_type": "stream",
     "text": [
      "Enter a string:  anusha\n"
     ]
    },
    {
     "name": "stdout",
     "output_type": "stream",
     "text": [
      "Number of syllables in the string: 3\n"
     ]
    }
   ],
   "source": [
    "#Topic 1: String Based Assignment problems...question no 46\n",
    "# Function to count the number of vowels in a word\n",
    "def count_vowels(word):\n",
    "    vowels = \"aeiouAEIOU\"\n",
    "    return sum(1 for char in word if char in vowels)\n",
    "\n",
    "# Function to count the number of syllables in a string\n",
    "def count_syllables(input_string):\n",
    "    # Split the string into words\n",
    "    words = input_string.split()\n",
    "\n",
    "    # Count the number of syllables in each word\n",
    "    syllable_counts = [count_vowels(word) for word in words]\n",
    "\n",
    "    # Sum the syllable counts for all words\n",
    "    total_syllables = sum(syllable_counts)\n",
    "\n",
    "    return total_syllables\n",
    "\n",
    "# Take input for a string from the user\n",
    "input_string = input(\"Enter a string: \")\n",
    "\n",
    "# Count the number of syllables\n",
    "result = count_syllables(input_string)\n",
    "\n",
    "# Print the result\n",
    "print(\"Number of syllables in the string:\", result)\n"
   ]
  },
  {
   "cell_type": "code",
   "execution_count": 3,
   "id": "21695923-09d7-492a-9514-f8858f04a22c",
   "metadata": {},
   "outputs": [
    {
     "name": "stdin",
     "output_type": "stream",
     "text": [
      "Enter a string:  my pople81\n"
     ]
    },
    {
     "name": "stdout",
     "output_type": "stream",
     "text": [
      "The entered string contains special characters.\n"
     ]
    }
   ],
   "source": [
    "#Topic 1: String Based Assignment problems...question no 47\n",
    "# Function to check if a string contains any special characters\n",
    "def contains_special_characters(input_string):\n",
    "    for char in input_string:\n",
    "        if not char.isalnum():\n",
    "            return True  # Return True if a non-alphanumeric character is found\n",
    "    return False  # Return False if no special characters are found\n",
    "\n",
    "# Take input for a string from the user\n",
    "input_string = input(\"Enter a string: \")\n",
    "\n",
    "# Check if the string contains any special characters\n",
    "if contains_special_characters(input_string):\n",
    "    print(\"The entered string contains special characters.\")\n",
    "else:\n",
    "    print(\"The entered string does not contain special characters.\")\n"
   ]
  },
  {
   "cell_type": "code",
   "execution_count": 8,
   "id": "81f63ca8-0950-4c2b-a81b-f4271c08d60c",
   "metadata": {},
   "outputs": [
    {
     "name": "stdout",
     "output_type": "stream",
     "text": [
      "String after removing the nth word: My name Anusha Saha\n"
     ]
    }
   ],
   "source": [
    "#Topic 1: String Based Assignment problems...question no 48\n",
    "# Function to remove the nth word from a string\n",
    "def remove_nth_word(input_string, n):\n",
    "    words = input_string.split()\n",
    "    \n",
    "    if 0 <= n < len(words):\n",
    "        del words[n]\n",
    "\n",
    "    return ' '.join(words)\n",
    "\n",
    "input_string = \"My name is Anusha Saha\"\n",
    "n = 2\n",
    "\n",
    "result = remove_nth_word(input_string, n)\n",
    "print(\"String after removing the nth word:\", result)\n"
   ]
  },
  {
   "cell_type": "code",
   "execution_count": 9,
   "id": "b12d0ea4-7be4-447f-838e-422f64277181",
   "metadata": {},
   "outputs": [
    {
     "name": "stdin",
     "output_type": "stream",
     "text": [
      "Enter a string:  my name is anusha\n",
      "Enter the index to insert the word (starting from 0):  2\n",
      "Enter the word to insert:  rose\n"
     ]
    },
    {
     "name": "stdout",
     "output_type": "stream",
     "text": [
      "String after inserting the word at the nth position: my name rose is anusha\n"
     ]
    }
   ],
   "source": [
    "#Topic 1: String Based Assignment problems...question no 49\n",
    "# Function to insert a word at the nth position in a string\n",
    "def insert_word_at_nth_position(input_string, n, word_to_insert):\n",
    "    words = input_string.split()  # Split the string into words\n",
    "\n",
    "    # Check if the index is valid\n",
    "    if 0 <= n <= len(words):\n",
    "        words.insert(n, word_to_insert)  # Insert the word at index n\n",
    "\n",
    "    return ' '.join(words)  # Join the words back into a string\n",
    "\n",
    "# Take input for a string, the index, and the word to insert from the user\n",
    "input_string = input(\"Enter a string: \")\n",
    "index_to_insert = int(input(\"Enter the index to insert the word (starting from 0): \"))\n",
    "word = input(\"Enter the word to insert: \")\n",
    "\n",
    "# Insert the word at the nth position in the string\n",
    "result = insert_word_at_nth_position(input_string, index_to_insert, word)\n",
    "\n",
    "# Print the result\n",
    "print(\"String after inserting the word at the nth position:\", result)\n"
   ]
  },
  {
   "cell_type": "code",
   "execution_count": 11,
   "id": "fb06557f-fdac-4258-9e17-d12bfd415ff7",
   "metadata": {},
   "outputs": [
    {
     "name": "stdout",
     "output_type": "stream",
     "text": [
      "List of lists from CSV string:\n",
      "['John', 'Doe', '30']\n",
      "['Jane', 'Smith', '25']\n",
      "['Tom', 'Johnson', '35']\n"
     ]
    }
   ],
   "source": [
    "#Topic 1: String Based Assignment problems...question no 50\n",
    "#Convert a CSV string to a list of lists.\n",
    "def csv_string_to_list(csv_string):\n",
    "    # Split the CSV string by lines and then by commas to create a list of lists\n",
    "    return [row.split(',') for row in csv_string.split('\\n')]\n",
    "\n",
    "# Example CSV string\n",
    "csv_string = \"John,Doe,30\\nJane,Smith,25\\nTom,Johnson,35\"\n",
    "\n",
    "# Convert CSV string to a list of lists\n",
    "result = csv_string_to_list(csv_string)\n",
    "\n",
    "# Print the result\n",
    "print(\"List of lists from CSV string:\")\n",
    "for row in result:\n",
    "    print(row)\n"
   ]
  },
  {
   "cell_type": "code",
   "execution_count": 1,
   "id": "65d8a348-f747-4a2a-b3ea-a70dce63f566",
   "metadata": {},
   "outputs": [
    {
     "name": "stdout",
     "output_type": "stream",
     "text": [
      "[1, 2, 3, 4, 5, 6, 7, 8, 9, 10]\n"
     ]
    }
   ],
   "source": [
    "#Topic 1: String Based Assignment problems...question no 1(list problems)\n",
    "# Creating a list with integers from 1 to 10\n",
    "integer_list = list(range(1, 11))\n",
    "\n",
    "# Print the list\n",
    "print(integer_list)\n",
    "\n"
   ]
  },
  {
   "cell_type": "code",
   "execution_count": 2,
   "id": "751fe659-32d4-413d-b735-7e459b0fb48e",
   "metadata": {},
   "outputs": [
    {
     "name": "stdout",
     "output_type": "stream",
     "text": [
      "Length of the list: 5\n"
     ]
    }
   ],
   "source": [
    "#Topic 1: String Based Assignment problems...question no 2(list problems)\n",
    "# Example list\n",
    "my_list = [1, 2, 3, 4, 5]\n",
    "\n",
    "# Initialize a counter variable\n",
    "length = 0\n",
    "\n",
    "# Loop through the list and count elements\n",
    "for _ in my_list:\n",
    "    length += 1\n",
    "\n",
    "# Print the length of the list\n",
    "print(\"Length of the list:\", length)\n"
   ]
  },
  {
   "cell_type": "code",
   "execution_count": 3,
   "id": "f79016fb-bf7b-4627-b15a-2dd8d20b6f5c",
   "metadata": {},
   "outputs": [
    {
     "name": "stdout",
     "output_type": "stream",
     "text": [
      "Updated list after appending an element: [1, 2, 3, 4, 5, 6]\n"
     ]
    }
   ],
   "source": [
    "#Topic 1: String Based Assignment problems...question no 3(list problems)\n",
    "# Example list\n",
    "my_list = [1, 2, 3, 4, 5]\n",
    "\n",
    "# Element to append\n",
    "element_to_append = 6\n",
    "\n",
    "# Append the element to the end of the list\n",
    "my_list.append(element_to_append)\n",
    "\n",
    "# Print the updated list\n",
    "print(\"Updated list after appending an element:\", my_list)\n"
   ]
  },
  {
   "cell_type": "code",
   "execution_count": 4,
   "id": "4826db1f-cb81-4a44-8427-d0ece3e53926",
   "metadata": {},
   "outputs": [
    {
     "name": "stdout",
     "output_type": "stream",
     "text": [
      "Updated list after inserting an element: [1, 2, 10, 3, 4, 5]\n"
     ]
    }
   ],
   "source": [
    "#Topic 1: String Based Assignment problems...question no 4(list problems)\n",
    "# Example list\n",
    "my_list = [1, 2, 3, 4, 5]\n",
    "\n",
    "# Element to insert\n",
    "element_to_insert = 10\n",
    "\n",
    "# Index where the element should be inserted\n",
    "index_to_insert = 2  # Insert at index 2 (zero-based index)\n",
    "\n",
    "# Insert the element at the specified index\n",
    "my_list.insert(index_to_insert, element_to_insert)\n",
    "\n",
    "# Print the updated list\n",
    "print(\"Updated list after inserting an element:\", my_list)\n"
   ]
  },
  {
   "cell_type": "code",
   "execution_count": 5,
   "id": "a0dd445a-1bc0-4a3d-814a-85b3925a8730",
   "metadata": {},
   "outputs": [
    {
     "name": "stdout",
     "output_type": "stream",
     "text": [
      "Updated list after removing the element by value: [1, 2, 4, 3, 5]\n"
     ]
    }
   ],
   "source": [
    "#Topic 1: String Based Assignment problems...question no 5(list problems)\n",
    "# Example list\n",
    "my_list = [1, 2, 3, 4, 3, 5]\n",
    "\n",
    "# Element to remove\n",
    "element_to_remove = 3\n",
    "\n",
    "# Remove the element from the list by value\n",
    "my_list.remove(element_to_remove)\n",
    "\n",
    "# Print the updated list\n",
    "print(\"Updated list after removing the element by value:\", my_list)\n"
   ]
  },
  {
   "cell_type": "code",
   "execution_count": 6,
   "id": "3ff9b014-e8f5-410c-9a0d-89bb904227ce",
   "metadata": {},
   "outputs": [
    {
     "name": "stdout",
     "output_type": "stream",
     "text": [
      "Updated list after removing element at index 2 : [1, 2, 4, 5]\n",
      "Removed element: 3\n"
     ]
    }
   ],
   "source": [
    "#Topic 1: String Based Assignment problems...question no 6(list problems)\n",
    "# Example list\n",
    "my_list = [1, 2, 3, 4, 5]\n",
    "\n",
    "# Index of the element to remove\n",
    "index_to_remove = 2  # Remove the element at index 2\n",
    "\n",
    "# Remove the element at the specified index\n",
    "removed_element = my_list.pop(index_to_remove)\n",
    "\n",
    "# Print the updated list and the removed element\n",
    "print(\"Updated list after removing element at index\", index_to_remove, \":\", my_list)\n",
    "print(\"Removed element:\", removed_element)\n"
   ]
  },
  {
   "cell_type": "code",
   "execution_count": 7,
   "id": "9c797ca7-3b34-4296-8441-f85990188a88",
   "metadata": {},
   "outputs": [
    {
     "name": "stdout",
     "output_type": "stream",
     "text": [
      "The element 3 exists in the list.\n"
     ]
    }
   ],
   "source": [
    "#Topic 1: String Based Assignment problems...question no 7(list problems)\n",
    "# Example list\n",
    "my_list = [1, 2, 3, 4, 5]\n",
    "\n",
    "# Element to check existence\n",
    "element_to_check = 3\n",
    "\n",
    "# Check if the element exists in the list\n",
    "if element_to_check in my_list:\n",
    "    print(f\"The element {element_to_check} exists in the list.\")\n",
    "else:\n",
    "    print(f\"The element {element_to_check} does not exist in the list.\")\n"
   ]
  },
  {
   "cell_type": "code",
   "execution_count": 8,
   "id": "7384b9cd-801c-488b-b533-ffc74b8be284",
   "metadata": {},
   "outputs": [
    {
     "name": "stdout",
     "output_type": "stream",
     "text": [
      "Index of the first occurrence of 20: 1\n"
     ]
    }
   ],
   "source": [
    "#Topic 1: String Based Assignment problems...question no 8(list problems)\n",
    "# Example list\n",
    "my_list = [10, 20, 30, 20, 40, 50]\n",
    "\n",
    "# Element to find\n",
    "element_to_find = 20\n",
    "\n",
    "# Find the index of the first occurrence of the element in the list\n",
    "index = my_list.index(element_to_find)\n",
    "\n",
    "# Print the index of the first occurrence\n",
    "print(f\"Index of the first occurrence of {element_to_find}: {index}\")\n"
   ]
  },
  {
   "cell_type": "code",
   "execution_count": 9,
   "id": "80f5513c-8f30-49f3-8026-f1753a4e2bbd",
   "metadata": {},
   "outputs": [
    {
     "name": "stdout",
     "output_type": "stream",
     "text": [
      "Number of occurrences of 2: 4\n"
     ]
    }
   ],
   "source": [
    "#Topic 1: String Based Assignment problems...question no 9(list problems)\n",
    "# Example list\n",
    "my_list = [1, 2, 2, 3, 2, 4, 2, 5]\n",
    "\n",
    "# Element to count occurrences\n",
    "element_to_count = 2\n",
    "\n",
    "# Count the occurrences of the element in the list\n",
    "occurrences = my_list.count(element_to_count)\n",
    "\n",
    "# Print the number of occurrences\n",
    "print(f\"Number of occurrences of {element_to_count}: {occurrences}\")\n"
   ]
  },
  {
   "cell_type": "code",
   "execution_count": 10,
   "id": "4dfb7e7f-a4ae-4c1a-848a-11cc0d913867",
   "metadata": {},
   "outputs": [
    {
     "name": "stdout",
     "output_type": "stream",
     "text": [
      "Reversed list: [5, 4, 3, 2, 1]\n"
     ]
    }
   ],
   "source": [
    "#Topic 1: String Based Assignment problems...question no 10(list problems)\n",
    "# Example list\n",
    "my_list = [1, 2, 3, 4, 5]\n",
    "\n",
    "# Reverse the order of elements using the reverse() method\n",
    "my_list.reverse()\n",
    "\n",
    "# Print the reversed list\n",
    "print(\"Reversed list:\", my_list)\n"
   ]
  },
  {
   "cell_type": "code",
   "execution_count": 11,
   "id": "d0040950-83aa-4c0a-827c-0de69a354a32",
   "metadata": {},
   "outputs": [
    {
     "name": "stdout",
     "output_type": "stream",
     "text": [
      "Sorted list: [1, 2, 4, 5, 7]\n"
     ]
    }
   ],
   "source": [
    "#Topic 1: String Based Assignment problems...question no 11(list problems)\n",
    "# Example list\n",
    "my_list = [4, 2, 7, 1, 5]\n",
    "\n",
    "# Sort the list in ascending order using the sort() method\n",
    "my_list.sort()\n",
    "\n",
    "# Print the sorted list\n",
    "print(\"Sorted list:\", my_list)\n"
   ]
  },
  {
   "cell_type": "code",
   "execution_count": 12,
   "id": "4a3f86ef-3a97-4c71-8939-7b385112800c",
   "metadata": {},
   "outputs": [
    {
     "name": "stdout",
     "output_type": "stream",
     "text": [
      "Sorted list in descending order: [8, 5, 3, 2, 1]\n"
     ]
    }
   ],
   "source": [
    "#Topic 1: String Based Assignment problems...question no 12(list problems)\n",
    "# Example list\n",
    "my_list = [5, 2, 8, 1, 3]\n",
    "\n",
    "# Sort the list in descending order using the sort() method\n",
    "my_list.sort(reverse=True)\n",
    "\n",
    "# Print the sorted list in descending order\n",
    "print(\"Sorted list in descending order:\", my_list)\n"
   ]
  },
  {
   "cell_type": "code",
   "execution_count": 13,
   "id": "1d5f4a4c-c179-44f1-a358-404cc9903d93",
   "metadata": {},
   "outputs": [
    {
     "name": "stdout",
     "output_type": "stream",
     "text": [
      "List of even numbers from 1 to 20: [2, 4, 6, 8, 10, 12, 14, 16, 18, 20]\n"
     ]
    }
   ],
   "source": [
    "#Topic 1: String Based Assignment problems...question no 13(list problems)\n",
    "# Using list comprehension to create a list of even numbers from 1 to 20\n",
    "even_numbers = [num for num in range(1, 21) if num % 2 == 0]\n",
    "\n",
    "# Print the list of even numbers\n",
    "print(\"List of even numbers from 1 to 20:\", even_numbers)\n"
   ]
  },
  {
   "cell_type": "code",
   "execution_count": 15,
   "id": "8c1a50bf-6af0-4df6-9142-26e2af9489d2",
   "metadata": {},
   "outputs": [
    {
     "name": "stdout",
     "output_type": "stream",
     "text": [
      "List of odd numbers from 1 to 20: [1, 3, 5, 7, 9, 11, 13, 15, 17, 19]\n"
     ]
    }
   ],
   "source": [
    "#Topic 1: String Based Assignment problems...question no 14(list problems)\n",
    "# Using list comprehension to create a list of odd numbers from 1 to 20\n",
    "odd_numbers = [num for num in range(1, 21) if num % 2 != 0]\n",
    "\n",
    "# Print the list of odd numbers\n",
    "print(\"List of odd numbers from 1 to 20:\", odd_numbers)\n"
   ]
  },
  {
   "cell_type": "code",
   "execution_count": 16,
   "id": "ba8e3175-2f06-4de7-9803-8e329eb3b566",
   "metadata": {},
   "outputs": [
    {
     "name": "stdout",
     "output_type": "stream",
     "text": [
      "Sum of all elements in the list: 15\n"
     ]
    }
   ],
   "source": [
    "#Topic 1: String Based Assignment problems...question no 15(list problems)\n",
    "# Example list\n",
    "my_list = [1, 2, 3, 4, 5]\n",
    "\n",
    "# Find the sum of all elements in the list\n",
    "list_sum = sum(my_list)\n",
    "\n",
    "# Print the sum of all elements\n",
    "print(\"Sum of all elements in the list:\", list_sum)\n"
   ]
  },
  {
   "cell_type": "code",
   "execution_count": 20,
   "id": "89f6f2ae-27ea-448c-bec6-130efdfe0f39",
   "metadata": {},
   "outputs": [
    {
     "name": "stdout",
     "output_type": "stream",
     "text": [
      "Maximum value in the list: 20\n"
     ]
    }
   ],
   "source": [
    "#Topic 1: String Based Assignment problems...question no 16(list problems)\n",
    "# Example list\n",
    "my_list = [10, 5, 20, 8, 15]\n",
    "\n",
    "# Find the maximum value in the list\n",
    "max_value = max(my_list)\n",
    "\n",
    "# Print the maximum value\n",
    "print(\"Maximum value in the list:\", max_value)\n",
    "\n"
   ]
  },
  {
   "cell_type": "code",
   "execution_count": 21,
   "id": "502f9ab9-e3e8-4714-bd21-adc843698754",
   "metadata": {},
   "outputs": [
    {
     "name": "stdout",
     "output_type": "stream",
     "text": [
      "Minimum value in the list: 5\n"
     ]
    }
   ],
   "source": [
    "#Topic 1: String Based Assignment problems...question no 17(list problems)\n",
    "# Example list\n",
    "my_list = [10, 5, 20, 8, 15]\n",
    "\n",
    "# Find the minimum value in the list\n",
    "min_value = min(my_list)\n",
    "\n",
    "# Print the minimum value\n",
    "print(\"Minimum value in the list:\", min_value)\n"
   ]
  },
  {
   "cell_type": "code",
   "execution_count": 22,
   "id": "e68467c0-04bb-427b-91e5-ff1b65d0c778",
   "metadata": {},
   "outputs": [
    {
     "name": "stdout",
     "output_type": "stream",
     "text": [
      "List of squares of numbers from 1 to 10: [1, 4, 9, 16, 25, 36, 49, 64, 81, 100]\n"
     ]
    }
   ],
   "source": [
    "#Topic 1: String Based Assignment problems...question no 18(list problems)\n",
    "# Using list comprehension to create a list of squares of numbers from 1 to 10\n",
    "squares = [x ** 2 for x in range(1, 11)]\n",
    "\n",
    "# Print the list of squares\n",
    "print(\"List of squares of numbers from 1 to 10:\", squares)\n"
   ]
  },
  {
   "cell_type": "code",
   "execution_count": 23,
   "id": "cbbb571d-887e-44fd-b4c3-252a5143203a",
   "metadata": {},
   "outputs": [
    {
     "name": "stdout",
     "output_type": "stream",
     "text": [
      "List of random numbers: [0.06802173040780324, 0.5087751000682761, 0.8386485776419207, 0.8115396035897855, 0.7936321877253946, 0.9160627196365364, 0.020576743504617245, 0.24938250529956174]\n"
     ]
    }
   ],
   "source": [
    "#Topic 1: String Based Assignment problems...question no 19(list problems)\n",
    "import random\n",
    "\n",
    "# Create a list of 8 random floating-point numbers between 0 and 1\n",
    "random_numbers = [random.random() for _ in range(8)]\n",
    "\n",
    "# Print the list of random numbers\n",
    "print(\"List of random numbers:\", random_numbers)\n"
   ]
  },
  {
   "cell_type": "code",
   "execution_count": 24,
   "id": "15a5b767-73d3-4ec0-83d5-b6bb71dbf94b",
   "metadata": {},
   "outputs": [
    {
     "name": "stdout",
     "output_type": "stream",
     "text": [
      "List without duplicates: [3, 2, 5, 8, 1, 9]\n"
     ]
    }
   ],
   "source": [
    "#Topic 1: String Based Assignment problems...question no 20(list problems)\n",
    "# Example list with duplicates\n",
    "my_list = [3, 2, 5, 3, 8, 2, 1, 5, 9]\n",
    "\n",
    "# Remove duplicates while preserving the order\n",
    "unique_list = list(dict.fromkeys(my_list))\n",
    "\n",
    "# Print the list without duplicates\n",
    "print(\"List without duplicates:\", unique_list)\n"
   ]
  },
  {
   "cell_type": "code",
   "execution_count": 1,
   "id": "aa783d3e-9300-46fb-9d01-b706d4b8e883",
   "metadata": {},
   "outputs": [
    {
     "name": "stdout",
     "output_type": "stream",
     "text": [
      "Common elements: [3, 4, 5]\n"
     ]
    }
   ],
   "source": [
    "#Topic 1: String Based Assignment problems...question no 21(list problems)\n",
    "# Example lists\n",
    "list1 = [1, 2, 3, 4, 5]\n",
    "list2 = [3, 4, 5, 6, 7]\n",
    "\n",
    "# Find the common elements between the lists using sets and intersection\n",
    "common_elements = list(set(list1).intersection(list2))\n",
    "\n",
    "# Print the common elements\n",
    "print(\"Common elements:\", common_elements)\n"
   ]
  },
  {
   "cell_type": "code",
   "execution_count": 2,
   "id": "a793b6fa-d84c-4e32-8ae7-1b8ba009751d",
   "metadata": {},
   "outputs": [
    {
     "name": "stdout",
     "output_type": "stream",
     "text": [
      "Difference between list1 and list2: [1, 2]\n"
     ]
    }
   ],
   "source": [
    "#Topic 1: String Based Assignment problems...question no 22(list problems)\n",
    "# Example lists\n",
    "list1 = [1, 2, 3, 4, 5]\n",
    "list2 = [3, 4, 5, 6, 7]\n",
    "\n",
    "# Find the difference between list1 and list2 using sets\n",
    "difference_set = list(set(list1) - set(list2))\n",
    "\n",
    "# Print the difference\n",
    "print(\"Difference between list1 and list2:\", difference_set)\n"
   ]
  },
  {
   "cell_type": "code",
   "execution_count": 3,
   "id": "f89072cb-e487-45dd-866b-cbb5c2aece23",
   "metadata": {},
   "outputs": [
    {
     "name": "stdout",
     "output_type": "stream",
     "text": [
      "Merged list: [1, 2, 3, 4, 5, 6]\n"
     ]
    }
   ],
   "source": [
    "#Topic 1: String Based Assignment problems...question no 23(list problems)\n",
    "# Example lists\n",
    "list1 = [1, 2, 3]\n",
    "list2 = [4, 5, 6]\n",
    "\n",
    "# Merge the two lists using the extend() method\n",
    "list1.extend(list2)\n",
    "\n",
    "# Print the merged list (list1 is modified)\n",
    "print(\"Merged list:\", list1)\n"
   ]
  },
  {
   "cell_type": "code",
   "execution_count": 4,
   "id": "715baa96-2821-4866-8221-55e5089bdfa1",
   "metadata": {},
   "outputs": [
    {
     "name": "stdout",
     "output_type": "stream",
     "text": [
      "Multiplied list by 2: [2, 4, 6, 8, 10]\n"
     ]
    }
   ],
   "source": [
    "#Topic 1: String Based Assignment problems...question no 24(list problems)\n",
    "# Example list\n",
    "my_list = [1, 2, 3, 4, 5]\n",
    "\n",
    "# Multiply all elements in the list by 2 using list comprehension\n",
    "multiplied_list = [element * 2 for element in my_list]\n",
    "\n",
    "# Print the multiplied list\n",
    "print(\"Multiplied list by 2:\", multiplied_list)\n"
   ]
  },
  {
   "cell_type": "code",
   "execution_count": 6,
   "id": "7072a1cc-74ea-40fe-885f-72f83632273a",
   "metadata": {},
   "outputs": [
    {
     "name": "stdout",
     "output_type": "stream",
     "text": [
      "List without even numbers: [1, 3, 5, 7, 9]\n"
     ]
    }
   ],
   "source": [
    "#Topic 1: String Based Assignment problems...question no 25(list problems)\n",
    "# Example list\n",
    "my_list = [1, 2, 3, 4, 5, 6, 7, 8, 9, 10]\n",
    "\n",
    "# Filter out all even numbers from the list using list comprehension\n",
    "filtered_list = [x for x in my_list if x % 2 != 0]\n",
    "\n",
    "# Print the filtered list without even numbers\n",
    "print(\"List without even numbers:\", filtered_list)\n"
   ]
  },
  {
   "cell_type": "code",
   "execution_count": 7,
   "id": "c6c0f17e-8d8b-473b-a259-92915c882e4f",
   "metadata": {},
   "outputs": [
    {
     "name": "stdout",
     "output_type": "stream",
     "text": [
      "List of integers: [1, 2, 3, 4, 5]\n"
     ]
    }
   ],
   "source": [
    "#Topic 1: String Based Assignment problems...question no 26(list problems)\n",
    "# Example list of strings\n",
    "string_list = ['1', '2', '3', '4', '5']\n",
    "\n",
    "# Convert the list of strings to a list of integers using list comprehension\n",
    "integer_list = [int(x) for x in string_list]\n",
    "\n",
    "# Print the resulting list of integers\n",
    "print(\"List of integers:\", integer_list)\n"
   ]
  },
  {
   "cell_type": "code",
   "execution_count": 8,
   "id": "523d5cac-7085-4dba-bd4c-c39c5513cbaa",
   "metadata": {},
   "outputs": [
    {
     "name": "stdout",
     "output_type": "stream",
     "text": [
      "List of strings: ['1', '2', '3', '4', '5']\n"
     ]
    }
   ],
   "source": [
    "#Topic 1: String Based Assignment problems...question no 27(list problems)\n",
    "# Example list of integers\n",
    "integer_list = [1, 2, 3, 4, 5]\n",
    "\n",
    "# Convert the list of integers to a list of strings using list comprehension\n",
    "string_list = [str(x) for x in integer_list]\n",
    "\n",
    "# Print the resulting list of strings\n",
    "print(\"List of strings:\", string_list)\n",
    "\n"
   ]
  },
  {
   "cell_type": "code",
   "execution_count": 9,
   "id": "1837269c-cbaa-4609-ba7b-01761f1ebda4",
   "metadata": {},
   "outputs": [
    {
     "name": "stdout",
     "output_type": "stream",
     "text": [
      "Flattened list: [1, 2, 3, 4, 5, 6, 7, 8]\n"
     ]
    }
   ],
   "source": [
    "#Topic 1: String Based Assignment problems...question no 28(list problems)\n",
    "# Example nested list\n",
    "nested_list = [[1, 2, 3], [4, 5], [6, 7, 8]]\n",
    "\n",
    "# Flatten the nested list using list comprehension and extend()\n",
    "flattened_list = []\n",
    "[flattened_list.extend(sublist) for sublist in nested_list]\n",
    "\n",
    "# Print the flattened list\n",
    "print(\"Flattened list:\", flattened_list)\n"
   ]
  },
  {
   "cell_type": "code",
   "execution_count": 10,
   "id": "9b7fe8e0-0945-48b0-b4c4-ec133163cdef",
   "metadata": {},
   "outputs": [
    {
     "name": "stdout",
     "output_type": "stream",
     "text": [
      "First 10 Fibonacci numbers: [0, 1, 1, 2, 3, 5, 8, 13, 21, 34]\n"
     ]
    }
   ],
   "source": [
    "#Topic 1: String Based Assignment problems...question no 29(list problems)\n",
    "# Function to generate the first n Fibonacci numbers\n",
    "def generate_fibonacci(n):\n",
    "    fibonacci_list = [0, 1]  # Starting Fibonacci sequence with the first two numbers\n",
    "\n",
    "    while len(fibonacci_list) < n:\n",
    "        next_number = fibonacci_list[-1] + fibonacci_list[-2]\n",
    "        fibonacci_list.append(next_number)\n",
    "\n",
    "    return fibonacci_list[:n]  # Return the first n Fibonacci numbers\n",
    "\n",
    "# Generate the first 10 Fibonacci numbers\n",
    "first_10_fibonacci = generate_fibonacci(10)\n",
    "\n",
    "# Print the list of the first 10 Fibonacci numbers\n",
    "print(\"First 10 Fibonacci numbers:\", first_10_fibonacci)\n"
   ]
  },
  {
   "cell_type": "code",
   "execution_count": 11,
   "id": "ba07607b-6f73-40db-9c5f-3a8db7b41d98",
   "metadata": {},
   "outputs": [
    {
     "name": "stdout",
     "output_type": "stream",
     "text": [
      "Is the list sorted in ascending order? True\n"
     ]
    }
   ],
   "source": [
    "#Topic 1: String Based Assignment problems...question no 30(list problems)\n",
    "def is_sorted_ascending(lst):\n",
    "    return all(lst[i] <= lst[i + 1] for i in range(len(lst) - 1))\n",
    "\n",
    "# Example list\n",
    "my_list_ascending = [1, 2, 3, 4, 5]\n",
    "\n",
    "# Check if the list is sorted in ascending order\n",
    "print(\"Is the list sorted in ascending order?\", is_sorted_ascending(my_list_ascending))\n"
   ]
  },
  {
   "cell_type": "code",
   "execution_count": 12,
   "id": "da77fafd-5fee-4593-9f97-e667a4ed4013",
   "metadata": {},
   "outputs": [
    {
     "name": "stdout",
     "output_type": "stream",
     "text": [
      "Rotated list: [3, 4, 5, 1, 2]\n"
     ]
    }
   ],
   "source": [
    "#Topic 1: String Based Assignment problems...question no 31(list problems)\n",
    "def rotate_left(lst, n):\n",
    "    n = n % len(lst)  # Ensure rotation within the list's length\n",
    "    return lst[n:] + lst[:n]\n",
    "\n",
    "# Example list\n",
    "my_list = [1, 2, 3, 4, 5]\n",
    "\n",
    "# Rotate the list to the left by 2 positions\n",
    "rotated_list = rotate_left(my_list, 2)\n",
    "\n",
    "# Print the rotated list\n",
    "print(\"Rotated list:\", rotated_list)\n"
   ]
  },
  {
   "cell_type": "code",
   "execution_count": 13,
   "id": "747ed089-8c98-47f3-b319-41b65eca1575",
   "metadata": {},
   "outputs": [
    {
     "name": "stdout",
     "output_type": "stream",
     "text": [
      "Rotated list: [4, 5, 1, 2, 3]\n"
     ]
    }
   ],
   "source": [
    "#Topic 1: String Based Assignment problems...question no 32(list problems)\n",
    "def rotate_right(lst, n):\n",
    "    n = n % len(lst)  # Ensure rotation within the list's length\n",
    "    return lst[-n:] + lst[:-n]\n",
    "\n",
    "# Example list\n",
    "my_list = [1, 2, 3, 4, 5]\n",
    "\n",
    "# Rotate the list to the right by 2 positions\n",
    "rotated_list = rotate_right(my_list, 2)\n",
    "\n",
    "# Print the rotated list\n",
    "print(\"Rotated list:\", rotated_list)\n"
   ]
  },
  {
   "cell_type": "code",
   "execution_count": 14,
   "id": "e2b6b69c-e04f-4ded-8e7e-79ff04ea16f6",
   "metadata": {},
   "outputs": [
    {
     "name": "stdout",
     "output_type": "stream",
     "text": [
      "Prime numbers up to 50: [2, 3, 5, 7, 11, 13, 17, 19, 23, 29, 31, 37, 41, 43, 47]\n"
     ]
    }
   ],
   "source": [
    "#Topic 1: String Based Assignment problems...question no 33(list problems)\n",
    "def sieve_of_eratosthenes(n):\n",
    "    sieve = [True] * (n + 1)\n",
    "    sieve[0:2] = [False, False]  # 0 and 1 are not prime numbers\n",
    "\n",
    "    for p in range(2, int(n**0.5) + 1):\n",
    "        if sieve[p]:\n",
    "            sieve[p*p:n+1:p] = [False] * len(sieve[p*p:n+1:p])\n",
    "\n",
    "    return [i for i in range(n + 1) if sieve[i]]\n",
    "\n",
    "# Generate prime numbers up to 50\n",
    "primes_up_to_50 = sieve_of_eratosthenes(50)\n",
    "\n",
    "# Print the list of prime numbers\n",
    "print(\"Prime numbers up to 50:\", primes_up_to_50)\n"
   ]
  },
  {
   "cell_type": "code",
   "execution_count": 15,
   "id": "9548ece6-5035-4cea-9ed8-b744a93bdf7c",
   "metadata": {},
   "outputs": [
    {
     "name": "stdout",
     "output_type": "stream",
     "text": [
      "List split into chunks: [[1, 2, 3], [4, 5, 6], [7, 8, 9], [10]]\n"
     ]
    }
   ],
   "source": [
    "#Topic 1: String Based Assignment problems...question no 34(list problems)\n",
    "def split_into_chunks(lst, n):\n",
    "    return [lst[i:i + n] for i in range(0, len(lst), n)]\n",
    "\n",
    "# Example list\n",
    "my_list = [1, 2, 3, 4, 5, 6, 7, 8, 9, 10]\n",
    "\n",
    "# Split the list into chunks of size 3\n",
    "chunks = split_into_chunks(my_list, 3)\n",
    "\n",
    "# Print the chunks\n",
    "print(\"List split into chunks:\", chunks)\n"
   ]
  },
  {
   "cell_type": "code",
   "execution_count": 16,
   "id": "8405943d-4fbf-49ce-8576-b4f06ad7a9bd",
   "metadata": {},
   "outputs": [
    {
     "name": "stdout",
     "output_type": "stream",
     "text": [
      "Second largest number: 15\n"
     ]
    }
   ],
   "source": [
    "#Topic 1: String Based Assignment problems...question no 35(list problems)\n",
    "def second_largest(lst):\n",
    "    sorted_list = sorted(set(lst), reverse=True)\n",
    "    if len(sorted_list) < 2:\n",
    "        return \"List doesn't have a second largest element\"\n",
    "    return sorted_list[1]\n",
    "\n",
    "# Example list\n",
    "my_list = [10, 5, 20, 8, 15]\n",
    "\n",
    "# Find the second largest number in the list\n",
    "result = second_largest(my_list)\n",
    "\n",
    "# Print the second largest number\n",
    "print(\"Second largest number:\", result)\n"
   ]
  },
  {
   "cell_type": "code",
   "execution_count": 17,
   "id": "9d383ea3-6244-4377-b95d-58a729da7f6f",
   "metadata": {},
   "outputs": [
    {
     "name": "stdout",
     "output_type": "stream",
     "text": [
      "Squared list: [1, 4, 9, 16, 25]\n"
     ]
    }
   ],
   "source": [
    "#Topic 1: String Based Assignment problems...question no 36(list problems)\n",
    "# Example list\n",
    "my_list = [1, 2, 3, 4, 5]\n",
    "\n",
    "# Square each element in the list using list comprehension\n",
    "squared_list = [x ** 2 for x in my_list]\n",
    "\n",
    "# Print the squared list\n",
    "print(\"Squared list:\", squared_list)\n"
   ]
  },
  {
   "cell_type": "code",
   "execution_count": 18,
   "id": "7e736465-eb67-4110-9920-f2af423ff2f5",
   "metadata": {},
   "outputs": [
    {
     "name": "stdout",
     "output_type": "stream",
     "text": [
      "Dictionary: {'apple': 0, 'banana': 1, 'orange': 2, 'grape': 3}\n"
     ]
    }
   ],
   "source": [
    "#Topic 1: String Based Assignment problems...question no 37(list problems)\n",
    "# Example list\n",
    "my_list = ['apple', 'banana', 'orange', 'grape']\n",
    "\n",
    "# Convert the list to a dictionary with elements as keys and indices as values\n",
    "result_dict = {value: index for index, value in enumerate(my_list)}\n",
    "\n",
    "# Print the resulting dictionary\n",
    "print(\"Dictionary:\", result_dict)\n"
   ]
  },
  {
   "cell_type": "code",
   "execution_count": 19,
   "id": "cda9a6df-1159-44ed-9853-954626479096",
   "metadata": {},
   "outputs": [
    {
     "name": "stdout",
     "output_type": "stream",
     "text": [
      "Shuffled list: [5, 1, 2, 4, 3]\n"
     ]
    }
   ],
   "source": [
    "#Topic 1: String Based Assignment problems...question no 38(list problems)\n",
    "import random\n",
    "\n",
    "# Example list\n",
    "my_list = [1, 2, 3, 4, 5]\n",
    "\n",
    "# Shuffle the elements of the list randomly\n",
    "random.shuffle(my_list)\n",
    "\n",
    "# Print the shuffled list\n",
    "print(\"Shuffled list:\", my_list)\n"
   ]
  },
  {
   "cell_type": "code",
   "execution_count": 20,
   "id": "4a074046-0e5d-4996-8f77-4d5d319b0523",
   "metadata": {},
   "outputs": [
    {
     "name": "stdout",
     "output_type": "stream",
     "text": [
      "[1, 1, 2, 6, 24, 120, 720, 5040, 40320, 362880]\n"
     ]
    }
   ],
   "source": [
    "#Topic 1: String Based Assignment problems...question no 39(list problems)\n",
    "# Function to calculate factorial\n",
    "def factorial(n):\n",
    "    if n == 0 or n == 1:\n",
    "        return 1\n",
    "    else:\n",
    "        return n * factorial(n - 1)\n",
    "\n",
    "# Creating a list of the first 10 factorial numbers\n",
    "factorial_list = [factorial(i) for i in range(10)]\n",
    "\n",
    "# Print the list\n",
    "print(factorial_list)\n"
   ]
  },
  {
   "cell_type": "code",
   "execution_count": 21,
   "id": "add1e3a7-9aa3-41d4-a47b-a159a85f0eb4",
   "metadata": {},
   "outputs": [
    {
     "name": "stdout",
     "output_type": "stream",
     "text": [
      "The lists have at least one common element.\n"
     ]
    }
   ],
   "source": [
    "#Topic 1: String Based Assignment problems...question no 40(list problems)\n",
    "# Example lists\n",
    "list1 = [1, 2, 3, 4, 5]\n",
    "list2 = [5, 6, 7, 8, 9]\n",
    "\n",
    "# Check if there's at least one common element using iteration\n",
    "has_common_element = any(x in list1 for x in list2)\n",
    "\n",
    "# Print the result\n",
    "if has_common_element:\n",
    "    print(\"The lists have at least one common element.\")\n",
    "else:\n",
    "    print(\"The lists don't have any common elements.\")\n"
   ]
  },
  {
   "cell_type": "code",
   "execution_count": 22,
   "id": "f54de26e-afff-45ef-b10b-2eea3ccdc864",
   "metadata": {},
   "outputs": [
    {
     "name": "stdout",
     "output_type": "stream",
     "text": [
      "List after clearing: []\n"
     ]
    }
   ],
   "source": [
    "#Topic 1: String Based Assignment problems...question no 41(list problems)\n",
    "# Example list\n",
    "my_list = [1, 2, 3, 4, 5]\n",
    "\n",
    "# Clear all elements from the list\n",
    "my_list.clear()\n",
    "\n",
    "# Print the empty list\n",
    "print(\"List after clearing:\", my_list)\n"
   ]
  },
  {
   "cell_type": "code",
   "execution_count": 23,
   "id": "3d3d2c60-69d6-4db1-acbb-85b7fa7b964d",
   "metadata": {},
   "outputs": [
    {
     "name": "stdout",
     "output_type": "stream",
     "text": [
      "Modified list: [1, 0, 3, 0, 5, 0]\n"
     ]
    }
   ],
   "source": [
    "#Topic 1: String Based Assignment problems...question no 42(list problems)\n",
    "# Example list\n",
    "my_list = [1, -2, 3, -4, 5, -6]\n",
    "\n",
    "# Replace negative numbers with 0 using list comprehension\n",
    "modified_list = [x if x >= 0 else 0 for x in my_list]\n",
    "\n",
    "# Print the modified list\n",
    "print(\"Modified list:\", modified_list)\n"
   ]
  },
  {
   "cell_type": "code",
   "execution_count": 24,
   "id": "1410f385-b608-4ece-9e09-c0ebe311a176",
   "metadata": {},
   "outputs": [
    {
     "name": "stdout",
     "output_type": "stream",
     "text": [
      "List of words: ['This', 'is', 'a', 'sample', 'sentence', 'to', 'convert', 'into', 'a', 'list', 'of', 'words.']\n"
     ]
    }
   ],
   "source": [
    "#Topic 1: String Based Assignment problems...question no 43(list problems)\n",
    "# Example string\n",
    "my_string = \"This is a sample sentence to convert into a list of words.\"\n",
    "\n",
    "# Convert the string into a list of words\n",
    "word_list = my_string.split()\n",
    "\n",
    "# Print the list of words\n",
    "print(\"List of words:\", word_list)\n"
   ]
  },
  {
   "cell_type": "code",
   "execution_count": 25,
   "id": "9f64dff5-2707-4ab6-8d5b-fc25aa65c594",
   "metadata": {},
   "outputs": [
    {
     "name": "stdout",
     "output_type": "stream",
     "text": [
      "This is a list of words\n"
     ]
    }
   ],
   "source": [
    "#Topic 1: String Based Assignment problems...question no 44(list problems)\n",
    "# List of words\n",
    "word_list = ['This', 'is', 'a', 'list', 'of', 'words']\n",
    "\n",
    "# Convert the list of words into a string using the join() method\n",
    "result_string = ' '.join(word_list)\n",
    "\n",
    "# Print the resulting string\n",
    "print(result_string)\n"
   ]
  },
  {
   "cell_type": "code",
   "execution_count": 1,
   "id": "f7b00713-60a9-4f9a-8945-aab2f78ce170",
   "metadata": {},
   "outputs": [
    {
     "name": "stdout",
     "output_type": "stream",
     "text": [
      "List of the first 5 powers of 2: [1, 2, 4, 8, 16]\n"
     ]
    }
   ],
   "source": [
    "#Topic 1: String Based Assignment problems...question no 45(list problems)\n",
    "# Number of powers to generate\n",
    "n = 5\n",
    "\n",
    "# Generate a list of the first n powers of 2 using a loop\n",
    "powers_of_2 = []\n",
    "for i in range(n):\n",
    "    powers_of_2.append(2 ** i)\n",
    "\n",
    "# Print the list of powers of 2\n",
    "print(\"List of the first\", n, \"powers of 2:\", powers_of_2)\n"
   ]
  },
  {
   "cell_type": "code",
   "execution_count": 2,
   "id": "57b6a01d-acc5-4d61-a72e-e8d540641bce",
   "metadata": {},
   "outputs": [
    {
     "name": "stdout",
     "output_type": "stream",
     "text": [
      "Longest string: strawberry\n"
     ]
    }
   ],
   "source": [
    "#Topic 1: String Based Assignment problems...question no 46(list problems)\n",
    "# Example list of strings\n",
    "string_list = [\"apple\", \"banana\", \"kiwi\", \"orange\", \"strawberry\"]\n",
    "\n",
    "# Find the longest string in the list\n",
    "longest_string = max(string_list, key=len)\n",
    "\n",
    "# Print the longest string\n",
    "print(\"Longest string:\", longest_string)\n"
   ]
  },
  {
   "cell_type": "code",
   "execution_count": 3,
   "id": "84c13e29-b14e-4cb9-a1fa-63681732415f",
   "metadata": {},
   "outputs": [
    {
     "name": "stdout",
     "output_type": "stream",
     "text": [
      "Shortest string: kiwi\n"
     ]
    }
   ],
   "source": [
    "#Topic 1: String Based Assignment problems...question no 47(list problems)\n",
    "# Example list of strings\n",
    "string_list = [\"apple\", \"banana\", \"kiwi\", \"orange\", \"strawberry\"]\n",
    "\n",
    "# Find the shortest string in the list\n",
    "shortest_string = min(string_list, key=len)\n",
    "\n",
    "# Print the shortest string\n",
    "print(\"Shortest string:\", shortest_string)\n"
   ]
  },
  {
   "cell_type": "code",
   "execution_count": 4,
   "id": "89d9e670-b96e-4390-b38b-5dc8be3903e2",
   "metadata": {},
   "outputs": [
    {
     "name": "stdout",
     "output_type": "stream",
     "text": [
      "The first 7 triangular numbers: [1, 3, 6, 10, 15, 21, 28]\n"
     ]
    }
   ],
   "source": [
    "#Topic 1: String Based Assignment problems...question no 48(list problems)\n",
    "# Function to generate the first n triangular numbers\n",
    "def generate_triangular_numbers(n):\n",
    "    triangular_numbers = []\n",
    "    for i in range(1, n + 1):\n",
    "        triangular_number = i * (i + 1) // 2\n",
    "        triangular_numbers.append(triangular_number)\n",
    "    return triangular_numbers\n",
    "\n",
    "# Number of triangular numbers to generate\n",
    "n = 7\n",
    "\n",
    "# Generate the list of the first n triangular numbers\n",
    "triangular_list = generate_triangular_numbers(n)\n",
    "\n",
    "# Print the list of triangular numbers\n",
    "print(f\"The first {n} triangular numbers:\", triangular_list)\n"
   ]
  },
  {
   "cell_type": "code",
   "execution_count": 6,
   "id": "efdb3a05-0708-4896-8221-269f9dffe081",
   "metadata": {},
   "outputs": [
    {
     "name": "stdout",
     "output_type": "stream",
     "text": [
      "list_a contains list_b as a subsequence.\n"
     ]
    }
   ],
   "source": [
    "#Topic 1: String Based Assignment problems...question no 49(list problems)\n",
    "def is_subsequence(list_a, list_b):\n",
    "    # Pointer variables for both lists\n",
    "    pointer_a = 0\n",
    "    pointer_b = 0\n",
    "\n",
    "    # Iterate through both lists to find a subsequence\n",
    "    while pointer_a < len(list_a) and pointer_b < len(list_b):\n",
    "        # If elements match, move to the next element in list_b\n",
    "        if list_a[pointer_a] == list_b[pointer_b]:\n",
    "            pointer_b += 1\n",
    "        pointer_a += 1\n",
    "\n",
    "    # If all elements of list_b are found in sequence within list_a\n",
    "    return pointer_b == len(list_b)\n",
    "\n",
    "# Example lists\n",
    "list_a = [1, 2, 3, 4, 5, 6, 7, 8]\n",
    "list_b = [3, 5, 7]\n",
    "\n",
    "# Check if list_a contains list_b as a subsequence\n",
    "result = is_subsequence(list_a, list_b)\n",
    "\n",
    "# Print the result\n",
    "if result:\n",
    "    print(\"list_a contains list_b as a subsequence.\")\n",
    "else:\n",
    "    print(\"list_a does not contain list_b as a subsequence.\")\n"
   ]
  },
  {
   "cell_type": "code",
   "execution_count": 7,
   "id": "3eecd415-7e48-4165-80cd-60257a83bbf6",
   "metadata": {},
   "outputs": [
    {
     "name": "stdout",
     "output_type": "stream",
     "text": [
      "List after swapping elements at indices 1 and 3 : [1, 4, 3, 2, 5]\n"
     ]
    }
   ],
   "source": [
    "#Topic 1: String Based Assignment problems...question no 50(list problems)\n",
    "# Function to swap elements in a list by their indices\n",
    "def swap_elements(arr, idx1, idx2):\n",
    "    # Check if indices are within the list's range\n",
    "    if 0 <= idx1 < len(arr) and 0 <= idx2 < len(arr):\n",
    "        # Swap the elements at the given indices\n",
    "        arr[idx1], arr[idx2] = arr[idx2], arr[idx1]\n",
    "\n",
    "# Example list\n",
    "my_list = [1, 2, 3, 4, 5]\n",
    "\n",
    "# Indices of elements to swap\n",
    "index_1 = 1\n",
    "index_2 = 3\n",
    "\n",
    "# Swap elements in the list by their indices\n",
    "swap_elements(my_list, index_1, index_2)\n",
    "\n",
    "# Print the list after swapping\n",
    "print(\"List after swapping elements at indices\", index_1, \"and\", index_2, \":\", my_list)\n"
   ]
  },
  {
   "cell_type": "code",
   "execution_count": 8,
   "id": "b583f5e1-fd5b-4389-8a61-35f8f8430f57",
   "metadata": {},
   "outputs": [
    {
     "name": "stdout",
     "output_type": "stream",
     "text": [
      "Tuple: (1, 2, 3, 4, 5)\n"
     ]
    }
   ],
   "source": [
    "#Topic 1: String Based Assignment problems...question no 1(tuple problems)\n",
    "# Create a tuple with integers from 1 to 5\n",
    "my_tuple = (1, 2, 3, 4, 5)\n",
    "\n",
    "# Print the tuple\n",
    "print(\"Tuple:\", my_tuple)\n"
   ]
  },
  {
   "cell_type": "code",
   "execution_count": 9,
   "id": "46df8d4c-b111-4808-80c5-8e058a99bba8",
   "metadata": {},
   "outputs": [
    {
     "name": "stdout",
     "output_type": "stream",
     "text": [
      "Third element of the tuple: 30\n"
     ]
    }
   ],
   "source": [
    "#Topic 1: String Based Assignment problems...question no 2(tuple problems)\n",
    "# Example tuple\n",
    "my_tuple = (10, 20, 30, 40, 50)\n",
    "\n",
    "# Access the third element of the tuple (index 2)\n",
    "third_element = my_tuple[2]\n",
    "\n",
    "# Print the third element\n",
    "print(\"Third element of the tuple:\", third_element)\n"
   ]
  },
  {
   "cell_type": "code",
   "execution_count": 10,
   "id": "aa55e833-05e6-4d66-b1ca-4080df9a771f",
   "metadata": {},
   "outputs": [
    {
     "name": "stdout",
     "output_type": "stream",
     "text": [
      "Length of the tuple: 5\n"
     ]
    }
   ],
   "source": [
    "#Topic 1: String Based Assignment problems...question no 3(tuple problems)\n",
    "# Example tuple\n",
    "my_tuple = (10, 20, 30, 40, 50)\n",
    "\n",
    "# Initialize a variable to count the elements\n",
    "length = 0\n",
    "\n",
    "# Iterate through the tuple and count the elements\n",
    "for _ in my_tuple:\n",
    "    length += 1\n",
    "\n",
    "# Print the length of the tuple\n",
    "print(\"Length of the tuple:\", length)\n"
   ]
  },
  {
   "cell_type": "code",
   "execution_count": 11,
   "id": "c914d356-7df0-4fb5-88ef-6a35c60df114",
   "metadata": {},
   "outputs": [
    {
     "name": "stdout",
     "output_type": "stream",
     "text": [
      "Count of occurrences of 20: 3\n"
     ]
    }
   ],
   "source": [
    "#Topic 1: String Based Assignment problems...question no 4(tuple problems)\n",
    "# Example tuple\n",
    "my_tuple = (10, 20, 30, 20, 40, 20, 50)\n",
    "\n",
    "# Count the occurrences of a specific element in the tuple\n",
    "element_count = my_tuple.count(20)\n",
    "\n",
    "# Print the count of occurrences\n",
    "print(\"Count of occurrences of 20:\", element_count)\n"
   ]
  },
  {
   "cell_type": "code",
   "execution_count": 12,
   "id": "c1f018ad-82e3-41a3-b30a-b60edfdabce8",
   "metadata": {},
   "outputs": [
    {
     "name": "stdout",
     "output_type": "stream",
     "text": [
      "Index of the first occurrence of 20: 1\n"
     ]
    }
   ],
   "source": [
    "#Topic 1: String Based Assignment problems...question no 5(tuple problems)\n",
    "# Example tuple\n",
    "my_tuple = (10, 20, 30, 20, 40, 20, 50)\n",
    "\n",
    "# Find the index of the first occurrence of a specific element in the tuple\n",
    "element_index = my_tuple.index(20)\n",
    "\n",
    "# Print the index of the first occurrence\n",
    "print(\"Index of the first occurrence of 20:\", element_index)\n"
   ]
  },
  {
   "cell_type": "code",
   "execution_count": 13,
   "id": "247597d7-5150-4b3f-933c-0a25cee49efc",
   "metadata": {},
   "outputs": [
    {
     "name": "stdout",
     "output_type": "stream",
     "text": [
      "The element 30 exists in the tuple.\n"
     ]
    }
   ],
   "source": [
    "#Topic 1: String Based Assignment problems...question no 6(tuple problems)\n",
    "# Example tuple\n",
    "my_tuple = (10, 20, 30, 40, 50)\n",
    "\n",
    "# Element to check for existence in the tuple\n",
    "element = 30\n",
    "\n",
    "# Check if the element exists in the tuple\n",
    "if element in my_tuple:\n",
    "    print(f\"The element {element} exists in the tuple.\")\n",
    "else:\n",
    "    print(f\"The element {element} does not exist in the tuple.\")\n"
   ]
  },
  {
   "cell_type": "code",
   "execution_count": 14,
   "id": "517b9d1c-06d3-4623-ba29-afdabc3cd152",
   "metadata": {},
   "outputs": [
    {
     "name": "stdout",
     "output_type": "stream",
     "text": [
      "Converted list: [10, 20, 30, 40, 50]\n"
     ]
    }
   ],
   "source": [
    "#Topic 1: String Based Assignment problems...question no 7(tuple problems)\n",
    "# Example tuple\n",
    "my_tuple = (10, 20, 30, 40, 50)\n",
    "\n",
    "# Convert the tuple to a list\n",
    "my_list = list(my_tuple)\n",
    "\n",
    "# Print the resulting list\n",
    "print(\"Converted list:\", my_list)\n"
   ]
  },
  {
   "cell_type": "code",
   "execution_count": 1,
   "id": "c691b9a4-9346-435e-8669-7b1d64bf1930",
   "metadata": {},
   "outputs": [
    {
     "name": "stdout",
     "output_type": "stream",
     "text": [
      "Converted tuple: (10, 20, 30, 40, 50)\n"
     ]
    }
   ],
   "source": [
    "#Topic 1: String Based Assignment problems...question no 8(tuple problems)\n",
    "# Example list\n",
    "my_list = [10, 20, 30, 40, 50]\n",
    "\n",
    "# Convert the list to a tuple\n",
    "my_tuple = tuple(my_list)\n",
    "\n",
    "# Print the resulting tuple\n",
    "print(\"Converted tuple:\", my_tuple)\n"
   ]
  },
  {
   "cell_type": "code",
   "execution_count": 2,
   "id": "bbecc2df-d958-4ea4-b53c-4e848b4b5d1a",
   "metadata": {},
   "outputs": [
    {
     "name": "stdout",
     "output_type": "stream",
     "text": [
      "Unpacked values:\n",
      "a = 10\n",
      "b = 20\n",
      "c = 30\n"
     ]
    }
   ],
   "source": [
    "#Topic 1: String Based Assignment problems...question no 9(tuple problems)\n",
    "# Example tuple\n",
    "my_tuple = (10, 20, 30)\n",
    "\n",
    "# Unpack the elements of the tuple into variables\n",
    "a, b, c = my_tuple\n",
    "\n",
    "# Print the unpacked variables\n",
    "print(\"Unpacked values:\")\n",
    "print(\"a =\", a)\n",
    "print(\"b =\", b)\n",
    "print(\"c =\", c)\n"
   ]
  },
  {
   "cell_type": "code",
   "execution_count": 1,
   "id": "c0efe41e-7be4-41d1-b400-303c1e994cdb",
   "metadata": {},
   "outputs": [
    {
     "name": "stdout",
     "output_type": "stream",
     "text": [
      "Tuple of even numbers: (2, 4, 6, 8, 10)\n"
     ]
    }
   ],
   "source": [
    "#Topic 1: String Based Assignment problems...question no 10(tuple problems)\n",
    "# Create a tuple of even numbers from 1 to 10\n",
    "even_numbers = tuple(x for x in range(2, 11, 2))\n",
    "\n",
    "# Print the tuple\n",
    "print(\"Tuple of even numbers:\", even_numbers)\n"
   ]
  },
  {
   "cell_type": "code",
   "execution_count": 2,
   "id": "ef174573-4b57-4795-bc88-e23590f25fe3",
   "metadata": {},
   "outputs": [
    {
     "name": "stdout",
     "output_type": "stream",
     "text": [
      "Tuple of odd numbers: (1, 3, 5, 7, 9)\n"
     ]
    }
   ],
   "source": [
    "#Topic 1: String Based Assignment problems...question no 11(tuple problems)\n",
    "# Create a tuple of odd numbers from 1 to 10\n",
    "odd_numbers = tuple(x for x in range(1, 11, 2))\n",
    "\n",
    "# Print the tuple\n",
    "print(\"Tuple of odd numbers:\", odd_numbers)\n"
   ]
  },
  {
   "cell_type": "code",
   "execution_count": 3,
   "id": "ab43de4b-df42-467d-8e2e-4f1d16a7bbca",
   "metadata": {},
   "outputs": [
    {
     "name": "stdout",
     "output_type": "stream",
     "text": [
      "Concatenated tuple: (1, 2, 3, 4, 5, 6)\n"
     ]
    }
   ],
   "source": [
    "#Topic 1: String Based Assignment problems...question no 12(tuple problems)\n",
    "# Two tuples to concatenate\n",
    "tuple1 = (1, 2, 3)\n",
    "tuple2 = (4, 5, 6)\n",
    "\n",
    "# Use the += operator to concatenate tuple2 to tuple1\n",
    "tuple1 += tuple2\n",
    "\n",
    "# Print the updated tuple1 after concatenation\n",
    "print(\"Concatenated tuple:\", tuple1)\n"
   ]
  },
  {
   "cell_type": "code",
   "execution_count": 4,
   "id": "d486ed1c-d534-4583-9d4d-c4efb7886136",
   "metadata": {},
   "outputs": [
    {
     "name": "stdout",
     "output_type": "stream",
     "text": [
      "Repeated tuple: (1, 2, 3, 1, 2, 3, 1, 2, 3)\n"
     ]
    }
   ],
   "source": [
    "#Topic 1: String Based Assignment problems...question no 13(tuple problems)\n",
    "# Original tuple\n",
    "original_tuple = (1, 2, 3)\n",
    "\n",
    "# Repeat the tuple three times\n",
    "repeated_tuple = original_tuple * 3\n",
    "\n",
    "# Print the repeated tuple\n",
    "print(\"Repeated tuple:\", repeated_tuple)\n"
   ]
  },
  {
   "cell_type": "code",
   "execution_count": 7,
   "id": "08cc4190-1ae5-4f81-aaf8-118606e0c222",
   "metadata": {},
   "outputs": [
    {
     "name": "stdout",
     "output_type": "stream",
     "text": [
      "The tuple is empty.\n"
     ]
    }
   ],
   "source": [
    "#Topic 1: String Based Assignment problems...question no 14(tuple problems)\n",
    "# Empty tuple\n",
    "empty_tuple = ()\n",
    "\n",
    "# Check if the tuple is empty using direct evaluation\n",
    "if not empty_tuple:\n",
    "    print(\"The tuple is empty.\")\n",
    "else:\n",
    "    print(\"The tuple is not empty.\")\n"
   ]
  },
  {
   "cell_type": "code",
   "execution_count": 6,
   "id": "fd314156-6141-441f-a495-4ed01babc5dd",
   "metadata": {},
   "outputs": [
    {
     "name": "stdout",
     "output_type": "stream",
     "text": [
      "Tuple of odd numbers: (1, 3, 5, 7, 9)\n"
     ]
    }
   ],
   "source": [
    "#Topic 1: String Based Assignment problems...question no 15(tuple problems)\n",
    "# Create a tuple of odd numbers from 1 to 10\n",
    "odd_numbers = tuple(x for x in range(1, 11, 2))\n",
    "\n",
    "# Print the tuple\n",
    "print(\"Tuple of odd numbers:\", odd_numbers)\n"
   ]
  },
  {
   "cell_type": "code",
   "execution_count": 8,
   "id": "bab99346-872e-442b-820f-33308da02e24",
   "metadata": {},
   "outputs": [
    {
     "name": "stdout",
     "output_type": "stream",
     "text": [
      "First element of the nested tuple: 1\n"
     ]
    }
   ],
   "source": [
    "#Topic 1: String Based Assignment problems...question no 16(tuple problems)\n",
    "# Nested tuple\n",
    "nested_tuple = ((1, 2), (3, 4), (5, 6))\n",
    "\n",
    "# Access the first element of the first tuple in the nested tuple\n",
    "first_element = nested_tuple[0][0]\n",
    "\n",
    "# Print the first element\n",
    "print(\"First element of the nested tuple:\", first_element)\n"
   ]
  },
  {
   "cell_type": "code",
   "execution_count": 9,
   "id": "bd665460-36a3-4bef-847c-927b62455beb",
   "metadata": {},
   "outputs": [
    {
     "name": "stdout",
     "output_type": "stream",
     "text": [
      "Type: <class 'tuple'>\n",
      "Tuple: (5,)\n"
     ]
    }
   ],
   "source": [
    "#Topic 1: String Based Assignment problems...question no 17(tuple problems)\n",
    "# Tuple with a single element\n",
    "single_element_tuple = (5,)\n",
    "\n",
    "# Check the type and print the tuple\n",
    "print(\"Type:\", type(single_element_tuple))\n",
    "print(\"Tuple:\", single_element_tuple)\n"
   ]
  },
  {
   "cell_type": "code",
   "execution_count": 10,
   "id": "0b4c59a2-08d7-41ca-a2c1-a1e8d2b2829e",
   "metadata": {},
   "outputs": [
    {
     "name": "stdout",
     "output_type": "stream",
     "text": [
      "The tuples are not equal.\n"
     ]
    }
   ],
   "source": [
    "#Topic 1: String Based Assignment problems...question no 18(tuple problems)\n",
    "# Example tuples\n",
    "tuple_a = (1, 2, 3)\n",
    "tuple_b = (1, 2, 4)\n",
    "\n",
    "# Compare two tuples\n",
    "if tuple_a == tuple_b:\n",
    "    print(\"The tuples are equal.\")\n",
    "else:\n",
    "    print(\"The tuples are not equal.\")\n"
   ]
  },
  {
   "cell_type": "code",
   "execution_count": 11,
   "id": "df8a51b3-5fd6-4b25-9c10-6074301fb403",
   "metadata": {},
   "outputs": [],
   "source": [
    "#Topic 1: String Based Assignment problems...question no 19(tuple problems)\n",
    "# Example tuple\n",
    "my_tuple = (1, 2, 3, 4, 5)\n",
    "\n",
    "# Delete the entire tuple\n",
    "del my_tuple\n",
    "\n",
    "# Attempting to access the tuple after deletion will raise a NameError\n",
    "# For instance, this would raise a NameError\n",
    "# print(my_tuple)\n"
   ]
  },
  {
   "cell_type": "code",
   "execution_count": 12,
   "id": "bcbc8c12-2e66-4200-ae16-371108f3e126",
   "metadata": {},
   "outputs": [
    {
     "name": "stdout",
     "output_type": "stream",
     "text": [
      "Subset tuple: (3, 4, 5, 6, 7)\n"
     ]
    }
   ],
   "source": [
    "#Topic 1: String Based Assignment problems...question no 20(tuple problems)\n",
    "# Example tuple\n",
    "my_tuple = (1, 2, 3, 4, 5, 6, 7, 8, 9, 10)\n",
    "\n",
    "# Slicing the tuple to get a subset\n",
    "subset_tuple = my_tuple[2:7]  # Get elements from index 2 (inclusive) to index 7 (exclusive)\n",
    "\n",
    "# Print the subset tuple\n",
    "print(\"Subset tuple:\", subset_tuple)\n"
   ]
  },
  {
   "cell_type": "code",
   "execution_count": 13,
   "id": "6f7b3d87-2626-4d2e-ad5f-2caa24898962",
   "metadata": {},
   "outputs": [
    {
     "name": "stdout",
     "output_type": "stream",
     "text": [
      "Maximum value in the tuple: 60\n"
     ]
    }
   ],
   "source": [
    "#Topic 1: String Based Assignment problems...question no 21(tuple problems)\n",
    "# Example tuple\n",
    "my_tuple = (25, 10, 45, 30, 60)\n",
    "\n",
    "# Find the maximum value in the tuple\n",
    "max_value = max(my_tuple)\n",
    "\n",
    "# Print the maximum value\n",
    "print(\"Maximum value in the tuple:\", max_value)\n"
   ]
  },
  {
   "cell_type": "code",
   "execution_count": 14,
   "id": "0a085edb-ce21-4314-9bc8-45ab9baebc04",
   "metadata": {},
   "outputs": [
    {
     "name": "stdout",
     "output_type": "stream",
     "text": [
      "Minimum value in the tuple: 10\n"
     ]
    }
   ],
   "source": [
    "#Topic 1: String Based Assignment problems...question no 22(tuple problems)\n",
    "# Example tuple\n",
    "my_tuple = (25, 10, 45, 30, 60)\n",
    "\n",
    "# Find the minimum value in the tuple\n",
    "min_value = min(my_tuple)\n",
    "\n",
    "# Print the minimum value\n",
    "print(\"Minimum value in the tuple:\", min_value)\n"
   ]
  },
  {
   "cell_type": "code",
   "execution_count": 15,
   "id": "2e5b99a4-fb34-4143-8d95-97082b17ee87",
   "metadata": {},
   "outputs": [
    {
     "name": "stdout",
     "output_type": "stream",
     "text": [
      "Tuple of characters: ('H', 'e', 'l', 'l', 'o', ',', ' ', 'W', 'o', 'r', 'l', 'd', '!')\n"
     ]
    }
   ],
   "source": [
    "#Topic 1: String Based Assignment problems...question no 23(tuple problems)\n",
    "# Example string\n",
    "my_string = \"Hello, World!\"\n",
    "\n",
    "# Convert the string to a tuple of characters\n",
    "char_tuple = tuple(my_string)\n",
    "\n",
    "# Print the tuple of characters\n",
    "print(\"Tuple of characters:\", char_tuple)\n"
   ]
  },
  {
   "cell_type": "code",
   "execution_count": 16,
   "id": "6f32dce2-8b05-4650-8df8-776c23c06a12",
   "metadata": {},
   "outputs": [
    {
     "name": "stdout",
     "output_type": "stream",
     "text": [
      "Converted string: Hello\n"
     ]
    }
   ],
   "source": [
    "#Topic 1: String Based Assignment problems...question no 24(tuple problems)\n",
    "# Example tuple of characters\n",
    "char_tuple = ('H', 'e', 'l', 'l', 'o')\n",
    "\n",
    "# Convert the tuple of characters to a string\n",
    "my_string = ''.join(char_tuple)\n",
    "\n",
    "# Print the resulting string\n",
    "print(\"Converted string:\", my_string)\n"
   ]
  },
  {
   "cell_type": "code",
   "execution_count": 17,
   "id": "90fbc1df-3b37-4305-a345-cea5e36c95bd",
   "metadata": {},
   "outputs": [
    {
     "name": "stdout",
     "output_type": "stream",
     "text": [
      "Tuple with multiple data types: (10, 'Hello', 3.14, True)\n"
     ]
    }
   ],
   "source": [
    "#Topic 1: String Based Assignment problems...question no 25(tuple problems)\n",
    "# Creating a tuple with multiple data types\n",
    "mixed_tuple = (10, \"Hello\", 3.14, True)\n",
    "\n",
    "# Print the mixed tuple\n",
    "print(\"Tuple with multiple data types:\", mixed_tuple)\n"
   ]
  },
  {
   "cell_type": "code",
   "execution_count": 1,
   "id": "e189719b-d7bf-43e3-97f6-7b37d2828696",
   "metadata": {},
   "outputs": [
    {
     "name": "stdout",
     "output_type": "stream",
     "text": [
      "The tuples are identical.\n"
     ]
    }
   ],
   "source": [
    "#Topic 1: String Based Assignment problems...question no 26(tuple problems)\n",
    "# Example tuples\n",
    "tuple_a = (1, 2, 3)\n",
    "tuple_b = (1, 2, 3)\n",
    "\n",
    "# Check if the tuples are identical\n",
    "if tuple_a == tuple_b:\n",
    "    print(\"The tuples are identical.\")\n",
    "else:\n",
    "    print(\"The tuples are not identical.\")\n"
   ]
  },
  {
   "cell_type": "code",
   "execution_count": 2,
   "id": "50c23a3d-7fa1-4a22-8dd4-1ea2ee83af69",
   "metadata": {},
   "outputs": [
    {
     "name": "stdout",
     "output_type": "stream",
     "text": [
      "Sorted tuple: (1, 2, 3, 5, 8)\n"
     ]
    }
   ],
   "source": [
    "#Topic 1: String Based Assignment problems...question no 27(tuple problems)\n",
    "# Example tuple\n",
    "my_tuple = (5, 2, 8, 1, 3)\n",
    "\n",
    "# Sort the elements of the tuple and create a new sorted tuple\n",
    "sorted_tuple = tuple(sorted(my_tuple))\n",
    "\n",
    "# Print the sorted tuple\n",
    "print(\"Sorted tuple:\", sorted_tuple)\n"
   ]
  },
  {
   "cell_type": "code",
   "execution_count": 3,
   "id": "8a4b9497-74da-4d27-9d63-d8476fcd186e",
   "metadata": {},
   "outputs": [
    {
     "name": "stdout",
     "output_type": "stream",
     "text": [
      "Tuple of strings: ('5', '10', '15', '20')\n"
     ]
    }
   ],
   "source": [
    "#Topic 1: String Based Assignment problems...question no 28(tuple problems)\n",
    "# Example tuple of integers\n",
    "int_tuple = (5, 10, 15, 20)\n",
    "\n",
    "# Convert the tuple of integers to a tuple of strings\n",
    "str_tuple = tuple(str(num) for num in int_tuple)\n",
    "\n",
    "# Print the tuple of strings\n",
    "print(\"Tuple of strings:\", str_tuple)\n"
   ]
  },
  {
   "cell_type": "code",
   "execution_count": 4,
   "id": "72581d80-9142-46e0-920b-d5f270c78f19",
   "metadata": {},
   "outputs": [
    {
     "name": "stdout",
     "output_type": "stream",
     "text": [
      "Tuple of integers: (5, 10, 15, 20)\n"
     ]
    }
   ],
   "source": [
    "#Topic 1: String Based Assignment problems...question no 29(tuple problems)\n",
    "# Example tuple of strings\n",
    "str_tuple = (\"5\", \"10\", \"15\", \"20\")\n",
    "\n",
    "# Convert the tuple of strings to a tuple of integers\n",
    "int_tuple = tuple(int(num) for num in str_tuple)\n",
    "\n",
    "# Print the tuple of integers\n",
    "print(\"Tuple of integers:\", int_tuple)\n"
   ]
  },
  {
   "cell_type": "code",
   "execution_count": 5,
   "id": "1a1bfe14-4c7c-4ddf-b6ff-58b913387f5f",
   "metadata": {},
   "outputs": [
    {
     "name": "stdout",
     "output_type": "stream",
     "text": [
      "Merged tuple: (1, 2, 3, 4, 5, 6)\n"
     ]
    }
   ],
   "source": [
    "#Topic 1: String Based Assignment problems...question no 30(tuple problems)\n",
    "# Example tuples\n",
    "tuple_a = (1, 2, 3)\n",
    "tuple_b = (4, 5, 6)\n",
    "\n",
    "# Merge the two tuples\n",
    "merged_tuple = tuple_a + tuple_b\n",
    "\n",
    "# Print the merged tuple\n",
    "print(\"Merged tuple:\", merged_tuple)\n"
   ]
  },
  {
   "cell_type": "code",
   "execution_count": 8,
   "id": "949e8bbc-8975-412e-be9e-604dfdeeeff6",
   "metadata": {},
   "outputs": [
    {
     "name": "stdout",
     "output_type": "stream",
     "text": [
      "Flattened tuple: (1, 2, 3, 4, 5, 6, 7, 8)\n"
     ]
    }
   ],
   "source": [
    "#Topic 1: String Based Assignment problems...question no 31(tuple problems)\n",
    "# Recursive function to flatten a nested tuple\n",
    "def flatten_tuple(nested_tuple):\n",
    "    flattened = []\n",
    "    for item in nested_tuple:\n",
    "        if isinstance(item, tuple):\n",
    "            flattened.extend(flatten_tuple(item))\n",
    "        else:\n",
    "            flattened.append(item)\n",
    "    return tuple(flattened)\n",
    "\n",
    "# Example nested tuple\n",
    "nested_tuple = (1, 2, (3, 4, (5, 6)), 7, (8,))\n",
    "\n",
    "# Flatten the nested tuple\n",
    "flattened_tuple = flatten_tuple(nested_tuple)\n",
    "\n",
    "# Print the flattened tuple\n",
    "print(\"Flattened tuple:\", flattened_tuple)\n"
   ]
  },
  {
   "cell_type": "code",
   "execution_count": 9,
   "id": "6a5ed4ff-3b5f-44a2-931f-5b0be66e4f4b",
   "metadata": {},
   "outputs": [
    {
     "name": "stdout",
     "output_type": "stream",
     "text": [
      "Tuple of the first 5 prime numbers: (2, 3, 5, 7, 11)\n"
     ]
    }
   ],
   "source": [
    "#Topic 1: String Based Assignment problems...question no 32(tuple problems)\n",
    "# Function to check if a number is prime\n",
    "def is_prime(n):\n",
    "    if n <= 1:\n",
    "        return False\n",
    "    for i in range(2, int(n ** 0.5) + 1):\n",
    "        if n % i == 0:\n",
    "            return False\n",
    "    return True\n",
    "\n",
    "# Generate the first 5 prime numbers\n",
    "prime_numbers = []\n",
    "num = 2  # Start checking from 2 (first prime number)\n",
    "while len(prime_numbers) < 5:  # Continue until 5 prime numbers are found\n",
    "    if is_prime(num):\n",
    "        prime_numbers.append(num)\n",
    "    num += 1\n",
    "\n",
    "# Create a tuple of the first 5 prime numbers\n",
    "prime_tuple = tuple(prime_numbers)\n",
    "\n",
    "# Print the tuple of prime numbers\n",
    "print(\"Tuple of the first 5 prime numbers:\", prime_tuple)\n"
   ]
  },
  {
   "cell_type": "code",
   "execution_count": 10,
   "id": "1d5d3e3a-fcac-460d-9b2e-cc1e506bae61",
   "metadata": {},
   "outputs": [
    {
     "name": "stdout",
     "output_type": "stream",
     "text": [
      "Is 'palindrome_tuple' a palindrome? True\n",
      "Is 'non_palindrome_tuple' a palindrome? False\n"
     ]
    }
   ],
   "source": [
    "#Topic 1: String Based Assignment problems...question no 33(tuple problems)\n",
    "# Function to check if a tuple is a palindrome\n",
    "def is_palindrome_tuple(input_tuple):\n",
    "    return input_tuple == input_tuple[::-1]\n",
    "\n",
    "# Example tuples\n",
    "palindrome_tuple = (1, 2, 3, 2, 1)\n",
    "non_palindrome_tuple = (1, 2, 3, 4, 5)\n",
    "\n",
    "# Check if the tuples are palindromes\n",
    "print(\"Is 'palindrome_tuple' a palindrome?\", is_palindrome_tuple(palindrome_tuple))\n",
    "print(\"Is 'non_palindrome_tuple' a palindrome?\", is_palindrome_tuple(non_palindrome_tuple))\n"
   ]
  },
  {
   "cell_type": "code",
   "execution_count": 11,
   "id": "ea56ff35-73cd-44f7-bfa0-c66314ee63a0",
   "metadata": {},
   "outputs": [
    {
     "name": "stdout",
     "output_type": "stream",
     "text": [
      "Tuple of squares: (1, 4, 9, 16, 25)\n"
     ]
    }
   ],
   "source": [
    "#Topic 1: String Based Assignment problems...question no 34(tuple problems)\n",
    "# Using a loop to create a tuple of squares\n",
    "squares = []\n",
    "for i in range(1, 6):\n",
    "    squares.append(i ** 2)\n",
    "squares_tuple = tuple(squares)\n",
    "\n",
    "# Print the tuple of squares\n",
    "print(\"Tuple of squares:\", squares_tuple)\n"
   ]
  },
  {
   "cell_type": "code",
   "execution_count": 12,
   "id": "91cd0e13-2613-4000-8d25-17b25b939176",
   "metadata": {},
   "outputs": [
    {
     "name": "stdout",
     "output_type": "stream",
     "text": [
      "Tuple of odd numbers: (1, 3, 5, 7, 9)\n"
     ]
    }
   ],
   "source": [
    "#Topic 1: String Based Assignment problems...question no 35(tuple problems)\n",
    "# Example tuple\n",
    "original_tuple = (1, 2, 3, 4, 5, 6, 7, 8, 9, 10)\n",
    "\n",
    "# Filter out even numbers using a tuple comprehension\n",
    "odd_numbers = tuple(num for num in original_tuple if num % 2 != 0)\n",
    "\n",
    "# Print the tuple containing only odd numbers\n",
    "print(\"Tuple of odd numbers:\", odd_numbers)\n"
   ]
  },
  {
   "cell_type": "code",
   "execution_count": 13,
   "id": "c0cb8f93-c939-48de-a570-abe760fdefca",
   "metadata": {},
   "outputs": [
    {
     "name": "stdout",
     "output_type": "stream",
     "text": [
      "Tuple with elements multiplied by 2: (2, 4, 6, 8, 10)\n"
     ]
    }
   ],
   "source": [
    "#Topic 1: String Based Assignment problems...question no 36(tuple problems)\n",
    "# Example tuple\n",
    "original_tuple = (1, 2, 3, 4, 5)\n",
    "\n",
    "# Multiply all elements by 2 using a tuple comprehension\n",
    "doubled_tuple = tuple(num * 2 for num in original_tuple)\n",
    "\n",
    "# Print the tuple with elements multiplied by 2\n",
    "print(\"Tuple with elements multiplied by 2:\", doubled_tuple)\n"
   ]
  },
  {
   "cell_type": "code",
   "execution_count": 14,
   "id": "ef8435da-4749-4cb4-b82a-4cf7834f3f49",
   "metadata": {},
   "outputs": [
    {
     "name": "stdout",
     "output_type": "stream",
     "text": [
      "Tuple of random numbers: (10, 32, 100, 61, 77)\n"
     ]
    }
   ],
   "source": [
    "#Topic 1: String Based Assignment problems...question no 37(tuple problems)\n",
    "import random\n",
    "\n",
    "# Generate a tuple of 5 random integers between 1 and 100\n",
    "random_tuple = tuple(random.randint(1, 100) for _ in range(5))\n",
    "\n",
    "# Print the tuple of random numbers\n",
    "print(\"Tuple of random numbers:\", random_tuple)\n"
   ]
  },
  {
   "cell_type": "code",
   "execution_count": 15,
   "id": "04346bb1-ccb4-4b95-a309-5b6dc04efe14",
   "metadata": {},
   "outputs": [
    {
     "name": "stdout",
     "output_type": "stream",
     "text": [
      "Is 'sorted_tuple' sorted? True\n",
      "Is 'unsorted_tuple' sorted? False\n"
     ]
    }
   ],
   "source": [
    "#Topic 1: String Based Assignment problems...question no 38(tuple problems)\n",
    "# Function to check if a tuple is sorted\n",
    "def is_sorted_tuple(input_tuple):\n",
    "    return input_tuple == tuple(sorted(input_tuple))\n",
    "\n",
    "# Example tuples\n",
    "sorted_tuple = (1, 2, 3, 4, 5)\n",
    "unsorted_tuple = (5, 2, 8, 1, 3)\n",
    "\n",
    "# Check if the tuples are sorted\n",
    "print(\"Is 'sorted_tuple' sorted?\", is_sorted_tuple(sorted_tuple))\n",
    "print(\"Is 'unsorted_tuple' sorted?\", is_sorted_tuple(unsorted_tuple))\n"
   ]
  },
  {
   "cell_type": "code",
   "execution_count": 17,
   "id": "63a36fac-f128-43cc-81f2-4e48be863319",
   "metadata": {},
   "outputs": [
    {
     "name": "stdout",
     "output_type": "stream",
     "text": [
      "Original tuple: (1, 2, 3, 4, 5)\n",
      "Rotated tuple: (3, 4, 5, 1, 2)\n"
     ]
    }
   ],
   "source": [
    "#Topic 1: String Based Assignment problems...question no 39(tuple problems)\n",
    "# Function to rotate a tuple to the left by n positions\n",
    "def rotate_left_tuple(input_tuple, n):\n",
    "    n %= len(input_tuple)  # Ensure n is within the length of the tuple\n",
    "    return input_tuple[n:] + input_tuple[:n]\n",
    "\n",
    "# Example tuple\n",
    "original_tuple = (1, 2, 3, 4, 5)\n",
    "\n",
    "# Rotate the tuple to the left by 2 positions\n",
    "rotated_tuple = rotate_left_tuple(original_tuple, 2)\n",
    "\n",
    "# Print the rotated tuple\n",
    "print(\"Original tuple:\", original_tuple)\n",
    "print(\"Rotated tuple:\", rotated_tuple)\n"
   ]
  },
  {
   "cell_type": "code",
   "execution_count": 18,
   "id": "4a12e379-8000-4e2d-81b0-7b08260c20f1",
   "metadata": {},
   "outputs": [
    {
     "name": "stdout",
     "output_type": "stream",
     "text": [
      "Original tuple: (1, 2, 3, 4, 5)\n",
      "Rotated tuple: (4, 5, 1, 2, 3)\n"
     ]
    }
   ],
   "source": [
    "#Topic 1: String Based Assignment problems...question no 40(tuple problems)\n",
    "# Function to rotate a tuple to the right by n positions\n",
    "def rotate_right_tuple(input_tuple, n):\n",
    "    n %= len(input_tuple)  # Ensure n is within the length of the tuple\n",
    "    return input_tuple[-n:] + input_tuple[:-n]\n",
    "\n",
    "# Example tuple\n",
    "original_tuple = (1, 2, 3, 4, 5)\n",
    "\n",
    "# Rotate the tuple to the right by 2 positions\n",
    "rotated_tuple = rotate_right_tuple(original_tuple, 2)\n",
    "\n",
    "# Print the rotated tuple\n",
    "print(\"Original tuple:\", original_tuple)\n",
    "print(\"Rotated tuple:\", rotated_tuple)\n"
   ]
  },
  {
   "cell_type": "code",
   "execution_count": 19,
   "id": "635ff5ec-bcc7-41bf-9c27-15bc422c7ede",
   "metadata": {},
   "outputs": [
    {
     "name": "stdout",
     "output_type": "stream",
     "text": [
      "Tuple of the first 5 Fibonacci numbers: (0, 1, 1, 2, 3)\n"
     ]
    }
   ],
   "source": [
    "#Topic 1: String Based Assignment problems...question no 41(tuple problems)\n",
    "# Function to generate the first n Fibonacci numbers\n",
    "def generate_fibonacci(n):\n",
    "    fibonacci = [0, 1]  # Initialize with the first two Fibonacci numbers\n",
    "    while len(fibonacci) < n:\n",
    "        next_number = fibonacci[-1] + fibonacci[-2]  # Calculate the next Fibonacci number\n",
    "        fibonacci.append(next_number)  # Append it to the list\n",
    "    return tuple(fibonacci)  # Return the tuple of the first n Fibonacci numbers\n",
    "\n",
    "# Generate a tuple of the first 5 Fibonacci numbers\n",
    "first_5_fibonacci = generate_fibonacci(5)\n",
    "\n",
    "# Print the tuple\n",
    "print(\"Tuple of the first 5 Fibonacci numbers:\", first_5_fibonacci)\n"
   ]
  },
  {
   "cell_type": "code",
   "execution_count": 20,
   "id": "05db2d4a-7e3c-42e6-a987-1d8229221b1e",
   "metadata": {},
   "outputs": [
    {
     "name": "stdin",
     "output_type": "stream",
     "text": [
      "Enter values separated by spaces:  2 4 1 8 9\n"
     ]
    },
    {
     "name": "stdout",
     "output_type": "stream",
     "text": [
      "Tuple from user input: ('2', '4', '1', '8', '9')\n"
     ]
    }
   ],
   "source": [
    "#Topic 1: String Based Assignment problems...question no 42(tuple problems)\n",
    "# Get user input as a string separated by spaces\n",
    "user_input = input(\"Enter values separated by spaces: \")\n",
    "\n",
    "# Split the input string by spaces and convert it into a tuple\n",
    "input_tuple = tuple(user_input.split())\n",
    "\n",
    "# Print the tuple\n",
    "print(\"Tuple from user input:\", input_tuple)\n"
   ]
  },
  {
   "cell_type": "code",
   "execution_count": 21,
   "id": "edc61ac9-f249-4f6a-983c-a3cd91ec6744",
   "metadata": {},
   "outputs": [
    {
     "name": "stdout",
     "output_type": "stream",
     "text": [
      "Original tuple: (1, 2, 3, 4, 5)\n",
      "Swapped tuple: (1, 4, 3, 2, 5)\n"
     ]
    }
   ],
   "source": [
    "#Topic 1: String Based Assignment problems...question no 43(tuple problems)\n",
    "# Function to swap elements in a tuple\n",
    "def swap_elements(input_tuple, idx1, idx2):\n",
    "    # Convert the tuple to a list\n",
    "    temp_list = list(input_tuple)\n",
    "    \n",
    "    # Swap the elements at indices idx1 and idx2\n",
    "    temp_list[idx1], temp_list[idx2] = temp_list[idx2], temp_list[idx1]\n",
    "    \n",
    "    # Convert the list back to a tuple\n",
    "    swapped_tuple = tuple(temp_list)\n",
    "    return swapped_tuple\n",
    "\n",
    "# Example tuple\n",
    "original_tuple = (1, 2, 3, 4, 5)\n",
    "\n",
    "# Swap elements at indices 1 and 3\n",
    "swapped_tuple = swap_elements(original_tuple, 1, 3)\n",
    "\n",
    "# Print the original and swapped tuples\n",
    "print(\"Original tuple:\", original_tuple)\n",
    "print(\"Swapped tuple:\", swapped_tuple)\n"
   ]
  },
  {
   "cell_type": "code",
   "execution_count": 22,
   "id": "70dca626-376a-4526-a183-0039e80556b0",
   "metadata": {},
   "outputs": [
    {
     "name": "stdout",
     "output_type": "stream",
     "text": [
      "Original tuple: (1, 2, 3, 4, 5)\n",
      "Reversed tuple: (5, 4, 3, 2, 1)\n"
     ]
    }
   ],
   "source": [
    "#Topic 1: String Based Assignment problems...question no 44(tuple problems)\n",
    "# Function to reverse elements in a tuple\n",
    "def reverse_tuple(input_tuple):\n",
    "    reversed_tuple = input_tuple[::-1]\n",
    "    return reversed_tuple\n",
    "\n",
    "# Example tuple\n",
    "original_tuple = (1, 2, 3, 4, 5)\n",
    "\n",
    "# Reverse the elements of the tuple\n",
    "reversed_tuple = reverse_tuple(original_tuple)\n",
    "\n",
    "# Print the original and reversed tuples\n",
    "print(\"Original tuple:\", original_tuple)\n",
    "print(\"Reversed tuple:\", reversed_tuple)\n"
   ]
  },
  {
   "cell_type": "code",
   "execution_count": 23,
   "id": "8b416c00-3921-40b5-a72d-13caebab1f19",
   "metadata": {},
   "outputs": [
    {
     "name": "stdout",
     "output_type": "stream",
     "text": [
      "Tuple of the first 5 powers of 2: (1, 2, 4, 8, 16)\n"
     ]
    }
   ],
   "source": [
    "#Topic 1: String Based Assignment problems...question no 45(tuple problems)\n",
    "# Function to generate the first n powers of 2\n",
    "def generate_powers_of_2(n):\n",
    "    powers_of_2 = tuple(2 ** i for i in range(n))\n",
    "    return powers_of_2\n",
    "\n",
    "# Generate a tuple of the first n powers of 2 (let's say n = 5)\n",
    "n = 5\n",
    "powers_tuple = generate_powers_of_2(n)\n",
    "\n",
    "# Print the tuple\n",
    "print(f\"Tuple of the first {n} powers of 2:\", powers_tuple)\n"
   ]
  },
  {
   "cell_type": "code",
   "execution_count": 24,
   "id": "67fbbc7b-0e61-4eab-a1ba-a1e39550c6fd",
   "metadata": {},
   "outputs": [
    {
     "name": "stdout",
     "output_type": "stream",
     "text": [
      "Longest string in the tuple: strawberry\n"
     ]
    }
   ],
   "source": [
    "#Topic 1: String Based Assignment problems...question no 46(tuple problems)\n",
    "# Function to find the longest string in a tuple\n",
    "def longest_string_in_tuple(input_tuple):\n",
    "    longest = \"\"  # Initialize variable to store the longest string\n",
    "    \n",
    "    for string in input_tuple:\n",
    "        if len(string) > len(longest):\n",
    "            longest = string\n",
    "    \n",
    "    return longest\n",
    "\n",
    "# Example tuple of strings\n",
    "strings_tuple = (\"apple\", \"banana\", \"kiwi\", \"orange\", \"strawberry\")\n",
    "\n",
    "# Find the longest string in the tuple\n",
    "longest_string = longest_string_in_tuple(strings_tuple)\n",
    "\n",
    "# Print the longest string\n",
    "print(\"Longest string in the tuple:\", longest_string)\n"
   ]
  },
  {
   "cell_type": "code",
   "execution_count": 25,
   "id": "3edec258-8cd4-4b2b-bc2e-2939ca608942",
   "metadata": {},
   "outputs": [
    {
     "name": "stdout",
     "output_type": "stream",
     "text": [
      "Shortest string in the tuple: kiwi\n"
     ]
    }
   ],
   "source": [
    "#Topic 1: String Based Assignment problems...question no 47(tuple problems)\n",
    "# Function to find the shortest string in a tuple\n",
    "def shortest_string_in_tuple(input_tuple):\n",
    "    shortest = input_tuple[0]  # Initialize variable to store the shortest string\n",
    "    \n",
    "    for string in input_tuple:\n",
    "        if len(string) < len(shortest):\n",
    "            shortest = string\n",
    "    \n",
    "    return shortest\n",
    "\n",
    "# Example tuple of strings\n",
    "strings_tuple = (\"apple\", \"banana\", \"kiwi\", \"orange\", \"strawberry\")\n",
    "\n",
    "# Find the shortest string in the tuple\n",
    "shortest_string = shortest_string_in_tuple(strings_tuple)\n",
    "\n",
    "# Print the shortest string\n",
    "print(\"Shortest string in the tuple:\", shortest_string)\n"
   ]
  },
  {
   "cell_type": "code",
   "execution_count": 26,
   "id": "19b83c6e-c614-4304-9328-a2954bc19bf6",
   "metadata": {},
   "outputs": [
    {
     "name": "stdout",
     "output_type": "stream",
     "text": [
      "Tuple of the first 5 triangular numbers: (1, 3, 6, 10, 15)\n"
     ]
    }
   ],
   "source": [
    "#Topic 1: String Based Assignment problems...question no 48(tuple problems)\n",
    "# Function to generate the first n triangular numbers\n",
    "def generate_triangular_numbers(n):\n",
    "    triangular_numbers = tuple((i * (i + 1)) // 2 for i in range(1, n + 1))\n",
    "    return triangular_numbers\n",
    "\n",
    "# Generate a tuple of the first n triangular numbers (let's say n = 5)\n",
    "n = 5\n",
    "triangular_tuple = generate_triangular_numbers(n)\n",
    "\n",
    "# Print the tuple\n",
    "print(f\"Tuple of the first {n} triangular numbers:\", triangular_tuple)\n"
   ]
  },
  {
   "cell_type": "code",
   "execution_count": 27,
   "id": "5bf985d9-dc75-4dbb-956a-b409a95da261",
   "metadata": {},
   "outputs": [
    {
     "name": "stdout",
     "output_type": "stream",
     "text": [
      "(3, 4, 5) is a subsequence of (1, 2, 3, 4, 5, 6, 7).\n"
     ]
    }
   ],
   "source": [
    "#Topic 1: String Based Assignment problems...question no 49(tuple problems)\n",
    "# Function to check if a tuple contains another tuple as a subsequence\n",
    "def is_subsequence(sub, main):\n",
    "    # Indices for tracking the position in both tuples\n",
    "    sub_index = 0\n",
    "    main_index = 0\n",
    "\n",
    "    # Iterate through the main tuple to find the subsequence\n",
    "    while main_index < len(main) and sub_index < len(sub):\n",
    "        # If elements match, move to the next element in the subsequence\n",
    "        if sub[sub_index] == main[main_index]:\n",
    "            sub_index += 1\n",
    "        main_index += 1\n",
    "\n",
    "    # Check if the subsequence was found completely\n",
    "    return sub_index == len(sub)\n",
    "\n",
    "# Example tuples\n",
    "main_tuple = (1, 2, 3, 4, 5, 6, 7)\n",
    "sub_tuple = (3, 4, 5)\n",
    "\n",
    "# Check if sub_tuple is a subsequence of main_tuple\n",
    "result = is_subsequence(sub_tuple, main_tuple)\n",
    "\n",
    "# Print the result\n",
    "if result:\n",
    "    print(f\"{sub_tuple} is a subsequence of {main_tuple}.\")\n",
    "else:\n",
    "    print(f\"{sub_tuple} is not a subsequence of {main_tuple}.\")\n"
   ]
  },
  {
   "cell_type": "code",
   "execution_count": 28,
   "id": "ea3d61f8-af95-4a6f-a353-3fb12f28a59d",
   "metadata": {},
   "outputs": [
    {
     "name": "stdout",
     "output_type": "stream",
     "text": [
      "Tuple of alternating 1s and 0s of length 8: (1, 0, 1, 0, 1, 0, 1, 0)\n"
     ]
    }
   ],
   "source": [
    "#Topic 1: String Based Assignment problems...question no 50(tuple problems)\n",
    "# Function to create a tuple of alternating 1s and 0s\n",
    "def alternating_ones_zeros(n):\n",
    "    alternating_tuple = tuple(1 if i % 2 == 0 else 0 for i in range(n))\n",
    "    return alternating_tuple\n",
    "\n",
    "# Generate a tuple of alternating 1s and 0s of length n (let's say n = 8)\n",
    "n = 8\n",
    "alternating_sequence = alternating_ones_zeros(n)\n",
    "\n",
    "# Print the tuple\n",
    "print(f\"Tuple of alternating 1s and 0s of length {n}:\", alternating_sequence)\n"
   ]
  },
  {
   "cell_type": "code",
   "execution_count": 29,
   "id": "ccb6f107-c8e0-48ca-9f75-3adb242cd486",
   "metadata": {},
   "outputs": [
    {
     "name": "stdout",
     "output_type": "stream",
     "text": [
      "Set with integers from 1 to 5: {1, 2, 3, 4, 5}\n"
     ]
    }
   ],
   "source": [
    "#Topic 1: String Based Assignment problems...question no 1(set problems)\n",
    "# Create a set using curly braces\n",
    "my_set = {1, 2, 3, 4, 5}\n",
    "\n",
    "# Print the set\n",
    "print(\"Set with integers from 1 to 5:\", my_set)\n"
   ]
  },
  {
   "cell_type": "code",
   "execution_count": 30,
   "id": "155a8ff3-8813-4382-8b60-bb2affd0ec4e",
   "metadata": {},
   "outputs": [
    {
     "name": "stdout",
     "output_type": "stream",
     "text": [
      "Updated set after adding an element: {1, 2, 3, 4, 5, 6}\n"
     ]
    }
   ],
   "source": [
    "#Topic 1: String Based Assignment problems...question no 2(set problems)\n",
    "# Create a set\n",
    "my_set = {1, 2, 3, 4, 5}\n",
    "\n",
    "# Add an element (let's say 6) to the set\n",
    "my_set.add(6)\n",
    "\n",
    "# Print the updated set\n",
    "print(\"Updated set after adding an element:\", my_set)\n"
   ]
  },
  {
   "cell_type": "code",
   "execution_count": 31,
   "id": "02041057-b48f-4029-afe2-1e42b053d979",
   "metadata": {},
   "outputs": [
    {
     "name": "stdout",
     "output_type": "stream",
     "text": [
      "Updated set after removing an element using remove(): {1, 2, 4, 5}\n"
     ]
    }
   ],
   "source": [
    "#Topic 1: String Based Assignment problems...question no 3(set problems)\n",
    "# Create a set\n",
    "my_set = {1, 2, 3, 4, 5}\n",
    "\n",
    "# Remove an element (let's say 3) from the set using remove()\n",
    "my_set.remove(3)\n",
    "\n",
    "# Print the updated set\n",
    "print(\"Updated set after removing an element using remove():\", my_set)\n"
   ]
  },
  {
   "cell_type": "code",
   "execution_count": 32,
   "id": "289549ad-56d9-42d8-9aed-a70a0ae1273b",
   "metadata": {},
   "outputs": [
    {
     "name": "stdout",
     "output_type": "stream",
     "text": [
      "The element 3 exists in the set.\n"
     ]
    }
   ],
   "source": [
    "#Topic 1: String Based Assignment problems...question no 4(set problems)\n",
    "# Create a set\n",
    "my_set = {1, 2, 3, 4, 5}\n",
    "\n",
    "# Check if an element (let's say 3) exists in the set\n",
    "element_to_check = 3\n",
    "if element_to_check in my_set:\n",
    "    print(f\"The element {element_to_check} exists in the set.\")\n",
    "else:\n",
    "    print(f\"The element {element_to_check} does not exist in the set.\")\n"
   ]
  },
  {
   "cell_type": "code",
   "execution_count": 33,
   "id": "72267495-0851-4f36-8da4-8beff8eb23ce",
   "metadata": {},
   "outputs": [
    {
     "name": "stdout",
     "output_type": "stream",
     "text": [
      "Length of the set: 5\n"
     ]
    }
   ],
   "source": [
    "#Topic 1: String Based Assignment problems...question no 5(set problems)\n",
    "# Create a set\n",
    "my_set = {1, 2, 3, 4, 5}\n",
    "\n",
    "# Initialize a counter\n",
    "count = 0\n",
    "\n",
    "# Iterate through the set and count the elements\n",
    "for _ in my_set:\n",
    "    count += 1\n",
    "\n",
    "# Print the length of the set\n",
    "print(\"Length of the set:\", count)\n"
   ]
  },
  {
   "cell_type": "code",
   "execution_count": 34,
   "id": "711f9977-36ea-40f0-8b6a-fe3a62081043",
   "metadata": {},
   "outputs": [
    {
     "name": "stdout",
     "output_type": "stream",
     "text": [
      "Set after clearing all elements: set()\n"
     ]
    }
   ],
   "source": [
    "#Topic 1: String Based Assignment problems...question no 6(set problems)\n",
    "# Create a set\n",
    "my_set = {1, 2, 3, 4, 5}\n",
    "\n",
    "# Clear all elements from the set\n",
    "my_set.clear()\n",
    "\n",
    "# Print the set after clearing\n",
    "print(\"Set after clearing all elements:\", my_set)\n"
   ]
  },
  {
   "cell_type": "code",
   "execution_count": 36,
   "id": "7f874cf0-d21d-4a02-be77-fd2673cdbb75",
   "metadata": {},
   "outputs": [
    {
     "name": "stdout",
     "output_type": "stream",
     "text": [
      "Set of even numbers from 1 to 10: {2, 4, 6, 8, 10}\n"
     ]
    }
   ],
   "source": [
    "# Create a set of even numbers from 1 to 10 using set comprehension\n",
    "even_numbers_set = {x for x in range(1, 11) if x % 2 == 0}\n",
    "\n",
    "# Print the set of even numbers\n",
    "print(\"Set of even numbers from 1 to 10:\", even_numbers_set)\n"
   ]
  },
  {
   "cell_type": "code",
   "execution_count": 37,
   "id": "01438e38-4b1b-4ea4-aa74-65d5cdbe883c",
   "metadata": {},
   "outputs": [
    {
     "name": "stdout",
     "output_type": "stream",
     "text": [
      "Set of odd numbers from 1 to 10: {1, 3, 5, 7, 9}\n"
     ]
    }
   ],
   "source": [
    "#Topic 1: String Based Assignment problems...question no 8(set problems)\n",
    "# Create a set of odd numbers from 1 to 10 using set comprehension\n",
    "odd_numbers_set = {x for x in range(1, 11) if x % 2 != 0}\n",
    "\n",
    "# Print the set of odd numbers\n",
    "print(\"Set of odd numbers from 1 to 10:\", odd_numbers_set)\n"
   ]
  },
  {
   "cell_type": "code",
   "execution_count": 38,
   "id": "1d66cef2-74c9-4adf-a648-4e613be157ac",
   "metadata": {},
   "outputs": [
    {
     "name": "stdout",
     "output_type": "stream",
     "text": [
      "Union of set1 and set2 (using | operator): {1, 2, 3, 4, 5, 6}\n"
     ]
    }
   ],
   "source": [
    "#Topic 1: String Based Assignment problems...question no 9(set problems)\n",
    "# Define two sets\n",
    "set1 = {1, 2, 3, 4}\n",
    "set2 = {3, 4, 5, 6}\n",
    "\n",
    "# Find the union using the | operator\n",
    "union_set = set1 | set2\n",
    "\n",
    "# Print the union set\n",
    "print(\"Union of set1 and set2 (using | operator):\", union_set)\n"
   ]
  },
  {
   "cell_type": "code",
   "execution_count": 39,
   "id": "d2550f08-3ee9-4789-aa9e-ff3743a430b9",
   "metadata": {},
   "outputs": [
    {
     "name": "stdout",
     "output_type": "stream",
     "text": [
      "Intersection of set1 and set2 (using & operator): {3, 4}\n"
     ]
    }
   ],
   "source": [
    "#Topic 1: String Based Assignment problems...question no 10(set problems)\n",
    "\n",
    "# Define two sets\n",
    "set1 = {1, 2, 3, 4}\n",
    "set2 = {3, 4, 5, 6}\n",
    "\n",
    "# Find the intersection using the & operator\n",
    "intersection_set = set1 & set2\n",
    "\n",
    "# Print the intersection set\n",
    "print(\"Intersection of set1 and set2 (using & operator):\", intersection_set)\n"
   ]
  },
  {
   "cell_type": "code",
   "execution_count": 40,
   "id": "304582eb-dd02-4e53-a014-48814a72f0a5",
   "metadata": {},
   "outputs": [
    {
     "name": "stdout",
     "output_type": "stream",
     "text": [
      "Difference between set1 and set2 (using - operator): {1, 2}\n"
     ]
    }
   ],
   "source": [
    "#Topic 1: String Based Assignment problems...question no 11(set problems)\n",
    "# Define two sets\n",
    "set1 = {1, 2, 3, 4}\n",
    "set2 = {3, 4, 5, 6}\n",
    "\n",
    "# Find the difference using the - operator\n",
    "difference_set = set1 - set2\n",
    "\n",
    "# Print the difference set\n",
    "print(\"Difference between set1 and set2 (using - operator):\", difference_set)\n"
   ]
  },
  {
   "cell_type": "code",
   "execution_count": 41,
   "id": "6fc10fbf-0080-4f59-97f8-50be201095f0",
   "metadata": {},
   "outputs": [
    {
     "name": "stdout",
     "output_type": "stream",
     "text": [
      "set1 is a subset of set2\n"
     ]
    }
   ],
   "source": [
    "#Topic 1: String Based Assignment problems...question no 12(set problems)\n",
    "# Define two sets\n",
    "set1 = {1, 2, 3}\n",
    "set2 = {1, 2, 3, 4, 5}\n",
    "\n",
    "# Check if set1 is a subset of set2 using issubset() method\n",
    "is_subset = set1.issubset(set2)\n",
    "\n",
    "# Print the result\n",
    "if is_subset:\n",
    "    print(\"set1 is a subset of set2\")\n",
    "else:\n",
    "    print(\"set1 is not a subset of set2\")\n"
   ]
  },
  {
   "cell_type": "code",
   "execution_count": 42,
   "id": "83e863f6-bd2a-4bf8-92db-80df84ca8221",
   "metadata": {},
   "outputs": [
    {
     "name": "stdout",
     "output_type": "stream",
     "text": [
      "set1 is a superset of set2\n"
     ]
    }
   ],
   "source": [
    "#Topic 1: String Based Assignment problems...question no 13(set problems)\n",
    "# Define two sets\n",
    "set1 = {1, 2, 3, 4, 5}\n",
    "set2 = {1, 2, 3}\n",
    "\n",
    "# Check if set1 is a superset of set2 using issuperset() method\n",
    "is_superset = set1.issuperset(set2)\n",
    "\n",
    "# Print the result\n",
    "if is_superset:\n",
    "    print(\"set1 is a superset of set2\")\n",
    "else:\n",
    "    print(\"set1 is not a superset of set2\")\n"
   ]
  },
  {
   "cell_type": "code",
   "execution_count": 43,
   "id": "f05d70cd-5598-46f4-94a8-96afb15942fb",
   "metadata": {},
   "outputs": [
    {
     "name": "stdout",
     "output_type": "stream",
     "text": [
      "Set from the list: {1, 2, 3, 4, 5}\n"
     ]
    }
   ],
   "source": [
    "#Topic 1: String Based Assignment problems...question no 14(set problems)\n",
    "# Example list\n",
    "my_list = [1, 2, 3, 4, 4, 5, 5]\n",
    "\n",
    "# Convert the list to a set\n",
    "my_set = set(my_list)\n",
    "\n",
    "# Print the resulting set\n",
    "print(\"Set from the list:\", my_set)\n"
   ]
  },
  {
   "cell_type": "code",
   "execution_count": 44,
   "id": "222cd934-8d01-4638-b6a8-2aadeb7cf8c5",
   "metadata": {},
   "outputs": [
    {
     "name": "stdout",
     "output_type": "stream",
     "text": [
      "List from the set: [1, 2, 3, 4, 5]\n"
     ]
    }
   ],
   "source": [
    "#Topic 1: String Based Assignment problems...question no 15(set problems)\n",
    "# Example set\n",
    "my_set = {1, 2, 3, 4, 5}\n",
    "\n",
    "# Convert the set to a list\n",
    "my_list = list(my_set)\n",
    "\n",
    "# Print the resulting list\n",
    "print(\"List from the set:\", my_list)\n"
   ]
  },
  {
   "cell_type": "code",
   "execution_count": 45,
   "id": "6fee1467-0c3e-4bcd-8a16-620ceedb5127",
   "metadata": {},
   "outputs": [
    {
     "name": "stdout",
     "output_type": "stream",
     "text": [
      "Removed element: 1\n",
      "Updated set: {2, 3, 4, 5}\n"
     ]
    }
   ],
   "source": [
    "#Topic 1: String Based Assignment problems...question no 16(set problems)\n",
    "# Example set\n",
    "my_set = {1, 2, 3, 4, 5}\n",
    "\n",
    "# Remove a random element from the set using pop()\n",
    "removed_element = my_set.pop()\n",
    "\n",
    "# Print the removed element and the updated set\n",
    "print(\"Removed element:\", removed_element)\n",
    "print(\"Updated set:\", my_set)\n"
   ]
  },
  {
   "cell_type": "code",
   "execution_count": 46,
   "id": "813458d7-7218-4504-97b5-5977f63bd89f",
   "metadata": {},
   "outputs": [
    {
     "name": "stdout",
     "output_type": "stream",
     "text": [
      "Popped element: 1\n",
      "Updated set: {2, 3, 4, 5}\n"
     ]
    }
   ],
   "source": [
    "#Topic 1: String Based Assignment problems...question no 17(set problems)\n",
    "# Example set\n",
    "my_set = {1, 2, 3, 4, 5}\n",
    "\n",
    "# Pop an element from the set\n",
    "popped_element = my_set.pop()\n",
    "\n",
    "# Print the popped element and the updated set\n",
    "print(\"Popped element:\", popped_element)\n",
    "print(\"Updated set:\", my_set)\n"
   ]
  },
  {
   "cell_type": "code",
   "execution_count": 47,
   "id": "bb8322f0-a28b-4185-8a7b-0e9d3ecc5d53",
   "metadata": {},
   "outputs": [
    {
     "name": "stdout",
     "output_type": "stream",
     "text": [
      "The sets have no elements in common\n"
     ]
    }
   ],
   "source": [
    "#Topic 1: String Based Assignment problems...question no 18(set problems)\n",
    "# Example sets\n",
    "set1 = {1, 2, 3}\n",
    "set2 = {4, 5, 6}\n",
    "\n",
    "# Check if the sets have no elements in common using isdisjoint()\n",
    "no_common_elements = set1.isdisjoint(set2)\n",
    "\n",
    "# Print the result\n",
    "if no_common_elements:\n",
    "    print(\"The sets have no elements in common\")\n",
    "else:\n",
    "    print(\"The sets have elements in common\")\n"
   ]
  },
  {
   "cell_type": "code",
   "execution_count": 48,
   "id": "26d61a40-952e-4116-a359-da2df1ea0891",
   "metadata": {},
   "outputs": [
    {
     "name": "stdout",
     "output_type": "stream",
     "text": [
      "Symmetric difference between set1 and set2 (using method): {1, 2, 5, 6}\n"
     ]
    }
   ],
   "source": [
    "#Topic 1: String Based Assignment problems...question no 19(set problems)\n",
    "# Example sets\n",
    "set1 = {1, 2, 3, 4}\n",
    "set2 = {3, 4, 5, 6}\n",
    "\n",
    "# Find the symmetric difference using symmetric_difference() method\n",
    "symmetric_diff = set1.symmetric_difference(set2)\n",
    "\n",
    "# Print the symmetric difference set\n",
    "print(\"Symmetric difference between set1 and set2 (using method):\", symmetric_diff)\n"
   ]
  },
  {
   "cell_type": "code",
   "execution_count": 1,
   "id": "53ecc64b-04a2-4057-97f0-3fb0d9bc7909",
   "metadata": {},
   "outputs": [
    {
     "name": "stdout",
     "output_type": "stream",
     "text": [
      "Updated set1: {1, 2, 3, 4, 5}\n"
     ]
    }
   ],
   "source": [
    "#Topic 1: String Based Assignment problems...question no 20(set problems)\n",
    "# Example sets\n",
    "set1 = {1, 2, 3}\n",
    "set2 = {3, 4, 5}\n",
    "\n",
    "# Update set1 with elements from set2 using update() method\n",
    "set1.update(set2)\n",
    "\n",
    "# Print the updated set1\n",
    "print(\"Updated set1:\", set1)\n"
   ]
  },
  {
   "cell_type": "code",
   "execution_count": 2,
   "id": "71d7deac-73ef-4a1e-b072-d1d1429422b3",
   "metadata": {},
   "outputs": [
    {
     "name": "stdout",
     "output_type": "stream",
     "text": [
      "Set of the first 5 prime numbers: {2, 3, 5, 7, 11}\n"
     ]
    }
   ],
   "source": [
    "#Topic 1: String Based Assignment problems...question no 21(set problems)\n",
    "# Function to check if a number is prime\n",
    "def is_prime(num):\n",
    "    if num < 2:\n",
    "        return False\n",
    "    for i in range(2, int(num ** 0.5) + 1):\n",
    "        if num % i == 0:\n",
    "            return False\n",
    "    return True\n",
    "\n",
    "# Initialize an empty set for the first 5 prime numbers\n",
    "prime_set = set()\n",
    "\n",
    "# Counter for prime numbers\n",
    "count = 0\n",
    "number = 2  # Starting from 2\n",
    "\n",
    "# Find the first 5 prime numbers and add them to the set\n",
    "while count < 5:\n",
    "    if is_prime(number):\n",
    "        prime_set.add(number)\n",
    "        count += 1\n",
    "    number += 1\n",
    "\n",
    "# Print the set of the first 5 prime numbers\n",
    "print(\"Set of the first 5 prime numbers:\", prime_set)\n"
   ]
  },
  {
   "cell_type": "code",
   "execution_count": 3,
   "id": "82e7a685-fe52-45a9-bdc0-1b4ea0abb2cc",
   "metadata": {},
   "outputs": [
    {
     "name": "stdout",
     "output_type": "stream",
     "text": [
      "The sets are identical\n"
     ]
    }
   ],
   "source": [
    "#Topic 1: String Based Assignment problems...question no 22(set problems)\n",
    "# Example sets\n",
    "set1 = {1, 2, 3}\n",
    "set2 = {3, 2, 1}\n",
    "\n",
    "# Check if the sets are identical using the equality operator\n",
    "if set1 == set2:\n",
    "    print(\"The sets are identical\")\n",
    "else:\n",
    "    print(\"The sets are not identical\")\n"
   ]
  },
  {
   "cell_type": "code",
   "execution_count": 4,
   "id": "3e9fea1f-0ea4-4d44-913f-6f806f8c326f",
   "metadata": {},
   "outputs": [
    {
     "name": "stdout",
     "output_type": "stream",
     "text": [
      "Frozen set: frozenset({1, 2, 3, 4})\n"
     ]
    }
   ],
   "source": [
    "#Topic 1: String Based Assignment problems...question no 23(set problems)\n",
    "# Create a regular set\n",
    "my_set = {1, 2, 3, 4}\n",
    "\n",
    "# Convert the set to a frozen set using frozenset()\n",
    "frozen_set = frozenset(my_set)\n",
    "\n",
    "# Print the frozen set\n",
    "print(\"Frozen set:\", frozen_set)\n"
   ]
  },
  {
   "cell_type": "code",
   "execution_count": 3,
   "id": "1b6f8931-c557-41a3-a386-f5011363a0d1",
   "metadata": {},
   "outputs": [
    {
     "name": "stdout",
     "output_type": "stream",
     "text": [
      "The sets are disjoint (have no common elements)\n"
     ]
    }
   ],
   "source": [
    "#Topic 1: String Based Assignment problems...question no 24(set problems)\n",
    "# Example sets\n",
    "set1 = {1, 2, 3}\n",
    "set2 = {4, 5, 6}\n",
    "\n",
    "# Check if the sets are disjoint using isdisjoint()\n",
    "if set1.isdisjoint(set2):\n",
    "    print(\"The sets are disjoint (have no common elements)\")\n",
    "else:\n",
    "    print(\"The sets are not disjoint (have common elements)\")\n"
   ]
  },
  {
   "cell_type": "code",
   "execution_count": 2,
   "id": "7995a748-2eec-4b7c-823b-c0a65f1b7988",
   "metadata": {},
   "outputs": [
    {
     "name": "stdout",
     "output_type": "stream",
     "text": [
      "Set of squares: {1, 4, 9, 16, 25}\n"
     ]
    }
   ],
   "source": [
    "#Topic 1: String Based Assignment problems...question no 25(set problems)\n",
    "# Using a set comprehension to create a set of squares\n",
    "squares_set = {x ** 2 for x in range(1, 6)}\n",
    "\n",
    "# Print the set of squares\n",
    "print(\"Set of squares:\", squares_set)\n"
   ]
  },
  {
   "cell_type": "code",
   "execution_count": 4,
   "id": "b1d4ca9c-0b3f-40e7-a6fd-f7c98b68e667",
   "metadata": {},
   "outputs": [
    {
     "name": "stdout",
     "output_type": "stream",
     "text": [
      "Filtered set (odd numbers only): {1, 3, 5, 7, 9}\n"
     ]
    }
   ],
   "source": [
    "#Topic 1: String Based Assignment problems...question no 26(set problems)\n",
    "# Example set\n",
    "my_set = {1, 2, 3, 4, 5, 6, 7, 8, 9, 10}\n",
    "\n",
    "# Filter out even numbers using a set comprehension\n",
    "filtered_set = {x for x in my_set if x % 2 != 0}\n",
    "\n",
    "# Print the filtered set (containing only odd numbers)\n",
    "print(\"Filtered set (odd numbers only):\", filtered_set)\n"
   ]
  },
  {
   "cell_type": "code",
   "execution_count": 5,
   "id": "763b82aa-13a8-4356-a72c-3c19f2a4ece8",
   "metadata": {},
   "outputs": [
    {
     "name": "stdout",
     "output_type": "stream",
     "text": [
      "Set with elements multiplied by 2: {2, 4, 6, 8, 10}\n"
     ]
    }
   ],
   "source": [
    "#Topic 1: String Based Assignment problems...question no 27(set problems)\n",
    "# Example set\n",
    "my_set = {1, 2, 3, 4, 5}\n",
    "\n",
    "# Convert the set to a list, multiply each element by 2, and convert it back to a set\n",
    "result_set = set(x * 2 for x in my_set)\n",
    "\n",
    "# Print the resulting set with elements multiplied by 2\n",
    "print(\"Set with elements multiplied by 2:\", result_set)\n"
   ]
  },
  {
   "cell_type": "code",
   "execution_count": 6,
   "id": "5041c74c-c0c2-4c98-b34b-0e8bbc5fa4db",
   "metadata": {},
   "outputs": [
    {
     "name": "stdout",
     "output_type": "stream",
     "text": [
      "Set of random numbers: {8, 15, 16, 17, 18}\n"
     ]
    }
   ],
   "source": [
    "#Topic 1: String Based Assignment problems...question no 28(set problems)\n",
    "import random\n",
    "\n",
    "# Generate a set of 5 random integers between 1 and 20\n",
    "random_set = set(random.sample(range(1, 21), 5))\n",
    "\n",
    "# Print the set of random numbers\n",
    "print(\"Set of random numbers:\", random_set)\n"
   ]
  },
  {
   "cell_type": "code",
   "execution_count": 7,
   "id": "cfeb6628-30ce-48fb-9a3b-6a8c902ae267",
   "metadata": {},
   "outputs": [
    {
     "name": "stdout",
     "output_type": "stream",
     "text": [
      "The set is empty\n"
     ]
    }
   ],
   "source": [
    "#Topic 1: String Based Assignment problems...question no 29(set problems)\n",
    "# Example set\n",
    "my_set = set()\n",
    "\n",
    "# Check if the set is empty using the bool() function\n",
    "if not bool(my_set):\n",
    "    print(\"The set is empty\")\n",
    "else:\n",
    "    print(\"The set is not empty\")\n"
   ]
  },
  {
   "cell_type": "code",
   "execution_count": 8,
   "id": "bd547976-2e65-4c93-b4b3-915caa95ecae",
   "metadata": {},
   "outputs": [
    {
     "name": "stdout",
     "output_type": "stream",
     "text": [
      "Nested set: frozenset({frozenset({3, 4}), frozenset({1, 2})})\n"
     ]
    }
   ],
   "source": [
    "#Topic 1: String Based Assignment problems...question no 30(set problems)\n",
    "# Creating a nested set using frozenset\n",
    "nested_set = frozenset({frozenset({1, 2}), frozenset({3, 4})})\n",
    "print(\"Nested set:\", nested_set)\n"
   ]
  },
  {
   "cell_type": "code",
   "execution_count": 9,
   "id": "194647bf-e1eb-4026-9a18-707dfddcc811",
   "metadata": {},
   "outputs": [
    {
     "name": "stdout",
     "output_type": "stream",
     "text": [
      "Set after removing element: {1, 2, 4, 5}\n"
     ]
    }
   ],
   "source": [
    "#Topic 1: String Based Assignment problems...question no 31(set problems)\n",
    "# Example set\n",
    "my_set = {1, 2, 3, 4, 5}\n",
    "\n",
    "# Removing an element from the set using discard\n",
    "my_set.discard(3)\n",
    "print(\"Set after removing element:\", my_set)\n"
   ]
  },
  {
   "cell_type": "code",
   "execution_count": 10,
   "id": "9652d438-7a3a-455d-b402-bda4fe7a3565",
   "metadata": {},
   "outputs": [
    {
     "name": "stdout",
     "output_type": "stream",
     "text": [
      "The sets are not equal\n"
     ]
    }
   ],
   "source": [
    "#Topic 1: String Based Assignment problems...question no 32(set problems)\n",
    "# Example sets\n",
    "set1 = {1, 2, 3}\n",
    "set2 = {3, 4, 5}\n",
    "\n",
    "# Comparing sets using comparison operators\n",
    "if set1 == set2:\n",
    "    print(\"The sets are equal\")\n",
    "else:\n",
    "    print(\"The sets are not equal\")\n"
   ]
  },
  {
   "cell_type": "code",
   "execution_count": 11,
   "id": "c222a3ea-d1fa-49cd-bfc6-e7f48b2b8f24",
   "metadata": {},
   "outputs": [
    {
     "name": "stdout",
     "output_type": "stream",
     "text": [
      "Set from string: {'h', 'l', 'e', 'o'}\n"
     ]
    }
   ],
   "source": [
    "#Topic 1: String Based Assignment problems...question no 33(set problems)\n",
    "# Creating a set from a string\n",
    "string = \"hello\"\n",
    "string_set = set(string)\n",
    "print(\"Set from string:\", string_set)\n"
   ]
  },
  {
   "cell_type": "code",
   "execution_count": 13,
   "id": "205b45a7-1832-41e3-8d50-bbc866135120",
   "metadata": {},
   "outputs": [
    {
     "name": "stdout",
     "output_type": "stream",
     "text": [
      "Set of integers: {1, 2, 3, 4}\n"
     ]
    }
   ],
   "source": [
    "#Topic 1: String Based Assignment problems...question no 34(set problems)\n",
    "# Set of strings\n",
    "string_set = {\"1\", \"2\", \"3\", \"4\"}\n",
    "\n",
    "# Convert strings to integers using map and set comprehension\n",
    "int_set = {int(num) for num in string_set}\n",
    "print(\"Set of integers:\", int_set)\n"
   ]
  },
  {
   "cell_type": "code",
   "execution_count": 14,
   "id": "ebe26df7-8862-4b7c-85fe-b6bf5286d7d8",
   "metadata": {},
   "outputs": [
    {
     "name": "stdout",
     "output_type": "stream",
     "text": [
      "Set of strings: {'1', '3', '2', '4'}\n"
     ]
    }
   ],
   "source": [
    "#Topic 1: String Based Assignment problems...question no 35(set problems)\n",
    "# Set of integers\n",
    "int_set = {1, 2, 3, 4}\n",
    "\n",
    "# Convert integers to strings using map and set comprehension\n",
    "string_set = {str(num) for num in int_set}\n",
    "print(\"Set of strings:\", string_set)\n"
   ]
  },
  {
   "cell_type": "code",
   "execution_count": 16,
   "id": "0d0d2fee-6af2-454c-b7a7-0c379abd9c69",
   "metadata": {},
   "outputs": [
    {
     "name": "stdout",
     "output_type": "stream",
     "text": [
      "Set of strings: {'1', '3', '2', '4'}\n"
     ]
    }
   ],
   "source": [
    "#Topic 1: String Based Assignment problems...question no 36(set problems)\n",
    "# Set of integers\n",
    "int_set = {1, 2, 3, 4}\n",
    "\n",
    "# Convert integers to strings using map and set comprehension\n",
    "string_set = {str(num) for num in int_set}\n",
    "print(\"Set of strings:\", string_set)\n"
   ]
  },
  {
   "cell_type": "code",
   "execution_count": 17,
   "id": "9c092021-e278-432f-ad55-16a5126ced20",
   "metadata": {},
   "outputs": [
    {
     "name": "stdout",
     "output_type": "stream",
     "text": [
      "Set from tuple: {1, 2, 3, 4, 5}\n"
     ]
    }
   ],
   "source": [
    "#Topic 1: String Based Assignment problems...question no 37(set problems)\n",
    "# Creating a set from a tuple\n",
    "my_tuple = (1, 2, 3, 4, 5)\n",
    "tuple_set = set(my_tuple)\n",
    "print(\"Set from tuple:\", tuple_set)\n"
   ]
  },
  {
   "cell_type": "code",
   "execution_count": 18,
   "id": "dba34489-16ba-4334-84f8-3c56ce98b9ce",
   "metadata": {},
   "outputs": [
    {
     "name": "stdout",
     "output_type": "stream",
     "text": [
      "Maximum value in the set: 12\n"
     ]
    }
   ],
   "source": [
    "#Topic 1: String Based Assignment problems...question no 38(set problems)\n",
    "# Example set\n",
    "my_set = {10, 5, 8, 3, 12}\n",
    "\n",
    "# Find the maximum value using the max function\n",
    "max_value = max(my_set)\n",
    "print(\"Maximum value in the set:\", max_value)\n"
   ]
  },
  {
   "cell_type": "code",
   "execution_count": 19,
   "id": "528629e7-2542-40da-9a35-edc53f51dab4",
   "metadata": {},
   "outputs": [
    {
     "name": "stdout",
     "output_type": "stream",
     "text": [
      "Minimum value in the set: 3\n"
     ]
    }
   ],
   "source": [
    "#Topic 1: String Based Assignment problems...question no 39(set problems)\n",
    "# Example set\n",
    "my_set = {10, 5, 8, 3, 12}\n",
    "\n",
    "# Find the minimum value using the min function\n",
    "min_value = min(my_set)\n",
    "print(\"Minimum value in the set:\", min_value)\n"
   ]
  },
  {
   "cell_type": "code",
   "execution_count": 20,
   "id": "e16053df-fe51-4aeb-a67b-065c81af6421",
   "metadata": {},
   "outputs": [
    {
     "name": "stdin",
     "output_type": "stream",
     "text": [
      "Enter elements separated by spaces:  2 5 7 1 5\n"
     ]
    },
    {
     "name": "stdout",
     "output_type": "stream",
     "text": [
      "Set from user input: {'1', '7', '2', '5'}\n"
     ]
    }
   ],
   "source": [
    "#Topic 1: String Based Assignment problems...question no 40(set problems)\n",
    "# Creating a set from user input\n",
    "user_input = input(\"Enter elements separated by spaces: \")\n",
    "user_set = set(user_input.split())\n",
    "print(\"Set from user input:\", user_set)\n"
   ]
  },
  {
   "cell_type": "code",
   "execution_count": 21,
   "id": "b4d5d63b-c95a-4cb9-bc81-fcc47665ec03",
   "metadata": {},
   "outputs": [
    {
     "name": "stdout",
     "output_type": "stream",
     "text": [
      "The intersection is empty\n"
     ]
    }
   ],
   "source": [
    "#Topic 1: String Based Assignment problems...question no 41(set problems)\n",
    "# Example sets\n",
    "set1 = {1, 2, 3}\n",
    "set2 = {4, 5, 6}\n",
    "\n",
    "# Check if the intersection is empty\n",
    "if set1.isdisjoint(set2):\n",
    "    print(\"The intersection is empty\")\n",
    "else:\n",
    "    intersection = set1.intersection(set2)\n",
    "    print(\"Intersection:\", intersection)\n"
   ]
  },
  {
   "cell_type": "code",
   "execution_count": 22,
   "id": "cdb001c9-4f4b-4d1e-ac07-5b8c811ce3e5",
   "metadata": {},
   "outputs": [
    {
     "name": "stdout",
     "output_type": "stream",
     "text": [
      "Set of the first 5 Fibonacci numbers: {0, 1, 2, 3}\n"
     ]
    }
   ],
   "source": [
    "#Topic 1: String Based Assignment problems...question no 42(set problems)\n",
    "# Function to generate the first n Fibonacci numbers\n",
    "def generate_fibonacci(n):\n",
    "    fibonacci_set = {0, 1}\n",
    "    a, b = 0, 1\n",
    "    for _ in range(n - 2):  # Generating n - 2 more numbers to make it a total of n numbers\n",
    "        a, b = b, a + b\n",
    "        fibonacci_set.add(b)\n",
    "    return fibonacci_set\n",
    "\n",
    "# Create a set of the first 5 Fibonacci numbers\n",
    "first_5_fibonacci = generate_fibonacci(5)\n",
    "print(\"Set of the first 5 Fibonacci numbers:\", first_5_fibonacci)\n"
   ]
  },
  {
   "cell_type": "code",
   "execution_count": 23,
   "id": "a166afec-4f2f-4426-a7e5-ffbfe020892c",
   "metadata": {},
   "outputs": [
    {
     "name": "stdout",
     "output_type": "stream",
     "text": [
      "List after removing duplicates: [1, 2, 3, 4, 5]\n"
     ]
    }
   ],
   "source": [
    "#Topic 1: String Based Assignment problems...question no 43(set problems)\n",
    "# Example list with duplicates\n",
    "my_list = [1, 2, 2, 3, 4, 4, 5, 5]\n",
    "\n",
    "# Remove duplicates using set and converting back to list\n",
    "unique_list = list(set(my_list))\n",
    "print(\"List after removing duplicates:\", unique_list)\n"
   ]
  },
  {
   "cell_type": "code",
   "execution_count": 24,
   "id": "a5953aaa-7401-406e-bd27-c60be92ec2a9",
   "metadata": {},
   "outputs": [
    {
     "name": "stdout",
     "output_type": "stream",
     "text": [
      "Both sets have the same elements\n"
     ]
    }
   ],
   "source": [
    "#Topic 1: String Based Assignment problems...question no 44(set problems)\n",
    "# Example sets\n",
    "set1 = {1, 2, 3, 4}\n",
    "set2 = {4, 3, 2, 1, 1}\n",
    "\n",
    "# Check if sets have the same elements regardless of their count\n",
    "if set1 == set2:\n",
    "    print(\"Both sets have the same elements\")\n",
    "else:\n",
    "    print(\"Sets have different elements\")\n"
   ]
  },
  {
   "cell_type": "code",
   "execution_count": 25,
   "id": "010e43ec-1aac-4bd7-90c3-8765a20113dc",
   "metadata": {},
   "outputs": [
    {
     "name": "stdout",
     "output_type": "stream",
     "text": [
      "Set of the first 5 powers of 2: {1, 2, 4, 8, 16}\n"
     ]
    }
   ],
   "source": [
    "#Topic 1: String Based Assignment problems...question no 45(set problems)\n",
    "# Function to generate the first n powers of 2\n",
    "def powers_of_2(n):\n",
    "    powers_set = {2 ** i for i in range(n)}\n",
    "    return powers_set\n",
    "\n",
    "# Create a set of the first 5 powers of 2\n",
    "first_5_powers = powers_of_2(5)\n",
    "print(\"Set of the first 5 powers of 2:\", first_5_powers)\n"
   ]
  },
  {
   "cell_type": "code",
   "execution_count": 26,
   "id": "19f1cdeb-6250-4a6f-b66e-253e3f6b3619",
   "metadata": {},
   "outputs": [
    {
     "name": "stdout",
     "output_type": "stream",
     "text": [
      "Common elements: {3, 4, 5}\n"
     ]
    }
   ],
   "source": [
    "#Topic 1: String Based Assignment problems...question no 46(set problems)\n",
    "# Example set and list\n",
    "my_set = {1, 2, 3, 4, 5}\n",
    "my_list = [3, 4, 5, 6, 7]\n",
    "\n",
    "# Find common elements between set and list using intersection\n",
    "common_elements = my_set.intersection(my_list)\n",
    "print(\"Common elements:\", common_elements)\n"
   ]
  },
  {
   "cell_type": "code",
   "execution_count": 27,
   "id": "0755d101-3329-4dc4-b95a-8ce896b0a2fa",
   "metadata": {},
   "outputs": [
    {
     "name": "stdout",
     "output_type": "stream",
     "text": [
      "Set of the first 5 triangular numbers: {1, 3, 6, 10, 15}\n"
     ]
    }
   ],
   "source": [
    "#Topic 1: String Based Assignment problems...question no 47(set problems)\n",
    "# Function to generate the first n triangular numbers\n",
    "def generate_triangular_numbers(n):\n",
    "    triangular_set = set()\n",
    "    for i in range(1, n + 1):\n",
    "        triangular_set.add(i * (i + 1) // 2)\n",
    "    return triangular_set\n",
    "\n",
    "# Create a set of the first 5 triangular numbers\n",
    "first_5_triangular = generate_triangular_numbers(5)\n",
    "print(\"Set of the first 5 triangular numbers:\", first_5_triangular)\n"
   ]
  },
  {
   "cell_type": "code",
   "execution_count": 28,
   "id": "fb6942bb-bc17-4f8e-8d2d-0610fc9908e2",
   "metadata": {},
   "outputs": [
    {
     "name": "stdout",
     "output_type": "stream",
     "text": [
      "set2 is a subset of set1\n"
     ]
    }
   ],
   "source": [
    "#Topic 1: String Based Assignment problems...question no 48(set problems)\n",
    "# Example sets\n",
    "set1 = {1, 2, 3, 4, 5}\n",
    "set2 = {3, 4}\n",
    "\n",
    "# Check if set2 is a subset of set1\n",
    "if set2.issubset(set1):\n",
    "    print(\"set2 is a subset of set1\")\n",
    "else:\n",
    "    print(\"set2 is not a subset of set1\")\n"
   ]
  },
  {
   "cell_type": "code",
   "execution_count": null,
   "id": "35dfae22-a244-42f9-bd29-b9dcaba6e599",
   "metadata": {},
   "outputs": [],
   "source": [
    "#Topic 1: String Based Assignment problems...question no 49(set problems)\n"
   ]
  }
 ],
 "metadata": {
  "kernelspec": {
   "display_name": "Python 3 (ipykernel)",
   "language": "python",
   "name": "python3"
  },
  "language_info": {
   "codemirror_mode": {
    "name": "ipython",
    "version": 3
   },
   "file_extension": ".py",
   "mimetype": "text/x-python",
   "name": "python",
   "nbconvert_exporter": "python",
   "pygments_lexer": "ipython3",
   "version": "3.10.8"
  }
 },
 "nbformat": 4,
 "nbformat_minor": 5
}
